{
 "cells": [
  {
   "cell_type": "markdown",
   "id": "123456",
   "metadata": {},
   "source": [
    "<div style=\"text-align:left;font-size:2em\"><span style=\"font-weight:bolder;font-size:1.25em\">SP2273 | Learning Portfolio</span><br><br><span style=\"font-weight:bold;color:darkred\">Using Jupyter (Need), Exercises</span></div>"
   ]
  },
  {
   "cell_type": "markdown",
   "id": "8675fa01",
   "metadata": {},
   "source": [
    "# Exercise 1"
   ]
  },
  {
   "cell_type": "markdown",
   "id": "596c8aa2",
   "metadata": {},
   "source": [
    "## Quadratic Equations"
   ]
  },
  {
   "cell_type": "markdown",
   "id": "78c1eeb4",
   "metadata": {},
   "source": [
    "### Introduction"
   ]
  },
  {
   "cell_type": "markdown",
   "id": "435a2200",
   "metadata": {},
   "source": [
    "\n",
    "# Your code here\n",
    "![](https://upload.wikimedia.org/wikipedia/commons/thumb/f/f8/Polynomialdeg2.svg/1024px-Polynomialdeg2.svg.png)\n",
    "The general form of a quadratic equation is:\n",
    "$$ ax^2 + bx + c = 0 $$\n"
   ]
  },
  {
   "cell_type": "markdown",
   "id": "1863e075",
   "metadata": {},
   "source": [
    "### Solutions"
   ]
  },
  {
   "cell_type": "markdown",
   "id": "3c30d006",
   "metadata": {},
   "source": [
    "\n",
    "Provided $ a \\ne b $, we can use an elementary algebraic method called completeing the square to show that a quadratic equation has the following solution:\n",
    "$$ \n",
    "    x = \\dfrac{-b \\pm \\sqrt{b^2 - 4ac}}{2a}\n",
    "$$\n"
   ]
  },
  {
   "cell_type": "markdown",
   "id": "fa830825",
   "metadata": {},
   "source": [
    "### Discriminant"
   ]
  },
  {
   "cell_type": "markdown",
   "id": "c0309cea",
   "metadata": {},
   "source": [
    "The quantity $ \\Delta = b^2 - 4ac $ is called the discriminant of the equation and decides the nature of its solutions. The table below shows the various possibilities.\n",
    "| Discriminant             | Roots                               |\n",
    "|:------------------------:| :----------------------------------:|\n",
    "|$$ \\Delta = b^2 - 4ac = 0 $$| A single solution of $ -b/(2a)$     |\n",
    "|$ \\Delta = b^2 - 4ac > 0 $| Two distinct solutions              |\n",
    "|$ \\Delta = b^2 - 4ac < 0 $| No real solutions; both are complex.|\n"
   ]
  },
  {
   "cell_type": "markdown",
   "id": "53cfe1b1",
   "metadata": {},
   "source": [
    "# Excerise 2"
   ]
  },
  {
   "cell_type": "markdown",
   "id": "91243b02",
   "metadata": {},
   "source": [
    "1. What is a **Git** repository?\n",
    "\n",
    "Answer: A Git repository is a storage structure that tracks file changes, storing history, branches, and facilitating collaborative code management. (Branches are to separate different streams of work which later on can be merged back for a comprehensive flow)"
   ]
  },
  {
   "cell_type": "markdown",
   "id": "f1462393",
   "metadata": {},
   "source": [
    "2. Git keeps track of __ BLANK __ in the files in our repository."
   ]
  },
  {
   "cell_type": "markdown",
   "id": "6d716e01",
   "metadata": {},
   "source": [
    "Git keeps track of **changes** in the files in our repository."
   ]
  },
  {
   "cell_type": "markdown",
   "id": "c8ffa882",
   "metadata": {},
   "source": [
    "3. What is a **commit**?\n",
    "\n",
    "Answer: ~~**Commit** is updating our changes in the local disks to our GitHub so that it can be seen publicly.~~\n",
    "\n",
    "**Commit** is recording the changes in our files."
   ]
  },
  {
   "cell_type": "markdown",
   "id": "795851f1",
   "metadata": {},
   "source": [
    "4. What is a **push**?\n",
    "\n",
    "Answer: **Push** is loading our committed changes to our GitHub"
   ]
  },
  {
   "cell_type": "markdown",
   "id": "e1e65f2a",
   "metadata": {},
   "source": [
    "5. What is a **pull**?\n",
    "\n",
    "Answer: **Pull** is downloading the changes made online in GitHub to our local disks."
   ]
  },
  {
   "cell_type": "markdown",
   "id": "335f7f58",
   "metadata": {},
   "source": [
    "6. What is the difference between **GitHub** and **Github Desktop**?\n",
    "\n",
    "Answer: **GitHub** is a website to store and collaborate on code. GitHub Desktop is a computer program that makes it easier to work with code stored on GitHub. GitHub is online, while GitHub Desktop is a program you install on your computer."
   ]
  }
 ],
 "metadata": {
  "kernelspec": {
   "display_name": "Python 3 (ipykernel)",
   "language": "python",
   "name": "python3"
  },
  "language_info": {
   "codemirror_mode": {
    "name": "ipython",
    "version": 3
   },
   "file_extension": ".py",
   "mimetype": "text/x-python",
   "name": "python",
   "nbconvert_exporter": "python",
   "pygments_lexer": "ipython3",
   "version": "3.8.8"
  },
  "toc": {
   "base_numbering": 1,
   "nav_menu": {},
   "number_sections": true,
   "sideBar": true,
   "skip_h1_title": false,
   "title_cell": "Table of Contents",
   "title_sidebar": "Contents",
   "toc_cell": false,
   "toc_position": {},
   "toc_section_display": true,
   "toc_window_display": false
  },
  "vscode": {
   "interpreter": {
    "hash": "31f2aee4e71d21fbe5cf8b01ff0e069b9275f58929596ceb00d14d90e3e16cd6"
   }
  }
 },
 "nbformat": 4,
 "nbformat_minor": 5
}
