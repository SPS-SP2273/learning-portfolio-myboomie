{
 "cells": [
  {
   "cell_type": "markdown",
   "id": "123456",
   "metadata": {},
   "source": [
    "<div style=\"text-align:left;font-size:2em\"><span style=\"font-weight:bolder;font-size:1.25em\">SP2273 | Learning Portfolio</span><br><br><span style=\"font-weight:bold;color:darkred\">Using Jupyter (Good), Exercises</span></div>"
   ]
  },
  {
   "cell_type": "markdown",
   "id": "c3e94855",
   "metadata": {},
   "source": [
    "# Exercise 1"
   ]
  },
  {
   "cell_type": "code",
   "execution_count": 1,
   "id": "3bdf20ed",
   "metadata": {},
   "outputs": [],
   "source": [
    "# while True:\n",
    "#     print('*', end='')"
   ]
  },
  {
   "cell_type": "markdown",
   "id": "23f8707f",
   "metadata": {},
   "source": [
    "Observation: the `while` loop runs on forever and overflows the memory because the `True` condition is always true. Hence,the following `print('*', end='')` will keep running.\n",
    "\n",
    "To stop this infinite loop, we will press the square-like button beside the `Run` button to stop the code."
   ]
  },
  {
   "cell_type": "markdown",
   "id": "5488c84c",
   "metadata": {},
   "source": [
    "# Exercise 2"
   ]
  },
  {
   "cell_type": "code",
   "execution_count": 2,
   "id": "180b8f72",
   "metadata": {},
   "outputs": [],
   "source": [
    "# print = 'PRINT'"
   ]
  },
  {
   "cell_type": "code",
   "execution_count": 1,
   "id": "53aa632a",
   "metadata": {},
   "outputs": [
    {
     "name": "stdout",
     "output_type": "stream",
     "text": [
      "Hello World\n"
     ]
    }
   ],
   "source": [
    "print('Hello World')"
   ]
  },
  {
   "cell_type": "markdown",
   "id": "3b3386f1",
   "metadata": {},
   "source": [
    "<ins> **Note**:<ins>\n",
    "    \n",
    "Assigning `print = 'PRINT'` in Python overwrites the built-in `print` function with a string, causing a TypeError when attempting to use it as a function afterwards."
   ]
  },
  {
   "cell_type": "code",
   "execution_count": null,
   "id": "b88d00e4",
   "metadata": {},
   "outputs": [],
   "source": []
  }
 ],
 "metadata": {
  "kernelspec": {
   "display_name": "Python 3 (ipykernel)",
   "language": "python",
   "name": "python3"
  },
  "language_info": {
   "codemirror_mode": {
    "name": "ipython",
    "version": 3
   },
   "file_extension": ".py",
   "mimetype": "text/x-python",
   "name": "python",
   "nbconvert_exporter": "python",
   "pygments_lexer": "ipython3",
   "version": "3.8.8"
  },
  "toc": {
   "base_numbering": 1,
   "nav_menu": {},
   "number_sections": true,
   "sideBar": true,
   "skip_h1_title": false,
   "title_cell": "Table of Contents",
   "title_sidebar": "Contents",
   "toc_cell": false,
   "toc_position": {},
   "toc_section_display": true,
   "toc_window_display": false
  },
  "vscode": {
   "interpreter": {
    "hash": "31f2aee4e71d21fbe5cf8b01ff0e069b9275f58929596ceb00d14d90e3e16cd6"
   }
  }
 },
 "nbformat": 4,
 "nbformat_minor": 5
}
