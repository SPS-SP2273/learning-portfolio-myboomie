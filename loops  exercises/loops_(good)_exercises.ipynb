{
 "cells": [
  {
   "cell_type": "markdown",
   "id": "123456",
   "metadata": {},
   "source": [
    "<div style=\"text-align:left;font-size:2em\"><span style=\"font-weight:bolder;font-size:1.25em\">SP2273 | Learning Portfolio</span><br><br><span style=\"font-weight:bold;color:darkred\">Loops (Good) Exercises</span></div>"
   ]
  },
  {
   "cell_type": "markdown",
   "id": "e478607c",
   "metadata": {},
   "source": [
    "# Exercise 1"
   ]
  },
  {
   "cell_type": "code",
   "execution_count": 3,
   "id": "969f48bf",
   "metadata": {},
   "outputs": [
    {
     "name": "stdout",
     "output_type": "stream",
     "text": [
      "1\n",
      "9\n",
      "25\n",
      "49\n",
      "81\n"
     ]
    }
   ],
   "source": [
    "for i in range(10):\n",
    "    if not i % 2:\n",
    "        continue\n",
    "    print(i**2)"
   ]
  },
  {
   "cell_type": "markdown",
   "id": "3d03bbc5",
   "metadata": {},
   "source": [
    "# Exercise 2"
   ]
  },
  {
   "cell_type": "code",
   "execution_count": 4,
   "id": "2545f4ce",
   "metadata": {},
   "outputs": [
    {
     "data": {
      "text/plain": [
       "[1, 9, 25, 49, 81]"
      ]
     },
     "execution_count": 4,
     "metadata": {},
     "output_type": "execute_result"
    }
   ],
   "source": [
    "d = [i **2 for i in range(10) if i%2]\n",
    "d"
   ]
  },
  {
   "cell_type": "markdown",
   "id": "c7920c4a",
   "metadata": {},
   "source": [
    "# Exercise 3"
   ]
  },
  {
   "cell_type": "code",
   "execution_count": 12,
   "id": "f89a4145",
   "metadata": {},
   "outputs": [
    {
     "data": {
      "text/plain": [
       "0.0003206669999826772"
      ]
     },
     "execution_count": 12,
     "metadata": {},
     "output_type": "execute_result"
    }
   ],
   "source": [
    "import timeit\n",
    "timeit.timeit(stmt = \"[i **2 for i in range(10) if i%2]\", number = 100)"
   ]
  },
  {
   "cell_type": "markdown",
   "id": "a4570a91",
   "metadata": {},
   "source": [
    "# Exercise 4"
   ]
  },
  {
   "cell_type": "code",
   "execution_count": 24,
   "id": "3b312c1e",
   "metadata": {},
   "outputs": [
    {
     "data": {
      "text/plain": [
       "14"
      ]
     },
     "execution_count": 24,
     "metadata": {},
     "output_type": "execute_result"
    }
   ],
   "source": [
    "initial = 100\n",
    "qty = 100\n",
    "count = 0\n",
    "while qty > 0.5 * initial:\n",
    "    qty = 0.95 * qty\n",
    "    count += 1\n",
    "count\n"
   ]
  },
  {
   "cell_type": "markdown",
   "id": "7fc131aa",
   "metadata": {},
   "source": [
    "# Exercise 5"
   ]
  },
  {
   "cell_type": "code",
   "execution_count": 29,
   "id": "4b5d420a",
   "metadata": {},
   "outputs": [],
   "source": [
    "co2_data = [\n",
    "    (2000, 369.55), (2001, 371.14), (2002, 373.28), \n",
    "    (2003, 375.80), (2004, 377.52), (2005, 379.80), \n",
    "    (2006, 381.90), (2007, 383.79), (2008, 385.60), \n",
    "    (2009, 387.43), (2010, 389.90), (2011, 391.65), \n",
    "    (2012, 393.85), (2013, 396.52), (2014, 398.65),\n",
    "    (2015, 400.83), (2016, 404.24), (2017, 406.55), \n",
    "    (2018, 408.52), (2019, 411.44), (2020, 414.24)\n",
    "]"
   ]
  },
  {
   "cell_type": "code",
   "execution_count": 34,
   "id": "f2ab1198",
   "metadata": {},
   "outputs": [
    {
     "name": "stdout",
     "output_type": "stream",
     "text": [
      "2016 404.24\n"
     ]
    }
   ],
   "source": [
    "compare = co2_data[1:]\n",
    "for i in range(len(compare)):\n",
    "    year_before, val_before = co2_data[i]\n",
    "    year_after, val_after = compare[i]\n",
    "    if abs(val_before - val_after) >= 3:\n",
    "        print(year_after, val_after)"
   ]
  }
 ],
 "metadata": {
  "kernelspec": {
   "display_name": "Python 3 (ipykernel)",
   "language": "python",
   "name": "python3"
  },
  "language_info": {
   "codemirror_mode": {
    "name": "ipython",
    "version": 3
   },
   "file_extension": ".py",
   "mimetype": "text/x-python",
   "name": "python",
   "nbconvert_exporter": "python",
   "pygments_lexer": "ipython3",
   "version": "3.8.8"
  },
  "toc": {
   "base_numbering": 1,
   "nav_menu": {},
   "number_sections": true,
   "sideBar": true,
   "skip_h1_title": false,
   "title_cell": "Table of Contents",
   "title_sidebar": "Contents",
   "toc_cell": false,
   "toc_position": {},
   "toc_section_display": true,
   "toc_window_display": false
  },
  "vscode": {
   "interpreter": {
    "hash": "31f2aee4e71d21fbe5cf8b01ff0e069b9275f58929596ceb00d14d90e3e16cd6"
   }
  }
 },
 "nbformat": 4,
 "nbformat_minor": 5
}
