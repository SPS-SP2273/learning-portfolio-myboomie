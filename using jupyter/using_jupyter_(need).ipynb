{
 "cells": [
  {
   "cell_type": "markdown",
   "id": "123456",
   "metadata": {},
   "source": [
    "<div style=\"text-align:left;font-size:2em\"><span style=\"font-weight:bolder;font-size:1.25em\">SP2273 | Learning Portfolio</span><br><br><span style=\"font-weight:bold;color:darkred\">Using Jupyter (Need)</span></div>"
   ]
  },
  {
   "cell_type": "markdown",
   "id": "dc46b80e",
   "metadata": {},
   "source": [
    "# 1 What to expect in this chapter\n",
    "Learning objectives:\n",
    "- How to start and run a cell of code\n",
    "- Convert cell of code to notebook (Markdown)\n",
    "- How to attach images, link, tables, lists, equations, and format text in Markdown blocks\n",
    "- Learn some basic syntax of Python"
   ]
  },
  {
   "cell_type": "markdown",
   "id": "9f24f2d2",
   "metadata": {},
   "source": [
    "# 2 Getting ready\n",
    "- Preparing the environment for using Jupyter Notebooks\n",
    "- Ensuring all necessary tools and packages are installed\n",
    "- Setting up a workspace for efficient learning and practice"
   ]
  },
  {
   "cell_type": "markdown",
   "id": "7d8f50fc",
   "metadata": {},
   "source": [
    "# 3 Getting started with Jupyter\n",
    "\n",
    "- Step-by-step guide to launching a Jupyter Notebook\n",
    "- Exploring the Jupyter interface and its features\n",
    "- Creating and managing different types of cells\n"
   ]
  },
  {
   "cell_type": "markdown",
   "id": "79a34c27",
   "metadata": {},
   "source": [
    "## 3.1 It is all about running cells\n",
    "\n",
    "Shortcut: **CMD + ENTER** to run a cell\n",
    "- Or press the button **Run** to run a cell\n",
    "- To change a cell from one for code to one for notes (markdown), change the drop list from 'Code' to 'Markdown'"
   ]
  },
  {
   "cell_type": "markdown",
   "id": "55736ab7",
   "metadata": {},
   "source": [
    "## 3.2 A traditional start\n"
   ]
  },
  {
   "cell_type": "markdown",
   "id": "ee3ab09b",
   "metadata": {},
   "source": [
    "# 4 All about Markdown\n",
    "\n",
    "- Understanding Markdown as a text formatting tool in Jupyter\n",
    "- Techniques for rendering Markdown cells effectively\n",
    "- Detailed look into various Markdown elements like headings, code, links, images, tables, lists, and equations"
   ]
  },
  {
   "cell_type": "markdown",
   "id": "24f36a71",
   "metadata": {},
   "source": [
    "## 4.1 Rendering Markdown cells\n",
    "- Markdown cells in Jupyter are used for text formatting.\n",
    "- Shortcut: ESC + M to change a cell from code to Markdown"
   ]
  },
  {
   "cell_type": "markdown",
   "id": "0de63690",
   "metadata": {},
   "source": [
    "## 4.2 Some basic syntax\n",
    "- Inline code can be included using backticks (`), and code blocks use triple backticks (```)."
   ]
  },
  {
   "cell_type": "markdown",
   "id": "eaf4fbb4",
   "metadata": {},
   "source": [
    "## 4.3 Headings\n",
    "- Use `#` for main headings, `##` for subheadings, etc., to organize content clearly. Refer to below:\n",
    "\n",
    "# The largest heading \n",
    "'# The largest heading'\n",
    "\n",
    "## The second-largest heading\n",
    "'## The second-largest heading'\n",
    "\n",
    "### The third-largest heading\n",
    "'## The second-largest heading'\n",
    "\n",
    "#### The smallest heading\n",
    "'#### The smallest heading'"
   ]
  },
  {
   "cell_type": "markdown",
   "id": "8881ed14",
   "metadata": {},
   "source": [
    "## 4.4 Displaying Code\n",
    "- Inline code can be included using backticks (`), and code blocks use triple backticks (```)."
   ]
  },
  {
   "cell_type": "markdown",
   "id": "85885626",
   "metadata": {},
   "source": [
    "## 4.5 Links\n",
    "- Hyperlinks are added using `[text](URL)`. They can link to external sites or other parts of the notebook.\n",
    "- Remember to include `https://` when attaching the link\n",
    "\n",
    "e.g: [SP2273 Website](https://sps.nus.edu.sg/sp2273)"
   ]
  },
  {
   "cell_type": "markdown",
   "id": "ab43d4b1",
   "metadata": {},
   "source": [
    "## 4.6 Images\n",
    "- Images can be embedded with `![alt text](image_url)`, useful for visual explanations.\n",
    "\n",
    "e.g: ![](https://encrypted-tbn0.gstatic.com/images?q=tbn:ANd9GcRQDGQ55_znshhGDlxv5sDZz96tD3hxPc5j8CVWMKvJcw&s)\n",
    "\n",
    "- In case of uploading images from computer file, we must indicate the path of file"
   ]
  },
  {
   "cell_type": "markdown",
   "id": "49e887f6",
   "metadata": {},
   "source": [
    "## 4.7 Tables\n",
    "- Tables are created using `-` and `|` to define rows and columns. They help in organizing data.\n",
    "- Use colons and dashes to define the alignment for each column. Here are the available options:\n",
    "\n",
    "1. :--: Left-align the column\n",
    "1. :--:: Center the column\n",
    "1. --:: Right-align the column"
   ]
  },
  {
   "cell_type": "markdown",
   "id": "cfe23a8d",
   "metadata": {},
   "source": [
    "## 4.8 Lists\n",
    "- Lists are made using `-` or `1.`, `2.`, etc., for bullet and numbered lists, respectively.\n",
    "\n",
    "**Numbered lists**:\n",
    "- To create a numbered list, enter `1.` followed by a space\n",
    "\n",
    "**Bullets**:\n",
    "- To create a circular bullet point, use one of the following methods. Each bullet point must be on its own line.\n",
    "- A hyphen (-) followed by one or two spaces\n",
    "- A space, a hyphen (-) and a space\n",
    "- An asterisk (*) followed by one or two spaces\n"
   ]
  },
  {
   "cell_type": "markdown",
   "id": "86a2a894",
   "metadata": {},
   "source": [
    "## 4.9 Equations"
   ]
  },
  {
   "cell_type": "markdown",
   "id": "7ee957aa",
   "metadata": {},
   "source": [
    "## Footnotes"
   ]
  }
 ],
 "metadata": {
  "kernelspec": {
   "display_name": "Python 3 (ipykernel)",
   "language": "python",
   "name": "python3"
  },
  "language_info": {
   "codemirror_mode": {
    "name": "ipython",
    "version": 3
   },
   "file_extension": ".py",
   "mimetype": "text/x-python",
   "name": "python",
   "nbconvert_exporter": "python",
   "pygments_lexer": "ipython3",
   "version": "3.8.8"
  },
  "toc": {
   "base_numbering": 1,
   "nav_menu": {},
   "number_sections": true,
   "sideBar": true,
   "skip_h1_title": false,
   "title_cell": "Table of Contents",
   "title_sidebar": "Contents",
   "toc_cell": false,
   "toc_position": {},
   "toc_section_display": true,
   "toc_window_display": false
  },
  "vscode": {
   "interpreter": {
    "hash": "31f2aee4e71d21fbe5cf8b01ff0e069b9275f58929596ceb00d14d90e3e16cd6"
   }
  }
 },
 "nbformat": 4,
 "nbformat_minor": 5
}
