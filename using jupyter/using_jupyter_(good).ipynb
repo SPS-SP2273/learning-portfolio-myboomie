{
 "cells": [
  {
   "cell_type": "markdown",
   "id": "123456",
   "metadata": {},
   "source": [
    "<div style=\"text-align:left;font-size:2em\"><span style=\"font-weight:bolder;font-size:1.25em\">SP2273 | Learning Portfolio</span><br><br><span style=\"font-weight:bold;color:darkred\">Using Jupyter (Good)</span></div>"
   ]
  },
  {
   "cell_type": "markdown",
   "id": "071abbf0",
   "metadata": {},
   "source": [
    "# What to expect in this chapter\n",
    "Learning objectives:\n",
    "- Keyboards shortcuts\n",
    "- Shell command\n",
    "- Shell magic\n",
    "- Kernel"
   ]
  },
  {
   "cell_type": "markdown",
   "id": "97fd6994",
   "metadata": {},
   "source": [
    "# 1 Some tips and tricks"
   ]
  },
  {
   "cell_type": "markdown",
   "id": "5fca951c",
   "metadata": {},
   "source": [
    "## 1.1 Keyboard Shortcuts"
   ]
  },
  {
   "cell_type": "markdown",
   "id": "20021538",
   "metadata": {},
   "source": [
    "Refer to the image below for some common keyboard shortcuts:\n",
    "![](https://miro.medium.com/v2/resize:fit:1400/1*9oHMzUlcyyWRbAIGTIibnQ.png) "
   ]
  },
  {
   "cell_type": "markdown",
   "id": "e3483f7a",
   "metadata": {},
   "source": [
    "## 1.2 Shell Commands\n",
    "- Add a `!` in front of the command to write terminal command instead of going to Terminal directly\n"
   ]
  },
  {
   "cell_type": "markdown",
   "id": "1ac9d5e0",
   "metadata": {},
   "source": [
    "# 2 Jupyter Extensions"
   ]
  },
  {
   "cell_type": "markdown",
   "id": "89b46148",
   "metadata": {},
   "source": [
    "## 2.1 Installing the extensions\n",
    "- You may install extensions for additional features."
   ]
  },
  {
   "cell_type": "markdown",
   "id": "d4056155",
   "metadata": {},
   "source": [
    "## 2.2 Enabling the extensions"
   ]
  },
  {
   "cell_type": "markdown",
   "id": "4a5283fd",
   "metadata": {},
   "source": [
    "# 3 Shell Magic\n",
    "\n",
    "- Refer to this website: [Magic commands](https://ipython.readthedocs.io/en/stable/interactive/magics.html) for **Built-in magic commands**\n",
    "- Shell Magic is one type of Magic Commands\n",
    "\n",
    "Magic commands in Jupyter Notebooks are special commands that provide convenient functionalities to interact with the Jupyter environment and perform tasks that are outside the scope of regular Python code. Here's a summary of what you need to know about magic commands and shell magic:\n",
    "\n",
    "1. **Types of Magic Commands**:\n",
    "   - **Line Magic**: Prefixed by a single `%` symbol and operate on a single line of input.\n",
    "   - **Cell Magic**: Prefixed by a double `%%` symbol and apply to the entire cell.\n",
    "\n",
    "1. **Common Magic Commands**:\n",
    "   - `%lsmagic`: Lists all available magic commands.\n",
    "   - `%matplotlib inline`: Ensures that matplotlib graphs are embedded within the notebook.\n",
    "   - `%timeit`: Times the execution of a single line or cell.\n",
    "\n",
    "1. **Shell Magic**:\n",
    "   - Shell commands can be executed in Jupyter by prefixing them with `!`. These are not Python commands but are commands processed by the underlying operating system.\n",
    "   - Examples include `!ls` to list files in the current directory or `!pip install` to install Python packages.\n",
    "\n",
    "e.g: "
   ]
  },
  {
   "cell_type": "code",
   "execution_count": 1,
   "id": "67139e1b",
   "metadata": {},
   "outputs": [
    {
     "name": "stdout",
     "output_type": "stream",
     "text": [
      "19.6 ns ± 0.0734 ns per loop (mean ± std. dev. of 7 runs, 100,000,000 loops each)\n"
     ]
    }
   ],
   "source": [
    "%timeit x = 10"
   ]
  },
  {
   "cell_type": "markdown",
   "id": "16448a0a",
   "metadata": {},
   "source": [
    "# 4 The Kernel\n",
    "- You can interrupt, restart, or shut down the kernel using the `Kernel` button in the toolbar"
   ]
  },
  {
   "cell_type": "markdown",
   "id": "5b28fb63",
   "metadata": {},
   "source": [
    "# 5 Practical Examples"
   ]
  },
  {
   "cell_type": "code",
   "execution_count": 2,
   "id": "76356b1f",
   "metadata": {},
   "outputs": [
    {
     "name": "stdout",
     "output_type": "stream",
     "text": [
      "Hello World\r\n"
     ]
    }
   ],
   "source": [
    "# Example of running a shell command in Jupyter\n",
    "!echo 'Hello World'"
   ]
  }
 ],
 "metadata": {
  "kernelspec": {
   "display_name": "Python 3 (ipykernel)",
   "language": "python",
   "name": "python3"
  },
  "language_info": {
   "codemirror_mode": {
    "name": "ipython",
    "version": 3
   },
   "file_extension": ".py",
   "mimetype": "text/x-python",
   "name": "python",
   "nbconvert_exporter": "python",
   "pygments_lexer": "ipython3",
   "version": "3.8.8"
  },
  "toc": {
   "base_numbering": 1,
   "nav_menu": {},
   "number_sections": true,
   "sideBar": true,
   "skip_h1_title": false,
   "title_cell": "Table of Contents",
   "title_sidebar": "Contents",
   "toc_cell": false,
   "toc_position": {},
   "toc_section_display": true,
   "toc_window_display": false
  },
  "vscode": {
   "interpreter": {
    "hash": "31f2aee4e71d21fbe5cf8b01ff0e069b9275f58929596ceb00d14d90e3e16cd6"
   }
  }
 },
 "nbformat": 4,
 "nbformat_minor": 5
}
