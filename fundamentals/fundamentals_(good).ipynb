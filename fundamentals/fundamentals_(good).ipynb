{
 "cells": [
  {
   "cell_type": "markdown",
   "id": "123456",
   "metadata": {},
   "source": [
    "<div style=\"text-align:left;font-size:2em\"><span style=\"font-weight:bolder;font-size:1.25em\">SP2273 | Learning Portfolio</span><br><br><span style=\"font-weight:bold;color:darkred\">Fundamentals (Good)</span></div>"
   ]
  },
  {
   "cell_type": "markdown",
   "id": "9001b828",
   "metadata": {},
   "source": [
    "# What to expect in this chapter"
   ]
  },
  {
   "cell_type": "markdown",
   "id": "68331097",
   "metadata": {},
   "source": [
    "# 1 There is more to if"
   ]
  },
  {
   "cell_type": "markdown",
   "id": "275b76bd",
   "metadata": {},
   "source": [
    "`if-elif-else` is a decision-making tools.\n",
    "Similar to `if`, `elif` indicates another case of the event that you are looking at. Whereas, `else` indicates the rest of the cases that are neither `if` nor `elif`\n",
    "\n",
    "For example, given a number, it can only have 3 situations:\n",
    "1. It is a positive number\n",
    "1. It is a negative number\n",
    "1. It is a zero number\n",
    "\n",
    "Hence, if it is neither positive nor negative, it must fall into the last situation - which is zero!\n",
    "\n",
    "We can translate those situations in a `if-elif-else` branches:"
   ]
  },
  {
   "cell_type": "code",
   "execution_count": 3,
   "id": "531f36c9",
   "metadata": {},
   "outputs": [
    {
     "name": "stdout",
     "output_type": "stream",
     "text": [
      "This is a positive number\n"
     ]
    }
   ],
   "source": [
    "import random \n",
    "number = random.random()\n",
    "\n",
    "if number > 0:\n",
    "    print(\"This is a positive number\")\n",
    "elif number < 0:\n",
    "    print(\"This is negative number\")\n",
    "else:\n",
    "    print(\"This is zero!\")"
   ]
  },
  {
   "cell_type": "markdown",
   "id": "897248bb",
   "metadata": {},
   "source": [
    "# 2 Asking questions"
   ]
  },
  {
   "cell_type": "markdown",
   "id": "d7377787",
   "metadata": {},
   "source": [
    "- Symbol for `and` is `&&`; symbol for `or` is `||`\n",
    "- `in` keyword asks a question if something belongs to something. And it gives you a Boolean answer of **yes** in terms of `True`, or **no** in terms of `False`\n"
   ]
  },
  {
   "cell_type": "markdown",
   "id": "16bf444d",
   "metadata": {},
   "source": [
    "### **Checking existence in a string**"
   ]
  },
  {
   "cell_type": "markdown",
   "id": "42e5969f",
   "metadata": {},
   "source": [
    "e.g: We can use all those keywords to check if there is a certain character that exists in both two given words"
   ]
  },
  {
   "cell_type": "code",
   "execution_count": 11,
   "id": "a4509ba6",
   "metadata": {},
   "outputs": [
    {
     "data": {
      "text/plain": [
       "False"
      ]
     },
     "execution_count": 11,
     "metadata": {},
     "output_type": "execute_result"
    }
   ],
   "source": [
    "d = 'a'\n",
    "d in 'hello' and d in 'An'"
   ]
  },
  {
   "cell_type": "code",
   "execution_count": null,
   "id": "02828fce",
   "metadata": {},
   "outputs": [],
   "source": [
    "# e = 5\n",
    "# e in 'hello ' and e in 'An'\n"
   ]
  },
  {
   "cell_type": "markdown",
   "id": "426c4214",
   "metadata": {},
   "source": [
    "Note: the above code will throw an error because of incompatible checking of types\n",
    "\n",
    "`e` is of an `int` type; while 'hello' and 'An' are `str`"
   ]
  },
  {
   "cell_type": "code",
   "execution_count": 15,
   "id": "56e9fd28",
   "metadata": {},
   "outputs": [
    {
     "data": {
      "text/plain": [
       "False"
      ]
     },
     "execution_count": 15,
     "metadata": {},
     "output_type": "execute_result"
    }
   ],
   "source": [
    "#This is how we can fix the above error by typecasting variable `e` from `int` to `str`\n",
    "e = 5\n",
    "str(e) in 'hello' and str(e) in 'An'"
   ]
  },
  {
   "cell_type": "markdown",
   "id": "1e8fdfa2",
   "metadata": {},
   "source": [
    "Note: even if there is a '5' exists in your string, it will be considered a `str` ; not an `int`.\n",
    "    Hence, the following code will also throw an `Type` error\n",
    "    "
   ]
  },
  {
   "cell_type": "code",
   "execution_count": 16,
   "id": "aec2e289",
   "metadata": {},
   "outputs": [],
   "source": [
    "# e in 'hello5' and e in 'An5'"
   ]
  },
  {
   "cell_type": "markdown",
   "id": "08d3782f",
   "metadata": {},
   "source": [
    "### Comparison between characters (string vs number; number vs number; string vs string)"
   ]
  },
  {
   "cell_type": "markdown",
   "id": "d1332fde",
   "metadata": {},
   "source": [
    "To compare between characters to see which is *greater*, we can simply use our usual Mathematical operators such as `>`, `>=`, `<`, `<=`, and `==`"
   ]
  },
  {
   "cell_type": "markdown",
   "id": "8db0c168",
   "metadata": {},
   "source": [
    "**Case 1: Compare between alphabetical characters**"
   ]
  },
  {
   "cell_type": "markdown",
   "id": "b16a3f4b",
   "metadata": {},
   "source": [
    "**Case 1.a (same type): lower-case vs lower case**"
   ]
  },
  {
   "cell_type": "markdown",
   "id": "c9e76cbb",
   "metadata": {},
   "source": [
    "Simply, this can be intuitive where the letter that appears first in the alphabet will be smaller than any letter that follows it in the alphabet"
   ]
  },
  {
   "cell_type": "markdown",
   "id": "748abc1b",
   "metadata": {},
   "source": [
    "e.g: `'a'` vs `'b'`"
   ]
  },
  {
   "cell_type": "code",
   "execution_count": 20,
   "id": "968ec49f",
   "metadata": {},
   "outputs": [
    {
     "name": "stdout",
     "output_type": "stream",
     "text": [
      "False\n",
      "False\n",
      "True\n",
      "True\n",
      "False\n"
     ]
    }
   ],
   "source": [
    "a = 'a'\n",
    "b = 'b'\n",
    "print(a > b) #False\n",
    "print(a >= b) #False\n",
    "print(a < b) #True\n",
    "print(a <= b) #True\n",
    "print(a == b) #False"
   ]
  },
  {
   "cell_type": "markdown",
   "id": "6a41c229",
   "metadata": {},
   "source": [
    "e.g: `'z'` vs `'z'`"
   ]
  },
  {
   "cell_type": "code",
   "execution_count": 22,
   "id": "bd3d362b",
   "metadata": {},
   "outputs": [
    {
     "name": "stdout",
     "output_type": "stream",
     "text": [
      "False\n",
      "True\n",
      "True\n",
      "False\n",
      "True\n"
     ]
    }
   ],
   "source": [
    "c = 'z'\n",
    "d = 'z'\n",
    "print(c > d) #False\n",
    "print(c >= d) #True\n",
    "print(c == d) #True\n",
    "print(c < d) #False\n",
    "print(c <= d) #True"
   ]
  },
  {
   "cell_type": "markdown",
   "id": "da4496cc",
   "metadata": {},
   "source": [
    "**Case 1.b (same type): capital vs capital**"
   ]
  },
  {
   "cell_type": "markdown",
   "id": "b90b625b",
   "metadata": {},
   "source": [
    "This is similar to the above case whereby the letter that appears in the alphabet first will be smaller than those letters that follow it i the alphabetical order"
   ]
  },
  {
   "cell_type": "markdown",
   "id": "5aed3bd4",
   "metadata": {},
   "source": [
    "**Case 1.c (different type): lower-case vs capital**"
   ]
  },
  {
   "cell_type": "markdown",
   "id": "d6eeecbb",
   "metadata": {},
   "source": [
    "e.g: `'a'` vs `'A'`"
   ]
  },
  {
   "cell_type": "code",
   "execution_count": 23,
   "id": "e84b3638",
   "metadata": {},
   "outputs": [
    {
     "name": "stdout",
     "output_type": "stream",
     "text": [
      "True\n",
      "True\n",
      "False\n",
      "False\n",
      "False\n"
     ]
    }
   ],
   "source": [
    "print('a' > 'A') #True\n",
    "print('a' >= 'A') #True\n",
    "print('a' < 'A') #False\n",
    "print('a' <= 'A') #False\n",
    "print('a' == 'A') #False"
   ]
  },
  {
   "cell_type": "markdown",
   "id": "91f236af",
   "metadata": {},
   "source": [
    "From the above code, it can be observed that the lower-case alphabet will be *greater* than its corresponding capital letter"
   ]
  },
  {
   "cell_type": "markdown",
   "id": "19070916",
   "metadata": {},
   "source": [
    "e.g: `'a'` vs `'B'`"
   ]
  },
  {
   "cell_type": "code",
   "execution_count": 24,
   "id": "a0deb710",
   "metadata": {},
   "outputs": [
    {
     "name": "stdout",
     "output_type": "stream",
     "text": [
      "True\n",
      "True\n",
      "False\n",
      "False\n",
      "False\n"
     ]
    }
   ],
   "source": [
    "print('a' > 'B') #True\n",
    "print('a' >= 'B') #True\n",
    "print('a' < 'B') #False\n",
    "print('a' <= 'B') #False\n",
    "print('a' == 'B') #False"
   ]
  },
  {
   "cell_type": "markdown",
   "id": "dbc05505",
   "metadata": {},
   "source": [
    "Similarly, here, we can deduce that since `'a'` > `'A'` and `'A'` > `'B'`, it must be logical that `'a'` > `'B'`"
   ]
  },
  {
   "cell_type": "markdown",
   "id": "db670716",
   "metadata": {},
   "source": [
    "**Case 1.d (different type): number character vs alphabetical character**"
   ]
  },
  {
   "cell_type": "markdown",
   "id": "24899743",
   "metadata": {},
   "source": [
    "e.g: `2` vs `z`"
   ]
  },
  {
   "cell_type": "code",
   "execution_count": 27,
   "id": "faf6c167",
   "metadata": {},
   "outputs": [
    {
     "name": "stdout",
     "output_type": "stream",
     "text": [
      "False\n",
      "False\n",
      "True\n",
      "True\n",
      "False\n"
     ]
    }
   ],
   "source": [
    "print('2' > 'z') #False\n",
    "print('2' >= 'z') #False\n",
    "print('2' < 'z') #True\n",
    "print('2' <= 'z') #True\n",
    "print('2' == 'z') #False"
   ]
  },
  {
   "cell_type": "markdown",
   "id": "caf915a1",
   "metadata": {},
   "source": [
    "**Case 1.d.(a): number character vs lower-case alphabetical character**"
   ]
  },
  {
   "cell_type": "markdown",
   "id": "3ec31257",
   "metadata": {},
   "source": [
    "From the above code, we can generally see that number characters are generally *smaller* than alphabetical characters (lower case)"
   ]
  },
  {
   "cell_type": "markdown",
   "id": "e6aa0ea8",
   "metadata": {},
   "source": [
    "But since alphabetical characters (lower case) are *greater* than capital alphabetical characters."
   ]
  },
  {
   "cell_type": "markdown",
   "id": "1e660f40",
   "metadata": {},
   "source": [
    "**Case 1.d.(b): number character vs capital alphabetical character**\n"
   ]
  },
  {
   "cell_type": "markdown",
   "id": "4fa127b7",
   "metadata": {},
   "source": [
    "It is not natural to conclude the overall comparison between number characters vs capital alphabetical characters.\n",
    "\n",
    "We will conduct some tests between **number characters** vs **capital alphabetical characters**"
   ]
  },
  {
   "cell_type": "code",
   "execution_count": 28,
   "id": "d929a832",
   "metadata": {},
   "outputs": [
    {
     "name": "stdout",
     "output_type": "stream",
     "text": [
      "False\n",
      "True\n",
      "False\n"
     ]
    }
   ],
   "source": [
    "#check against with our code\n",
    "print('1' > 'A') #False\n",
    "print('1' < 'A') #True\n",
    "print('1' == 'A') #False"
   ]
  },
  {
   "cell_type": "markdown",
   "id": "d6e17cb8",
   "metadata": {},
   "source": [
    "Here, it can be concluded that number characters will also be *smaller* than capital alphabetical characters"
   ]
  },
  {
   "cell_type": "markdown",
   "id": "8beb12f3",
   "metadata": {},
   "source": [
    "**Overall conclusion**:"
   ]
  },
  {
   "cell_type": "markdown",
   "id": "b2b1a6c4",
   "metadata": {},
   "source": [
    "In general:\n",
    "\n",
    "**(lower-case) alphabetical character `>` (capital) alphabetical character `>` number character**"
   ]
  },
  {
   "cell_type": "markdown",
   "id": "ca3faaf6",
   "metadata": {},
   "source": [
    "### General Rule for character comparison:"
   ]
  },
  {
   "attachments": {},
   "cell_type": "markdown",
   "id": "ff587836",
   "metadata": {},
   "source": [
    "Although the above conclusion is deduced from our tests, the more universal rule is to compare the ACSII code associated with the given character. \n",
    "\n",
    "Below is the ACSII code (in `int`) for characters:\n",
    "\n",
    "![ACSII Code](https://fastbitlab.com/wp-content/uploads/2022/05/Figure-1-15.png)\n",
    "\n",
    "Reference Link: [ACSII Code](https://fastbitlab.com/wp-content/uploads/2022/05/Figure-1-15.png)"
   ]
  },
  {
   "cell_type": "markdown",
   "id": "9c2eea80",
   "metadata": {},
   "source": [
    "You can see that ASCII table, A-Z are uppercase alphabets, and 65 to 90 are the respective ASCII codes in decimal. \n",
    "\n",
    "a-z are the lower case letters, and 97 to 122 are the respective ASCII codes.\n",
    "\n",
    "So, not only for English alphabets, but you can also get ASCII codes for special characters like space, double quotes, #, &, etc. You also get ASCII codes to represent numbers from 0 to 9. Also, you get ASCII codes to represent some special characters such as Carriage return, Backspace, Horizontal tab, etc."
   ]
  },
  {
   "cell_type": "markdown",
   "id": "29723f8a",
   "metadata": {},
   "source": [
    "e.g: Given a character, we can check for its ACSII code with the built-in function `ord` in Python"
   ]
  },
  {
   "cell_type": "code",
   "execution_count": 31,
   "id": "9793be78",
   "metadata": {},
   "outputs": [
    {
     "data": {
      "text/plain": [
       "122"
      ]
     },
     "execution_count": 31,
     "metadata": {},
     "output_type": "execute_result"
    }
   ],
   "source": [
    "a = 'z'\n",
    "ord(a)"
   ]
  },
  {
   "cell_type": "markdown",
   "id": "4d8aca01",
   "metadata": {},
   "source": [
    "e.g: Similarly, given an integer, we can also check if this given integer denotes any character in ACSII Code with the built-in function \n",
    "`chr` in Python"
   ]
  },
  {
   "cell_type": "code",
   "execution_count": 35,
   "id": "86e66003",
   "metadata": {},
   "outputs": [
    {
     "data": {
      "text/plain": [
       "'C'"
      ]
     },
     "execution_count": 35,
     "metadata": {},
     "output_type": "execute_result"
    }
   ],
   "source": [
    "d = 67\n",
    "chr(d)"
   ]
  },
  {
   "cell_type": "markdown",
   "id": "1bcc4ca0",
   "metadata": {},
   "source": [
    "Hence, characters can be compared by comparing its associated ACSII Code. \n",
    "\n",
    "For example, `'a'` is equivalent to `97` while `'5'` is equivalent to `53`\n",
    "\n",
    "Hence, it can be deduced that `'a'` > `'5'` (Since `97` > `53`)"
   ]
  },
  {
   "cell_type": "code",
   "execution_count": 39,
   "id": "d43f35ec",
   "metadata": {},
   "outputs": [
    {
     "name": "stdout",
     "output_type": "stream",
     "text": [
      "97\n",
      "53\n",
      "True\n"
     ]
    }
   ],
   "source": [
    "print(ord('a')) #97\n",
    "print(ord('5')) #53\n",
    "print('a' > '5') #True"
   ]
  },
  {
   "cell_type": "markdown",
   "id": "b20f6dd9",
   "metadata": {},
   "source": [
    "### **General comparison between string and string**"
   ]
  },
  {
   "cell_type": "markdown",
   "id": "92d05855",
   "metadata": {},
   "source": [
    "Given two string, each letter of both strings will be compared against each other in its order\n",
    "\n",
    "`'chicken'` or `'egg'` will come first?"
   ]
  },
  {
   "cell_type": "markdown",
   "id": "8a61b86b",
   "metadata": {},
   "source": [
    "To compare these two strings, 1st letter of each string will be taken out and compared against each other until a conclusion of `>` or `<` is thrown. If two character(letter) is equal, the next letter of both will be similarly taken out and comparec"
   ]
  },
  {
   "cell_type": "markdown",
   "id": "447c23af",
   "metadata": {},
   "source": [
    "- Since 'c' < 'e', it can be deduced that `'chicken'` < `'egg'`\n",
    "\n",
    "*Yes, chicken comes first before egg ;)*"
   ]
  },
  {
   "cell_type": "code",
   "execution_count": 40,
   "id": "adef1b36",
   "metadata": {},
   "outputs": [
    {
     "name": "stdout",
     "output_type": "stream",
     "text": [
      "True\n"
     ]
    }
   ],
   "source": [
    "print('chicken' < 'egg') #True"
   ]
  },
  {
   "cell_type": "markdown",
   "id": "c3640f3b",
   "metadata": {},
   "source": [
    "# 3 Remember"
   ]
  },
  {
   "cell_type": "markdown",
   "id": "3e612855",
   "metadata": {},
   "source": [
    "`not`, `in`, `and`, `or` are some Python keywords that are useful in asking questions."
   ]
  },
  {
   "cell_type": "markdown",
   "id": "d16ddf4b",
   "metadata": {},
   "source": [
    "## 3.1 Asking Math questions"
   ]
  },
  {
   "cell_type": "markdown",
   "id": "5fe48536",
   "metadata": {},
   "source": [
    "- Usual mathematical symbols are used in comparison\n",
    "- `and`, `or` are also acceptible to combine with mathematical symbols in comparison\n",
    "- Brackets can be used to increase the readability of the statement"
   ]
  },
  {
   "cell_type": "markdown",
   "id": "cc67e621",
   "metadata": {},
   "source": [
    "For example:\n",
    "- `x > 5 and x < 15`\n",
    "- `(x > 5) and (x < 15)`\n",
    "- `(5 < x < 15)`\n",
    "- `x > a` or `x < b`"
   ]
  },
  {
   "cell_type": "markdown",
   "id": "61818249",
   "metadata": {},
   "source": [
    "# 4 Python stores information in different formats or types"
   ]
  },
  {
   "cell_type": "markdown",
   "id": "b4796892",
   "metadata": {},
   "source": [
    "- Using the function `type()` to ask Python how it is storing the information"
   ]
  },
  {
   "cell_type": "markdown",
   "id": "abf44be3",
   "metadata": {},
   "source": [
    "Here are some common data types in Python:\n",
    "![](https://www.jcchouinard.com/wp-content/uploads/2023/07/Python-Data-Types.png)\n",
    "Link reference: (https://www.jcchouinard.com/wp-content/uploads/2023/07/Python-Data-Types.png)"
   ]
  },
  {
   "cell_type": "markdown",
   "id": "1ba8cb6d",
   "metadata": {},
   "source": [
    "But we can typecast one type to another type by functions like `int()`, `float()`, `str()`, `set()`, etc.\n"
   ]
  },
  {
   "cell_type": "code",
   "execution_count": 60,
   "id": "40c72f83",
   "metadata": {},
   "outputs": [
    {
     "name": "stdout",
     "output_type": "stream",
     "text": [
      "5\n"
     ]
    }
   ],
   "source": [
    "a = '5'\n",
    "print(str(a))"
   ]
  },
  {
   "cell_type": "code",
   "execution_count": 61,
   "id": "096b9090",
   "metadata": {},
   "outputs": [
    {
     "name": "stdout",
     "output_type": "stream",
     "text": [
      "1.0\n"
     ]
    }
   ],
   "source": [
    "b = 1\n",
    "print(float(b))"
   ]
  },
  {
   "cell_type": "code",
   "execution_count": 62,
   "id": "de73f910",
   "metadata": {},
   "outputs": [
    {
     "name": "stdout",
     "output_type": "stream",
     "text": [
      "1.2\n",
      "1\n"
     ]
    }
   ],
   "source": [
    "c = 1.2\n",
    "print(str(c))\n",
    "print(int(c))"
   ]
  },
  {
   "cell_type": "markdown",
   "id": "02a41517",
   "metadata": {},
   "source": [
    "However, typecasting is not always possible "
   ]
  },
  {
   "cell_type": "code",
   "execution_count": 65,
   "id": "8bf85455",
   "metadata": {},
   "outputs": [
    {
     "data": {
      "text/plain": [
       "'\\nCannot convert a string of characters into integer!\\n'"
      ]
     },
     "execution_count": 65,
     "metadata": {},
     "output_type": "execute_result"
    }
   ],
   "source": [
    "# d = 'int'\n",
    "# print(int(d))\n",
    "\n",
    "'''\n",
    "Cannot convert a string of characters into integer!\n",
    "'''"
   ]
  },
  {
   "cell_type": "markdown",
   "id": "9575ac26",
   "metadata": {},
   "source": [
    "# 5 Never compare floats directly"
   ]
  },
  {
   "cell_type": "markdown",
   "id": "77937291",
   "metadata": {},
   "source": [
    "## 5.1 The Problem"
   ]
  },
  {
   "cell_type": "markdown",
   "id": "b4b5b470",
   "metadata": {},
   "source": [
    "- Floating point numbers cannot be exactly stored in a computer3. This leads to errors called roundoff errors, which is problematic when comparing floats directly"
   ]
  },
  {
   "cell_type": "markdown",
   "id": "b25767af",
   "metadata": {},
   "source": [
    "e.g: compare $0.1 \\times 3$ vs $0.3$ "
   ]
  },
  {
   "cell_type": "code",
   "execution_count": null,
   "id": "442d458f",
   "metadata": {},
   "outputs": [],
   "source": [
    "a = 0.1\n",
    "a3 = 0.3\n",
    "a * 3 == a3 #false"
   ]
  },
  {
   "cell_type": "code",
   "execution_count": 43,
   "id": "9dca9b3a",
   "metadata": {},
   "outputs": [
    {
     "data": {
      "text/plain": [
       "'0.29999999999999999'"
      ]
     },
     "execution_count": 43,
     "metadata": {},
     "output_type": "execute_result"
    }
   ],
   "source": [
    "f'{0.3:.17f}' "
   ]
  },
  {
   "cell_type": "markdown",
   "id": "aaf9191e",
   "metadata": {},
   "source": [
    "`0.3` is saved as `0.29999999999999999` which is obviously not equal to $ 0.1 \\times 3$"
   ]
  },
  {
   "cell_type": "markdown",
   "id": "3e2c5ea9",
   "metadata": {},
   "source": [
    "## 5.2 A solution"
   ]
  },
  {
   "cell_type": "markdown",
   "id": "e3ad542b",
   "metadata": {},
   "source": [
    "### a. Check if variable is *close* to expected values"
   ]
  },
  {
   "cell_type": "markdown",
   "id": "99c94af2",
   "metadata": {},
   "source": [
    "Use the `abs()` function to return the absolute value of a given number\n"
   ]
  },
  {
   "cell_type": "code",
   "execution_count": 48,
   "id": "286d7876",
   "metadata": {},
   "outputs": [
    {
     "data": {
      "text/plain": [
       "True"
      ]
     },
     "execution_count": 48,
     "metadata": {},
     "output_type": "execute_result"
    }
   ],
   "source": [
    "a3 = 0.3\n",
    "a = 0.1\n",
    "eps = 1E-10\n",
    "abs(a * 3 - a3) < eps"
   ]
  },
  {
   "cell_type": "markdown",
   "id": "11d6746b",
   "metadata": {},
   "source": [
    "### b. Use Numpy "
   ]
  },
  {
   "cell_type": "markdown",
   "id": "962cd940",
   "metadata": {},
   "source": [
    "Use `isclose()` method in `numpy`"
   ]
  },
  {
   "cell_type": "code",
   "execution_count": 50,
   "id": "6e071bae",
   "metadata": {},
   "outputs": [
    {
     "data": {
      "text/plain": [
       "True"
      ]
     },
     "execution_count": 50,
     "metadata": {},
     "output_type": "execute_result"
    }
   ],
   "source": [
    "import numpy as np\n",
    "np.isclose(a * 3, a3)"
   ]
  },
  {
   "cell_type": "markdown",
   "id": "6adfc6f6",
   "metadata": {},
   "source": [
    "# 6 Combining English and variables"
   ]
  },
  {
   "cell_type": "markdown",
   "id": "a0d31ac5",
   "metadata": {},
   "source": [
    "## 6.1 Structure of f-strings"
   ]
  },
  {
   "cell_type": "markdown",
   "id": "afe25f11",
   "metadata": {},
   "source": [
    "Here are some examples of uses of f-strings:"
   ]
  },
  {
   "cell_type": "code",
   "execution_count": 51,
   "id": "ada99bfb",
   "metadata": {},
   "outputs": [
    {
     "name": "stdout",
     "output_type": "stream",
     "text": [
      "The value of 10 squared is 100!\n"
     ]
    }
   ],
   "source": [
    "#f-string is used for text formatting\n",
    "x = 10\n",
    "print(f\"The value of {x} squared is {x**2}!\")"
   ]
  },
  {
   "cell_type": "code",
   "execution_count": 57,
   "id": "fb43a4b7",
   "metadata": {},
   "outputs": [
    {
     "name": "stdout",
     "output_type": "stream",
     "text": [
      "        Bruce Wayne is Batman.\n"
     ]
    }
   ],
   "source": [
    "text = 'Bruce Wayne is Batman.'\n",
    "print(f'{text:>30}')     # A block of 30 characters;\n",
    "                          # aligned right"
   ]
  },
  {
   "cell_type": "code",
   "execution_count": 58,
   "id": "8bcc9461",
   "metadata": {},
   "outputs": [
    {
     "name": "stdout",
     "output_type": "stream",
     "text": [
      "    Bruce Wayne is Batman.    \n"
     ]
    }
   ],
   "source": [
    "print(f'{text:^30}')      # A block of 30 characters;\n",
    "                          # aligned centre"
   ]
  },
  {
   "cell_type": "code",
   "execution_count": 59,
   "id": "a7a96fe5",
   "metadata": {},
   "outputs": [
    {
     "name": "stdout",
     "output_type": "stream",
     "text": [
      "Bruce Wayne is Batman.        \n"
     ]
    }
   ],
   "source": [
    "print(f'{text:<30}')      # A block of 30 characters;\n",
    "                          # aligned left"
   ]
  },
  {
   "cell_type": "code",
   "execution_count": 53,
   "id": "7cad7783",
   "metadata": {},
   "outputs": [
    {
     "data": {
      "text/plain": [
       "'1.2000'"
      ]
     },
     "execution_count": 53,
     "metadata": {},
     "output_type": "execute_result"
    }
   ],
   "source": [
    "# f-string is used for number formatting (decimal points)\n",
    "f'{1.2:.4f}' #write 1.2 in 4 decimal places => 1.2000"
   ]
  },
  {
   "cell_type": "code",
   "execution_count": 54,
   "id": "e45eeee5",
   "metadata": {},
   "outputs": [
    {
     "name": "stdout",
     "output_type": "stream",
     "text": [
      "The cube of pi to 6 decimal places is 3.100628e+01\n"
     ]
    }
   ],
   "source": [
    "print(f'The cube of pi to 6 decimal places is {np.pi**3:.6e}')"
   ]
  },
  {
   "cell_type": "markdown",
   "id": "7123cf22",
   "metadata": {},
   "source": [
    "Note the `f` and the `{ }` in the above command. This is called **f-string** or string interpolation."
   ]
  },
  {
   "cell_type": "markdown",
   "id": "e8b2dd5b",
   "metadata": {},
   "source": [
    "Further documentation on `f-string`: !(https://realpython.com/python-f-strings/)"
   ]
  },
  {
   "cell_type": "markdown",
   "id": "6ee43d63",
   "metadata": {},
   "source": [
    "# 7 Escape sequences"
   ]
  },
  {
   "cell_type": "markdown",
   "id": "5f65b26f",
   "metadata": {},
   "source": [
    "- `\\n` is used to break lines\n",
    "- `\\t` is used to add a tab (add indentation)\n",
    "\n",
    "Here are some common escape sequences:\n",
    "|Escape sequences| Meaning| Code example| Output expectation|\n",
    "|:--:|:--:|:--:|:--:|\n",
    "|`\\'`|Single quote|`print('You\\'re twenty years old.') `|`You're twenty years old.`\n",
    "|`\\\\` | Backlash|`print('A\\\\B\\\\C')`|`A\\B\\C`|\n",
    "|`\\n\\`|Newline|`print('A\\nB\\nC')`|`A`<br> `B` <br> `C`|\n",
    "|`\\t`|Horizontal tab|`print('A\\tB\\tC')`|`A   B   C`|"
   ]
  },
  {
   "cell_type": "markdown",
   "id": "0e284d63",
   "metadata": {},
   "source": [
    "# 8 Computers read = from Right to Left!"
   ]
  },
  {
   "cell_type": "markdown",
   "id": "b8decc9a",
   "metadata": {},
   "source": [
    "Variables are modified in Python"
   ]
  },
  {
   "cell_type": "code",
   "execution_count": 66,
   "id": "e6b9e0cf",
   "metadata": {},
   "outputs": [
    {
     "name": "stdout",
     "output_type": "stream",
     "text": [
      "42\n"
     ]
    }
   ],
   "source": [
    "x = 40\n",
    "y = x + 2\n",
    "print(y)"
   ]
  },
  {
   "cell_type": "code",
   "execution_count": 67,
   "id": "c916a5ad",
   "metadata": {},
   "outputs": [
    {
     "name": "stdout",
     "output_type": "stream",
     "text": [
      "40 42\n"
     ]
    }
   ],
   "source": [
    "x = y = 40\n",
    "y = y + 2\n",
    "print(x,y)"
   ]
  },
  {
   "cell_type": "markdown",
   "id": "50b86719",
   "metadata": {},
   "source": [
    "# 9 Shorter and Cleaner Code"
   ]
  },
  {
   "cell_type": "markdown",
   "id": "93a2b6ab",
   "metadata": {},
   "source": [
    "Here are some examples of how we can shorten the code:\n",
    "- `y = y + 2` is equal to `y += 2`\n",
    "- `y = y + 1` is equal to `y ++` or `y += 1`; similarly, `y = y - 1` can be written as `y --` (only for case of change of 1 unit)"
   ]
  },
  {
   "cell_type": "markdown",
   "id": "af4af33d",
   "metadata": {},
   "source": [
    "Shorthand notations for substraction, division, and multiplication are as follows:\n",
    "|Type of operations|Long form|Shorthand|\n",
    "|:--:|:--:|:--:|\n",
    "|Addition| `y = y + 2`| `y += 2` |\n",
    "| Substraction| `y = y - 2`| `y -= 2`|\n",
    "|Multiplication| `y = y*2`| `y *= 2`|\n",
    "|Division| `y = y / 2`| `y /= 2`|"
   ]
  },
  {
   "cell_type": "markdown",
   "id": "7e5436b6",
   "metadata": {},
   "source": [
    "# 10 Python can be a prima-donna."
   ]
  },
  {
   "cell_type": "markdown",
   "id": "a2e6612e",
   "metadata": {},
   "source": [
    "### Types of Error"
   ]
  },
  {
   "attachments": {},
   "cell_type": "markdown",
   "id": "34946490",
   "metadata": {},
   "source": [
    "- Errors might appear in coding. Errors will be shown if there exists any. \n",
    "- Here are few types of error:\n",
    "![](https://www.c-sharpcorner.com/article/errors-in-python/Images/2.PNG)\n",
    "\n",
    "![](https://2.bp.blogspot.com/-jH5MCdfa8Zo/Vb5Mg_pD-nI/AAAAAAAAInU/mJ0hTsRKGjc/s640/exception.PNG)\n",
    "Reference link: (https://www.c-sharpcorner.com/article/errors-in-python/), (https://www.devinline.com/2015/04/exception-handling-in-python.html)"
   ]
  },
  {
   "cell_type": "markdown",
   "id": "6279ef6f",
   "metadata": {},
   "source": [
    "### Error Handling: `Try-Except` "
   ]
  },
  {
   "cell_type": "markdown",
   "id": "0d10b664",
   "metadata": {},
   "source": [
    "Based on the left-to-right and top-to-bottom flow of execution in Python, if there is an error in your code, the subsequent portions would not be executed.\n",
    "And this might disrupt your programme. \n",
    "\n",
    "However, you can expect some of those errors to occur beforehand and demand your programme to do something about it in the face of error. This is how you can handle some error even though an error is occured. This is done by `try-except` method in Python."
   ]
  },
  {
   "cell_type": "markdown",
   "id": "965810cf",
   "metadata": {},
   "source": [
    "#### For example:\n",
    "\n",
    "Here, you are going to ask for a user's input for a number. Yet, you can expect that some people are just naughty and going to give you a non-number input. \n",
    "\n",
    "And as you are going to do some operations on the number, the non-number input might throw some error (such as `ValueError`). \n",
    "\n",
    "Expecting a `ValueError` might occur, you can allow your programme to let the users know."
   ]
  },
  {
   "cell_type": "code",
   "execution_count": 72,
   "id": "e6dcfc2a",
   "metadata": {},
   "outputs": [
    {
     "name": "stdout",
     "output_type": "stream",
     "text": [
      "Type your favourite number: 2\n",
      "2\n",
      "Thank you for your input!\n"
     ]
    }
   ],
   "source": [
    "inp = input(\"Type your favourite number: \")\n",
    "\n",
    "try: #once you get the input, you will try to print it as an integer\n",
    "    print(int(inp))\n",
    "except ValueError: #you will print EXEPT the case of ValueError is thrown\n",
    "    print(\"Your input is not a valid number!\") #in case of ValueError, you will then print this line instead\n",
    "finally:\n",
    "    print('Thank you for your input!') #no matter what scenario you face, \n",
    "                                       #you will always execute this \"finally\" command"
   ]
  },
  {
   "cell_type": "markdown",
   "id": "96d65dd4",
   "metadata": {},
   "source": [
    "### Debugging"
   ]
  },
  {
   "cell_type": "markdown",
   "id": "ca7f7c7a",
   "metadata": {},
   "source": [
    "- And fixing coding errors is called debugging\n",
    "- There are few methods for debugging such as:\n",
    "    - using `#` to check line by line\n",
    "    - using `print()` to trace "
   ]
  },
  {
   "cell_type": "markdown",
   "id": "114cfb54",
   "metadata": {},
   "source": [
    "# 11 Best Practices for Scientific Computing"
   ]
  },
  {
   "cell_type": "markdown",
   "id": "09bd62f4",
   "metadata": {},
   "source": [
    "1. Write programs for people, not computers.\n",
    "1. Optimise software only after it works correctly.\n",
    "1. Document design and purpose, not mechanics.\n",
    "1. Collaborate."
   ]
  },
  {
   "cell_type": "markdown",
   "id": "94380374",
   "metadata": {},
   "source": [
    "Remember:\n",
    "**Always start simple and get something working first before making it perfect.**"
   ]
  },
  {
   "cell_type": "markdown",
   "id": "56a84bf3",
   "metadata": {},
   "source": [
    "# 12 Looking for help"
   ]
  },
  {
   "cell_type": "markdown",
   "id": "de8d847a",
   "metadata": {},
   "source": [
    "You can get help/information about Python functions from within Python. With `help()` function, Python will show you the documentation of the function you are looking at. "
   ]
  },
  {
   "cell_type": "markdown",
   "id": "1bbc6457",
   "metadata": {},
   "source": [
    "For example:"
   ]
  },
  {
   "cell_type": "code",
   "execution_count": 77,
   "id": "ce09c928",
   "metadata": {},
   "outputs": [
    {
     "name": "stdout",
     "output_type": "stream",
     "text": [
      "Help on built-in function print in module builtins:\n",
      "\n",
      "print(...)\n",
      "    print(value, ..., sep=' ', end='\\n', file=sys.stdout, flush=False)\n",
      "    \n",
      "    Prints the values to a stream, or to sys.stdout by default.\n",
      "    Optional keyword arguments:\n",
      "    file:  a file-like object (stream); defaults to the current sys.stdout.\n",
      "    sep:   string inserted between values, default a space.\n",
      "    end:   string appended after the last value, default a newline.\n",
      "    flush: whether to forcibly flush the stream.\n",
      "\n"
     ]
    }
   ],
   "source": [
    "help(print)"
   ]
  },
  {
   "cell_type": "markdown",
   "id": "6467b8d1",
   "metadata": {},
   "source": [
    "Given the `print(value, ..., sep=' ', end='\\n', file=sys.stdout, flush=False)`, you can deduce the expected arguments needed as input of `print()` and output of function `print()`. Here are explanation for some important arguments in the `print()` function:\n",
    "- `value`: any of your argument as input\n",
    "- `sep = ''`: separation will be inserted between your values. The defaut value is a space\n",
    "- `'end ='\\n'`: string will append this value after the last value of the string. By default, the string will end up with a newline"
   ]
  },
  {
   "cell_type": "markdown",
   "id": "db1d8eeb",
   "metadata": {},
   "source": [
    "## References"
   ]
  },
  {
   "cell_type": "markdown",
   "id": "51fa872e",
   "metadata": {},
   "source": [
    "## Footnotes"
   ]
  }
 ],
 "metadata": {
  "kernelspec": {
   "display_name": "Python 3 (ipykernel)",
   "language": "python",
   "name": "python3"
  },
  "language_info": {
   "codemirror_mode": {
    "name": "ipython",
    "version": 3
   },
   "file_extension": ".py",
   "mimetype": "text/x-python",
   "name": "python",
   "nbconvert_exporter": "python",
   "pygments_lexer": "ipython3",
   "version": "3.8.8"
  },
  "toc": {
   "base_numbering": 1,
   "nav_menu": {},
   "number_sections": true,
   "sideBar": true,
   "skip_h1_title": false,
   "title_cell": "Table of Contents",
   "title_sidebar": "Contents",
   "toc_cell": false,
   "toc_position": {},
   "toc_section_display": true,
   "toc_window_display": false
  },
  "vscode": {
   "interpreter": {
    "hash": "31f2aee4e71d21fbe5cf8b01ff0e069b9275f58929596ceb00d14d90e3e16cd6"
   }
  }
 },
 "nbformat": 4,
 "nbformat_minor": 5
}
