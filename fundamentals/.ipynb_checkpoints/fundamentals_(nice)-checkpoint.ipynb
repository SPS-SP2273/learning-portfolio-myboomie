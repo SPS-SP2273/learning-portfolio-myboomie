{
 "cells": [
  {
   "cell_type": "markdown",
   "id": "123456",
   "metadata": {},
   "source": [
    "<div style=\"text-align:left;font-size:2em\"><span style=\"font-weight:bolder;font-size:1.25em\">SP2273 | Learning Portfolio</span><br><br><span style=\"font-weight:bold;color:darkred\">Fundamentals (Nice)</span></div>"
   ]
  },
  {
   "cell_type": "markdown",
   "id": "9babc3aa",
   "metadata": {},
   "source": [
    "# 1 If `if` is not enough"
   ]
  },
  {
   "cell_type": "markdown",
   "id": "8dd0b430",
   "metadata": {},
   "source": [
    "- `match-case` is another alternative for `if-elif-else`. It is used when there are multiple conditions to check and you want to simplify your code\n",
    "- Documentation for `match-case`: (https://www.geeksforgeeks.org/python-match-case-statement/)\n",
    "- However, this feature is only run on Python version `3.10`. To check on the current version:\n",
    "\n",
    "`import sys`\n",
    "\n",
    "\n",
    "`sys.version`\n"
   ]
  },
  {
   "cell_type": "markdown",
   "id": "84f2df20",
   "metadata": {},
   "source": [
    "# 2 Ternary operators or Conditional Statements"
   ]
  },
  {
   "cell_type": "markdown",
   "id": "5527bc7e",
   "metadata": {},
   "source": [
    "- Simplify your `if-else` statement. Instead of:"
   ]
  },
  {
   "cell_type": "code",
   "execution_count": 7,
   "id": "fe30aae2",
   "metadata": {},
   "outputs": [],
   "source": [
    "nationality = 'German'\n",
    "if nationality == 'French':\n",
    "    greeting = \"Bonjour!\"\n",
    "else:\n",
    "    greeting = \"Hello!\""
   ]
  },
  {
   "cell_type": "markdown",
   "id": "a671016f",
   "metadata": {},
   "source": [
    "we can combine `if` and `else` in one line by writing:"
   ]
  },
  {
   "cell_type": "markdown",
   "id": "70ac1300",
   "metadata": {},
   "source": [
    "`greeting = \"Bonjour!\" if nationality == 'French' else \"Hello!\"`"
   ]
  },
  {
   "cell_type": "markdown",
   "id": "1e45f691",
   "metadata": {},
   "source": [
    "Another way to write:"
   ]
  },
  {
   "cell_type": "code",
   "execution_count": 8,
   "id": "e910779c",
   "metadata": {},
   "outputs": [
    {
     "data": {
      "text/plain": [
       "'Bonjour!'"
      ]
     },
     "execution_count": 8,
     "metadata": {},
     "output_type": "execute_result"
    }
   ],
   "source": [
    "(\"Bonjour!\", \"Hello!\")[nationality == 'French']"
   ]
  },
  {
   "cell_type": "markdown",
   "id": "7a87114a",
   "metadata": {},
   "source": [
    "Another ternary operator:"
   ]
  },
  {
   "cell_type": "code",
   "execution_count": 12,
   "id": "ff3f1982",
   "metadata": {},
   "outputs": [
    {
     "name": "stdout",
     "output_type": "stream",
     "text": [
      "No message!\n"
     ]
    }
   ],
   "source": [
    "text = None\n",
    "message = text or \"No message!\"\n",
    "print(message)"
   ]
  },
  {
   "cell_type": "markdown",
   "id": "ddb5eeec",
   "metadata": {},
   "source": [
    "This above code is equivalent to:\n"
   ]
  },
  {
   "cell_type": "code",
   "execution_count": 14,
   "id": "5cb019dd",
   "metadata": {},
   "outputs": [],
   "source": [
    "if text:\n",
    "    message = text\n",
    "else:\n",
    "    message = None"
   ]
  },
  {
   "cell_type": "markdown",
   "id": "92db8aee",
   "metadata": {},
   "source": [
    "# 3 Swapping values"
   ]
  },
  {
   "cell_type": "markdown",
   "id": "a39b10c0",
   "metadata": {},
   "source": [
    "Swapping values can be done as follows:"
   ]
  },
  {
   "cell_type": "code",
   "execution_count": 15,
   "id": "0d82ea83",
   "metadata": {},
   "outputs": [
    {
     "name": "stdout",
     "output_type": "stream",
     "text": [
      "2 1\n"
     ]
    }
   ],
   "source": [
    "a, b = 1, 2\n",
    "a, b = b, a \n",
    "print(a,b)"
   ]
  },
  {
   "cell_type": "markdown",
   "id": "2e6b366d",
   "metadata": {},
   "source": [
    "*Note*: you have to write `a, b = b, a` in one line simultaneously. Otherwise, you will need another variable to hold your stored value of either `a` or `b`. Refer to below code:"
   ]
  },
  {
   "cell_type": "code",
   "execution_count": null,
   "id": "d044fb55",
   "metadata": {},
   "outputs": [],
   "source": [
    "a, b = 1, 2\n",
    "# if we break the line a, b = b,a:\n",
    "\n",
    "a = b #now a = 2 (= b) while b = 2\n",
    "\n",
    "#if we now make b = a,  \n",
    "#then b is still 2 \n",
    "#since b = a and a has been updated to 2\n",
    "\n",
    "#we cannot proceed to swap value because we have lost the original value of a"
   ]
  },
  {
   "cell_type": "code",
   "execution_count": 16,
   "id": "f8a8f175",
   "metadata": {},
   "outputs": [
    {
     "name": "stdout",
     "output_type": "stream",
     "text": [
      "2 1\n"
     ]
    }
   ],
   "source": [
    "#thus, we must store original value of a in another variable c\n",
    "a, b = 1,2\n",
    "\n",
    "#another variable c stores original value of a, which is 1. Hence c = 1 and a = 1\n",
    "c = a\n",
    "\n",
    "#now a is updated to 2. Hence, c = 1, a = 2 (= b), b = 2\n",
    "a = b\n",
    "\n",
    "#now, update b to the value of c. Hence, c = 1, a = 2, b = 1 (= c)\n",
    "b = c\n",
    "\n",
    "print(a,b) #our a and b are now swapped successfully"
   ]
  },
  {
   "cell_type": "markdown",
   "id": "c18c3c2b",
   "metadata": {},
   "source": [
    "# 4 There are more types"
   ]
  },
  {
   "cell_type": "markdown",
   "id": "402c2a57",
   "metadata": {},
   "source": [
    "- Use `np.float16`, `np.float32` or `np.float64` for greater precision type when doing comparison & precise calculations"
   ]
  },
  {
   "cell_type": "markdown",
   "id": "295ebeb1",
   "metadata": {},
   "source": [
    "- `float16` is a half-precision floating-point format. In this format, numbers are represented using 16 bits (2 bytes)"
   ]
  },
  {
   "cell_type": "markdown",
   "id": "937bdc0c",
   "metadata": {},
   "source": [
    "- This is in contrast to the more common single-precision (`float32`, 32 bits) and double-precision (`float64`, 64 bits) floating-point formats."
   ]
  },
  {
   "cell_type": "markdown",
   "id": "f3925579",
   "metadata": {},
   "source": [
    "- Because it uses only 16 bits, `float16` is more memory-efficient than higher-precision types"
   ]
  },
  {
   "cell_type": "markdown",
   "id": "9684b0df",
   "metadata": {},
   "source": [
    "- The trade-off for its lower memory usage is that `float16` has a smaller range and less precision compared to `float32` or `float64`. This means it can represent fewer numbers and with less exactness"
   ]
  },
  {
   "cell_type": "code",
   "execution_count": 18,
   "id": "8f94bd34",
   "metadata": {},
   "outputs": [
    {
     "name": "stdout",
     "output_type": "stream",
     "text": [
      "float          : 2.220446049250313e-16\n",
      "float16        : 0.000977\n",
      "float32        : 1.1920929e-07\n",
      "float64        : 2.220446049250313e-16\n",
      "float128       : 1.084202172485504434e-19\n"
     ]
    }
   ],
   "source": [
    "import numpy as np\n",
    "my_types = [\n",
    "    float,       # Default for core Python on my machine\n",
    "    np.float16,\n",
    "    np.float32,\n",
    "    np.float64,\n",
    "    np.float128\n",
    "]\n",
    "\n",
    "for my_type in my_types:\n",
    "    print(f'{my_type.__name__:<15s}:', np.finfo(my_type).eps)"
   ]
  },
  {
   "cell_type": "markdown",
   "id": "9b1fff1f",
   "metadata": {},
   "source": [
    "# 5 Operator precedance"
   ]
  },
  {
   "cell_type": "markdown",
   "id": "1c547452",
   "metadata": {},
   "source": [
    "- Operator precedance prefers to the oder in which various operators are *'prioritised'* in Python"
   ]
  },
  {
   "cell_type": "markdown",
   "id": "220f8c93",
   "metadata": {},
   "source": [
    "\n",
    "1. Highest precedence at the top, lowest at the bottom.\n",
    "1. Operators in the same box evaluate left to right\n",
    "\n",
    "Refer to the below for operator precedance:\n",
    "![](https://miro.medium.com/v2/resize:fit:1400/1*yrtUnw0Y-Wul4jXWSGNg7g.jpeg)\n",
    "\n",
    "Reference link: (https://miro.medium.com/v2/resize:fit:1400/1*yrtUnw0Y-Wul4jXWSGNg7g.jpeg)"
   ]
  },
  {
   "cell_type": "markdown",
   "id": "a158a8c3",
   "metadata": {},
   "source": [
    "## 6 Variables in Python are just names"
   ]
  },
  {
   "cell_type": "markdown",
   "id": "32e49a6e",
   "metadata": {},
   "source": [
    "## 6.1 The Problem"
   ]
  },
  {
   "cell_type": "code",
   "execution_count": 19,
   "id": "30ba91cf",
   "metadata": {},
   "outputs": [
    {
     "name": "stdout",
     "output_type": "stream",
     "text": [
      "x: [1, 2, 3], y: [1, 2, 3]\n"
     ]
    }
   ],
   "source": [
    "x = [1, 2]\n",
    "y = x\n",
    "y.append(3)\n",
    "\n",
    "print(f\"x: {x}, y: {y}\")"
   ]
  },
  {
   "cell_type": "markdown",
   "id": "44f25f7b",
   "metadata": {},
   "source": [
    "**Ponders**: we are only updating variable `y` via `y.append(3)`; yet, variable `x` is also updated!"
   ]
  },
  {
   "cell_type": "markdown",
   "id": "32d1702e",
   "metadata": {},
   "source": [
    "However, it is not always the case!"
   ]
  },
  {
   "cell_type": "code",
   "execution_count": 20,
   "id": "ed939276",
   "metadata": {},
   "outputs": [
    {
     "name": "stdout",
     "output_type": "stream",
     "text": [
      "x: (1, 2, 3), y: (1, 2, 3, 4)\n"
     ]
    }
   ],
   "source": [
    "x = (1,2,3)\n",
    "y = x\n",
    "y += (4,)\n",
    "print(f\"x: {x}, y: {y}\")"
   ]
  },
  {
   "cell_type": "code",
   "execution_count": null,
   "id": "9d5b3b61",
   "metadata": {},
   "outputs": [],
   "source": [
    "Similarly:"
   ]
  },
  {
   "cell_type": "code",
   "execution_count": 23,
   "id": "fa4c8332",
   "metadata": {},
   "outputs": [
    {
     "name": "stdout",
     "output_type": "stream",
     "text": [
      "x: Hi, y: Hi An!\n"
     ]
    }
   ],
   "source": [
    "x = 'Hi'\n",
    "y = x\n",
    "y += ' An!'\n",
    "print(f\"x: {x}, y: {y}\")"
   ]
  },
  {
   "cell_type": "markdown",
   "id": "46f97117",
   "metadata": {},
   "source": [
    "Here, `x` still remains as it is originally assigned while `y` is updated"
   ]
  },
  {
   "cell_type": "markdown",
   "id": "52d0e598",
   "metadata": {},
   "source": [
    "## 6.2 An explanation"
   ]
  },
  {
   "cell_type": "markdown",
   "id": "d4de7a80",
   "metadata": {},
   "source": [
    "- Some data types are **immutable** while some are **mutuable**\n",
    "\n",
    "**Mutable**: \n",
    "- An object is considered mutable if it can be altered or changed after its creation.\n",
    "- Mutable objects allow modifications to their content without changing their identity. This means the memory address or the ID of the object remains the same even after its contents have been updated.\n",
    "- Examples: \n",
    "    - lists\n",
    "    - dictionaries\n",
    "    - sets\n",
    "    - and most user-defined classes\n",
    "    \n",
    "**Immutable**:\n",
    "- An object is immutable if, once created, its content cannot be changed.\n",
    "- When you try to modify an immutable object, instead of changing the original object, a new object is created with the modified value. The original object remains unchanged.\n",
    "- Examples:\n",
    "    - integers\n",
    "    - floats\n",
    "    - strings\n",
    "    - tuples"
   ]
  },
  {
   "cell_type": "markdown",
   "id": "c3cbbba2",
   "metadata": {},
   "source": [
    "## 6.3 A solution"
   ]
  },
  {
   "cell_type": "markdown",
   "id": "f8a83216",
   "metadata": {},
   "source": [
    "To work on a mutable data type without interupting its original value, we can use an independent copy of `x`:"
   ]
  },
  {
   "cell_type": "code",
   "execution_count": 26,
   "id": "f5fc9b7f",
   "metadata": {},
   "outputs": [],
   "source": [
    "x = [1,2,3]\n",
    "y = x.copy()"
   ]
  },
  {
   "cell_type": "markdown",
   "id": "78ba324f",
   "metadata": {},
   "source": [
    "Note:\n",
    "- `copy()` is not available for `str` or `tuple`, etc. because it only works with a mutable data type such as `list` or `dict`\n",
    "- `copy()` only creates a shallow copy of `x`. Meaning that if `x` is nested, `y` variable as a copy of `x` cannot access the nested layer of `x`"
   ]
  },
  {
   "cell_type": "markdown",
   "id": "ee7ed34c",
   "metadata": {},
   "source": [
    "For example:"
   ]
  },
  {
   "cell_type": "code",
   "execution_count": 35,
   "id": "98136d25",
   "metadata": {},
   "outputs": [
    {
     "name": "stdout",
     "output_type": "stream",
     "text": [
      "x: [1, [2, 3], 4]\n",
      "y: ['change', [2, 3], 4]\n"
     ]
    }
   ],
   "source": [
    "x = [1,[2,3],4]\n",
    "y = x.copy()\n",
    "y[0] = 'change'\n",
    "print(f\"x: {x}\\ny: {y}\")\n",
    "\n",
    "#y cannot change x although x is a list and mutable"
   ]
  },
  {
   "cell_type": "markdown",
   "id": "5aae751d",
   "metadata": {},
   "source": [
    "### Shallow Copy"
   ]
  },
  {
   "cell_type": "markdown",
   "id": "271cc077",
   "metadata": {},
   "source": [
    "- When it is a shallow copy, the nest inside `x` remains. \n",
    "- Therefore, a shallow copy only creates a new object to those in *1st layer* of `x`\n",
    "- But it doesn't create copies of the objects contained in the subsequent layers *2nd layer* onwards\n",
    "- In other words, elements in the 2nd layers of `y` are having same address as that of `x`. But elements in 1st layer of `y` are copies and have different address from that of `x`"
   ]
  },
  {
   "cell_type": "code",
   "execution_count": 36,
   "id": "abe744b6",
   "metadata": {},
   "outputs": [
    {
     "name": "stdout",
     "output_type": "stream",
     "text": [
      "x: [1, [2, 3], 4]\n",
      "y: [1, [2, 3], 4]\n"
     ]
    }
   ],
   "source": [
    "x = [1,[2,3],4]\n",
    "y = x.copy()\n",
    "print(f\"x: {x}\\ny: {y}\")"
   ]
  },
  {
   "cell_type": "markdown",
   "id": "ece092c7",
   "metadata": {},
   "source": [
    "Here:\n",
    "- Elements in 1st layer of `x` are `1`, `4`\n",
    "    - Those elements will be copied in `y`. Hence `1` and `4` in `y` are not occupying the same space as `1` and `4` in `x` respectively\n",
    " - Elements in subsequent nested layers of `x` are `2` and `3`\n",
    "     - Those nested elements would not be copied\n",
    "     - Hence, `2` and `3` in `x` are occupying the same block address of `2` and `3` in `y` respectively"
   ]
  },
  {
   "cell_type": "markdown",
   "id": "08f45df8",
   "metadata": {},
   "source": [
    "### Deep Copy"
   ]
  },
  {
   "cell_type": "markdown",
   "id": "a814ce22",
   "metadata": {},
   "source": [
    "- To do a deep copy, we must traverse all the nests within a mutable data type and perform a shallow copy of each nest.\n",
    "- This can be done via recursion algorithm or use `deepcopy()` method in `copy` package"
   ]
  },
  {
   "cell_type": "markdown",
   "id": "f1f9ddd6",
   "metadata": {},
   "source": [
    "#### Recursion for Deep Copy"
   ]
  },
  {
   "cell_type": "code",
   "execution_count": 39,
   "id": "9d5ef335",
   "metadata": {},
   "outputs": [
    {
     "name": "stdout",
     "output_type": "stream",
     "text": [
      "{'numbers': [1, 2, 3, [4, 5, 6]], 'letters': {'b', 'a', 'c'}, 'dict': {'nested_list': [7, 8, 9], 'nested_dict': {'x': 10}}}\n"
     ]
    }
   ],
   "source": [
    "def recursive_deepcopy(obj):\n",
    "    if isinstance(obj, dict):\n",
    "        # Create a new dictionary and recursively deep copy each key-value pair\n",
    "        return {recursive_deepcopy(key): recursive_deepcopy(value) for key, value in obj.items()}\n",
    "    elif isinstance(obj, list):\n",
    "        # Create a new list and recursively deep copy each element\n",
    "        return [recursive_deepcopy(element) for element in obj]\n",
    "    elif isinstance(obj, set):\n",
    "        # Create a new set and recursively deep copy each element\n",
    "        return {recursive_deepcopy(element) for element in obj}\n",
    "    else:\n",
    "        # For immutable data types, return the object as is\n",
    "        return obj\n",
    "\n",
    "# Example usage:\n",
    "original = {\n",
    "    \"numbers\": [1, 2, 3, [4, 5, 6]],\n",
    "    \"letters\": {'a', 'b', 'c'},\n",
    "    \"dict\": {\"nested_list\": [7, 8, 9], \"nested_dict\": {\"x\": 10}}\n",
    "}\n",
    "\n",
    "copied = recursive_deepcopy(original)\n",
    "print(copied)\n"
   ]
  },
  {
   "cell_type": "markdown",
   "id": "9389acf8",
   "metadata": {},
   "source": [
    "#### `copy.deepcopy()` for Deep Copy"
   ]
  },
  {
   "cell_type": "code",
   "execution_count": 46,
   "id": "383ad04b",
   "metadata": {},
   "outputs": [
    {
     "name": "stdout",
     "output_type": "stream",
     "text": [
      "deep_copied_list: [[1, 'change'], [3, 4]]\n",
      "original_list: [[1, 2], [3, 4]]\n"
     ]
    }
   ],
   "source": [
    "import copy\n",
    "\n",
    "original_list = [[1, 2], [3, 4]]\n",
    "deep_copied_list = copy.deepcopy(original_list)\n",
    "deep_copied_list[0][1] = 'change'\n",
    "\n",
    "print('deep_copied_list:',deep_copied_list)\n",
    "print('original_list:',original_list)\n",
    "\n",
    "#here, we can update the deep copy list without interfering the original value of original list"
   ]
  },
  {
   "cell_type": "markdown",
   "id": "2a43b0a2",
   "metadata": {},
   "source": [
    "# 7 == is not the same as is"
   ]
  },
  {
   "cell_type": "markdown",
   "id": "a875767e",
   "metadata": {},
   "source": [
    "- `==` only checks for the equality of value between variables\n",
    "- `is` checks for **identity**: meaning, the two variables must be of **same address** and **same value** to be considered identical"
   ]
  },
  {
   "cell_type": "code",
   "execution_count": 48,
   "id": "41c3205b",
   "metadata": {},
   "outputs": [
    {
     "data": {
      "text/plain": [
       "True"
      ]
     },
     "execution_count": 48,
     "metadata": {},
     "output_type": "execute_result"
    }
   ],
   "source": [
    "a = 5\n",
    "b = 5\n",
    "a == b #True because a and b holds the same value"
   ]
  },
  {
   "cell_type": "code",
   "execution_count": 50,
   "id": "43ced7dc",
   "metadata": {},
   "outputs": [
    {
     "data": {
      "text/plain": [
       "False"
      ]
     },
     "execution_count": 50,
     "metadata": {},
     "output_type": "execute_result"
    }
   ],
   "source": [
    "c = [1,2,3]\n",
    "d = [1,2,3]\n",
    "c is d #False because c and d are not in same address although they hold same value"
   ]
  },
  {
   "cell_type": "markdown",
   "id": "0551127d",
   "metadata": {},
   "source": [
    "**Note:**\n",
    "- However, Python is good for optimisation of memory space. \n",
    "- Hence, they will try to optimise the space if they identify two variables are having the same value and assign them to be in the same address block."
   ]
  },
  {
   "cell_type": "markdown",
   "id": "7172360c",
   "metadata": {},
   "source": [
    "For example, you will expect the output to be `False` when running this:\n"
   ]
  },
  {
   "cell_type": "code",
   "execution_count": 51,
   "id": "5417dd80",
   "metadata": {},
   "outputs": [
    {
     "data": {
      "text/plain": [
       "True"
      ]
     },
     "execution_count": 51,
     "metadata": {},
     "output_type": "execute_result"
    }
   ],
   "source": [
    "a = 5\n",
    "b = 5\n",
    "a is b"
   ]
  },
  {
   "cell_type": "markdown",
   "id": "0619d55e",
   "metadata": {},
   "source": [
    "- Yet, the output is `True` because Python sees both `a` and `b` are having the same value of `5`\n",
    "- Hence, instead of reserving 2 addresses to both store similar value of `5`, Python will make `a` and `b` to point to same address\n",
    "- This is so that it would not take so much memory space\n",
    "- Hence, the output is `True`"
   ]
  },
  {
   "cell_type": "markdown",
   "id": "f8aaf2a5",
   "metadata": {},
   "source": [
    "However, not all languages can be optimised like Python"
   ]
  },
  {
   "cell_type": "markdown",
   "id": "8c5d89cd",
   "metadata": {},
   "source": [
    "## Footnotes"
   ]
  }
 ],
 "metadata": {
  "kernelspec": {
   "display_name": "Python 3 (ipykernel)",
   "language": "python",
   "name": "python3"
  },
  "language_info": {
   "codemirror_mode": {
    "name": "ipython",
    "version": 3
   },
   "file_extension": ".py",
   "mimetype": "text/x-python",
   "name": "python",
   "nbconvert_exporter": "python",
   "pygments_lexer": "ipython3",
   "version": "3.8.8"
  },
  "toc": {
   "base_numbering": 1,
   "nav_menu": {},
   "number_sections": true,
   "sideBar": true,
   "skip_h1_title": false,
   "title_cell": "Table of Contents",
   "title_sidebar": "Contents",
   "toc_cell": false,
   "toc_position": {},
   "toc_section_display": true,
   "toc_window_display": false
  },
  "vscode": {
   "interpreter": {
    "hash": "31f2aee4e71d21fbe5cf8b01ff0e069b9275f58929596ceb00d14d90e3e16cd6"
   }
  }
 },
 "nbformat": 4,
 "nbformat_minor": 5
}
