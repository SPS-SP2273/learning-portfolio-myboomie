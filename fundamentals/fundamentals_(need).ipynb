{
 "cells": [
  {
   "cell_type": "markdown",
   "id": "123456",
   "metadata": {},
   "source": [
    "<div style=\"text-align:left;font-size:2em\"><span style=\"font-weight:bolder;font-size:1.25em\">SP2273 | Learning Portfolio</span><br><br><span style=\"font-weight:bold;color:darkred\">Fundamentals (Need)</span></div>"
   ]
  },
  {
   "cell_type": "markdown",
   "id": "7f988c1f",
   "metadata": {},
   "source": [
    "# What to expect in this chapter"
   ]
  },
  {
   "cell_type": "markdown",
   "id": "41ce06eb",
   "metadata": {},
   "source": [
    "# 1 Functions\n",
    "- A function is always followed by a parenthesis which includes parameters (aka inputs) of the function\n",
    "- However, a function does not necessarily need parameters\n",
    "- There are built-in functions in Python (refer to here: [Built-in functions in Python: Documentation](https://docs.python.org/3/library/functions.html) ); but we can also define our own functions "
   ]
  },
  {
   "cell_type": "markdown",
   "id": "b4ddc407",
   "metadata": {},
   "source": [
    "Example of a built-in function `len` that outputs the nunmber of characters (length) of a given parameter:"
   ]
  },
  {
   "cell_type": "code",
   "execution_count": 4,
   "id": "a879136f",
   "metadata": {},
   "outputs": [
    {
     "data": {
      "text/plain": [
       "16"
      ]
     },
     "execution_count": 4,
     "metadata": {},
     "output_type": "execute_result"
    }
   ],
   "source": [
    "string = 'This is a string'\n",
    "len(string)"
   ]
  },
  {
   "cell_type": "markdown",
   "id": "8592bc76",
   "metadata": {},
   "source": [
    "Example of a user-defined `greeting` function that will greet you. This function takes in your name as a parameter:"
   ]
  },
  {
   "cell_type": "code",
   "execution_count": 13,
   "id": "4070f15b",
   "metadata": {},
   "outputs": [
    {
     "data": {
      "text/plain": [
       "'Hello An! Hope you have a great day!'"
      ]
     },
     "execution_count": 13,
     "metadata": {},
     "output_type": "execute_result"
    }
   ],
   "source": [
    "def greeting(name):\n",
    "    return f'Hello {name}! Hope you have a great day!'\n",
    "greeting('An')"
   ]
  },
  {
   "cell_type": "markdown",
   "id": "cbc7804f",
   "metadata": {},
   "source": [
    "Example of a user-defined `Greeting` function that will greet you. However, it does not need a parameter:"
   ]
  },
  {
   "cell_type": "code",
   "execution_count": 9,
   "id": "714cc894",
   "metadata": {},
   "outputs": [
    {
     "data": {
      "text/plain": [
       "'Hello! Hope you have a great day!'"
      ]
     },
     "execution_count": 9,
     "metadata": {},
     "output_type": "execute_result"
    }
   ],
   "source": [
    "def Greeting():\n",
    "    return f'Hello! Hope you have a great day!'\n",
    "Greeting()"
   ]
  },
  {
   "cell_type": "markdown",
   "id": "a89d62ab",
   "metadata": {},
   "source": [
    "# 2 Remember"
   ]
  },
  {
   "cell_type": "markdown",
   "id": "3db6078d",
   "metadata": {},
   "source": [
    "- A function is ‘something’ that executes a specific task.\n",
    "- A function may or may not accept arguments.\n",
    "- We can define our own functions."
   ]
  },
  {
   "cell_type": "markdown",
   "id": "114aae3c",
   "metadata": {},
   "source": [
    "# 3 Python is interpreted"
   ]
  },
  {
   "cell_type": "markdown",
   "id": "b27d7f91",
   "metadata": {},
   "source": [
    "- Python interprets code line by line\n",
    "- If a line is erred, it will be stopped and an error will be thrown. The following lines would not be executed"
   ]
  },
  {
   "cell_type": "markdown",
   "id": "5def5b7f",
   "metadata": {},
   "source": [
    "# 4 Python is case-sensitive."
   ]
  },
  {
   "cell_type": "markdown",
   "id": "2d483b05",
   "metadata": {},
   "source": [
    "- Since Python is case sensitive, avoid grammar/spelling errors\n",
    "- For example, `Greeting` will be different from `greeting` (refer to above examples)"
   ]
  },
  {
   "cell_type": "code",
   "execution_count": 14,
   "id": "5b6bef30",
   "metadata": {},
   "outputs": [
    {
     "data": {
      "text/plain": [
       "'Hello An! Hope you have a great day!'"
      ]
     },
     "execution_count": 14,
     "metadata": {},
     "output_type": "execute_result"
    }
   ],
   "source": [
    "greeting('An')"
   ]
  },
  {
   "cell_type": "code",
   "execution_count": 15,
   "id": "ce2ee3f5",
   "metadata": {},
   "outputs": [
    {
     "data": {
      "text/plain": [
       "'Hello! Hope you have a great day!'"
      ]
     },
     "execution_count": 15,
     "metadata": {},
     "output_type": "execute_result"
    }
   ],
   "source": [
    "Greeting()"
   ]
  },
  {
   "cell_type": "markdown",
   "id": "fc09be8f",
   "metadata": {},
   "source": [
    "# 5 Remember"
   ]
  },
  {
   "cell_type": "markdown",
   "id": "3927a2b5",
   "metadata": {},
   "source": [
    "Since Python is case-sensitive, be also careful in calling function names. "
   ]
  },
  {
   "cell_type": "markdown",
   "id": "2ef8ad7a",
   "metadata": {},
   "source": [
    "# 6 Comments"
   ]
  },
  {
   "cell_type": "markdown",
   "id": "90682f32",
   "metadata": {},
   "source": [
    "- Any line that starts with a `#` before ending in that particular line will not be interpreted and executed because `#` denotes a comment. The programme will basically ignore it\n",
    "- Using comment is a debugging method where we run line by line to investigate where the error might be in\n",
    "- Using comment is necessary in explaining our code to readers "
   ]
  },
  {
   "cell_type": "markdown",
   "id": "a2a1b8f5",
   "metadata": {},
   "source": [
    "# 7 Remember"
   ]
  },
  {
   "cell_type": "markdown",
   "id": "61722dfb",
   "metadata": {},
   "source": [
    "**Use comments to emphasize the purpose of the code.**"
   ]
  },
  {
   "cell_type": "markdown",
   "id": "f59296b7",
   "metadata": {},
   "source": [
    "# 8 = is not the same as =="
   ]
  },
  {
   "cell_type": "markdown",
   "id": "7e6a697a",
   "metadata": {},
   "source": [
    "- `=` is an assignment operator where we assign a variable with a specified value\n",
    "- `==` means **equality** where we compare the value of variables; thus, will give us a Boolean answer of *yes, equal (True)* or *no, not equal (False)*\n"
   ]
  },
  {
   "cell_type": "markdown",
   "id": "dab49d4a",
   "metadata": {},
   "source": [
    "# 9 Remember"
   ]
  },
  {
   "cell_type": "markdown",
   "id": "8522ea9a",
   "metadata": {},
   "source": [
    "# 10 Use if to make decisions"
   ]
  },
  {
   "cell_type": "markdown",
   "id": "3650c00a",
   "metadata": {},
   "source": [
    "`if-elif-else` can be used to decide between cases\n",
    "- `if` pinpoints a specific case (identified by certain conditions set in parameters)\n",
    "- `elif` pinpoints another specific case\n",
    "- `else` refers to all other cases that are not mentioned in `if` and `elif`"
   ]
  },
  {
   "cell_type": "code",
   "execution_count": 26,
   "id": "b9ff500d",
   "metadata": {},
   "outputs": [
    {
     "name": "stdout",
     "output_type": "stream",
     "text": [
      "What is your favourite number?2\n",
      "This is a positive number\n"
     ]
    }
   ],
   "source": [
    "number = input('What is your favourite number?')\n",
    "\n",
    "if number < '0':\n",
    "    print('This is a negative number')\n",
    "elif number == '0':\n",
    "    print('Your favourite number is 0!')\n",
    "else:\n",
    "    print('This is a positive number')"
   ]
  },
  {
   "cell_type": "markdown",
   "id": "b5026e4d",
   "metadata": {},
   "source": [
    "# 11 Remember"
   ]
  },
  {
   "cell_type": "markdown",
   "id": "83658686",
   "metadata": {},
   "source": [
    "# 12 Indentations (spaces) are sooo IMPORTANT!"
   ]
  },
  {
   "cell_type": "markdown",
   "id": "53ee851c",
   "metadata": {},
   "source": [
    "- Use the `tab` to make create indentations. Without proper indentations, Python codes will not work\n",
    "- This is especially when it comes to functions and loops"
   ]
  },
  {
   "cell_type": "markdown",
   "id": "acb93e4a",
   "metadata": {},
   "source": [
    "# 13 Remember"
   ]
  },
  {
   "cell_type": "markdown",
   "id": "b9005df1",
   "metadata": {},
   "source": [
    "- Indentations play a crucial role in Python; do not use them indiscriminately.\n",
    "- `:` is used to designate a block of code."
   ]
  },
  {
   "cell_type": "markdown",
   "id": "4cb3a11d",
   "metadata": {},
   "source": [
    "# 14 ‘age’ is English, age is a variable."
   ]
  },
  {
   "cell_type": "markdown",
   "id": "b9d84d90",
   "metadata": {},
   "source": [
    "Here are some data types in Python:\n",
    "    \n",
    "| Data Type | Definition | Examples |\n",
    "|:--:|:--:|:--:|\n",
    "|Integer|A whole number or a number without a fractional part|$$-1, 0, 1, 1000$$|\n",
    "|Float| A number with fraction part| $$-1.5, 0.1, 0.332, 2.5566$$| \n",
    "|Boolean|`True` or `False` that represents logic in a statement| True, False|\n",
    "|String| A sequence of symbol enclosed by `''` or `\" \"`| \"abc\",\"sp2273\"|\n",
    "                                "
   ]
  },
  {
   "cell_type": "markdown",
   "id": "5c64c335",
   "metadata": {},
   "source": [
    "# 15 Brackets"
   ]
  },
  {
   "cell_type": "markdown",
   "id": "28bad91a",
   "metadata": {},
   "source": [
    "## 15.1 `()`"
   ]
  },
  {
   "cell_type": "markdown",
   "id": "e7ca7a0a",
   "metadata": {},
   "source": [
    "`()` is used in:\n",
    "- tuples\n",
    "- ~~set~~\n",
    "- calls of functions\n",
    "- mathematics"
   ]
  },
  {
   "cell_type": "markdown",
   "id": "d4a3a5f3",
   "metadata": {},
   "source": [
    "### `()` used in **tuples**"
   ]
  },
  {
   "cell_type": "code",
   "execution_count": 41,
   "id": "9d8532b8",
   "metadata": {},
   "outputs": [
    {
     "name": "stdout",
     "output_type": "stream",
     "text": [
      "(1, 2)\n"
     ]
    },
    {
     "data": {
      "text/plain": [
       "tuple"
      ]
     },
     "execution_count": 41,
     "metadata": {},
     "output_type": "execute_result"
    }
   ],
   "source": [
    "tup = (1,)\n",
    "tup = tup + (2,)\n",
    "print(tup)\n",
    "type(tup)"
   ]
  },
  {
   "cell_type": "markdown",
   "id": "79e7db8c",
   "metadata": {},
   "source": [
    "### `()` used in set"
   ]
  },
  {
   "cell_type": "code",
   "execution_count": 3,
   "id": "0f902372",
   "metadata": {},
   "outputs": [
    {
     "name": "stdout",
     "output_type": "stream",
     "text": [
      "(1, 2, 3, 4)\n"
     ]
    },
    {
     "data": {
      "text/plain": [
       "set"
      ]
     },
     "execution_count": 3,
     "metadata": {},
     "output_type": "execute_result"
    }
   ],
   "source": [
    "tuple_a = (1,2,3,4)\n",
    "print(tuple_a)\n",
    "set_a = set(tuple_a)\n",
    "type(set_a)"
   ]
  },
  {
   "cell_type": "markdown",
   "id": "63e23ea4",
   "metadata": {},
   "source": [
    "### `()` used in calls for function"
   ]
  },
  {
   "cell_type": "code",
   "execution_count": 44,
   "id": "92d3a61a",
   "metadata": {},
   "outputs": [
    {
     "data": {
      "text/plain": [
       "'Hello! Hope you have a great day!'"
      ]
     },
     "execution_count": 44,
     "metadata": {},
     "output_type": "execute_result"
    }
   ],
   "source": [
    "Greeting()"
   ]
  },
  {
   "cell_type": "markdown",
   "id": "bc6c8abd",
   "metadata": {},
   "source": [
    "### `()` used in mathematics"
   ]
  },
  {
   "cell_type": "code",
   "execution_count": 45,
   "id": "035295c6",
   "metadata": {},
   "outputs": [
    {
     "name": "stdout",
     "output_type": "stream",
     "text": [
      "6\n"
     ]
    }
   ],
   "source": [
    "print(1+2+3)"
   ]
  },
  {
   "cell_type": "markdown",
   "id": "26ffbd82",
   "metadata": {},
   "source": [
    "## 15.2 `[]`"
   ]
  },
  {
   "cell_type": "markdown",
   "id": "3366543f",
   "metadata": {},
   "source": [
    "`[]` is used in:\n",
    "- List\n",
    "- Array"
   ]
  },
  {
   "cell_type": "markdown",
   "id": "d5724bb8",
   "metadata": {},
   "source": [
    "### `[]` used in List"
   ]
  },
  {
   "cell_type": "code",
   "execution_count": 47,
   "id": "5501db34",
   "metadata": {},
   "outputs": [
    {
     "data": {
      "text/plain": [
       "list"
      ]
     },
     "execution_count": 47,
     "metadata": {},
     "output_type": "execute_result"
    }
   ],
   "source": [
    "a = [1,2,3,4,5]\n",
    "a[0] = 2\n",
    "a\n",
    "type(a)"
   ]
  },
  {
   "cell_type": "markdown",
   "id": "57e5aa34",
   "metadata": {},
   "source": [
    "### `[]` used in Array"
   ]
  },
  {
   "cell_type": "code",
   "execution_count": 50,
   "id": "d41e241c",
   "metadata": {},
   "outputs": [
    {
     "data": {
      "text/plain": [
       "numpy.ndarray"
      ]
     },
     "execution_count": 50,
     "metadata": {},
     "output_type": "execute_result"
    }
   ],
   "source": [
    "import numpy as np\n",
    "a = np.array([1,2,3])\n",
    "a\n",
    "type(a)"
   ]
  },
  {
   "cell_type": "markdown",
   "id": "da076c3e",
   "metadata": {},
   "source": [
    "## 15.3 `{}`"
   ]
  },
  {
   "cell_type": "markdown",
   "id": "f0253464",
   "metadata": {},
   "source": [
    "Curly brackets `{}` is used in dictionary"
   ]
  },
  {
   "cell_type": "code",
   "execution_count": 57,
   "id": "8e9e0f14",
   "metadata": {},
   "outputs": [
    {
     "data": {
      "text/plain": [
       "{1: 'a', 2: 'b', 3: 'c', 4: 'd', 5: 'e'}"
      ]
     },
     "execution_count": 57,
     "metadata": {},
     "output_type": "execute_result"
    }
   ],
   "source": [
    "a = [1,2,3,4,5]\n",
    "b = ['a','b','c','d','e']\n",
    "dic = dict(zip(a,b)) \n",
    "dic \n",
    "#{1: 'a', 2: 'b', 3: 'c', 4: 'd', 5: 'e'}"
   ]
  },
  {
   "cell_type": "markdown",
   "id": "1e3fca18",
   "metadata": {},
   "source": [
    "# 16 Giving Python superpowers with Packages"
   ]
  },
  {
   "cell_type": "code",
   "execution_count": null,
   "id": "775f2436",
   "metadata": {},
   "outputs": [],
   "source": []
  },
  {
   "cell_type": "markdown",
   "id": "4d59298b",
   "metadata": {},
   "source": [
    "## 16.1 Some Context"
   ]
  },
  {
   "cell_type": "markdown",
   "id": "29807b9c",
   "metadata": {},
   "source": [
    "Some built-in basic functions in Python might not be sufficient for what we need. But we can explore and use other functions built in other packages of Python, which are designed to do other tasks more efficiently that suit our needs\n",
    "\n",
    "To use the functions of those packages, we have to declare it (by typing `import + [package_name]`) to import that package"
   ]
  },
  {
   "cell_type": "markdown",
   "id": "633b4962",
   "metadata": {},
   "source": [
    "## 16.2 Importing the math package"
   ]
  },
  {
   "cell_type": "code",
   "execution_count": 51,
   "id": "0f7202dd",
   "metadata": {},
   "outputs": [
    {
     "name": "stdout",
     "output_type": "stream",
     "text": [
      "2.0\n"
     ]
    }
   ],
   "source": [
    "import math \n",
    "a = 4\n",
    "print(math.sqrt(a))"
   ]
  },
  {
   "cell_type": "markdown",
   "id": "0af7ec7e",
   "metadata": {},
   "source": [
    "However, since we only import the package, when we want to use a function that belongs to that package, we must declare that package in our calls, followed by a `.` and the function name\n",
    "\n",
    "e.g: `math.sqrt()`"
   ]
  },
  {
   "cell_type": "markdown",
   "id": "4335e52c",
   "metadata": {},
   "source": [
    "Otherwise, you can opt out the name of the package by mentioning it specifically via your importing statement.\n",
    "Instead of only `import math`, you can go for `from math import *` and then you can simply use `sqrt` without the need to call `math.` before it when using."
   ]
  },
  {
   "cell_type": "code",
   "execution_count": 55,
   "id": "638236f3",
   "metadata": {},
   "outputs": [
    {
     "name": "stdout",
     "output_type": "stream",
     "text": [
      "2.0\n"
     ]
    }
   ],
   "source": [
    "from math import *\n",
    "a = 4\n",
    "print(sqrt(a))"
   ]
  },
  {
   "cell_type": "markdown",
   "id": "e220c163",
   "metadata": {},
   "source": [
    "**Note: However, this is not a good coding practice to use `*` during import since it will create some confusion on which package/libary do our methods used belong to**"
   ]
  },
  {
   "cell_type": "markdown",
   "id": "ef4f24f3",
   "metadata": {},
   "source": [
    "## 16.3 Importing the numpy package"
   ]
  },
  {
   "cell_type": "code",
   "execution_count": 56,
   "id": "54f0d5d9",
   "metadata": {},
   "outputs": [],
   "source": [
    "import numpy as np"
   ]
  },
  {
   "cell_type": "markdown",
   "id": "fc34b21f",
   "metadata": {},
   "source": [
    "By using `np` as an alias of `numpy`, we can use it to import functions from the package without using the full name of package"
   ]
  },
  {
   "cell_type": "markdown",
   "id": "5ca547cc",
   "metadata": {},
   "source": [
    "## 16.4 Why so many packages?"
   ]
  },
  {
   "cell_type": "markdown",
   "id": "0826af66",
   "metadata": {},
   "source": [
    "# 17 Remember"
   ]
  },
  {
   "cell_type": "markdown",
   "id": "be431c01",
   "metadata": {},
   "source": [
    "- You can give Python ‘superpowers’ by importing packages.\n",
    "- You must import a package only once.\n",
    "- There are different ways to import packages (e.g. with or without an ‘alias’)."
   ]
  },
  {
   "cell_type": "markdown",
   "id": "e7988af0",
   "metadata": {},
   "source": [
    "# 18 The dot (.)"
   ]
  },
  {
   "cell_type": "markdown",
   "id": "46b588c0",
   "metadata": {},
   "source": [
    "- Dot `.` is used to indicate ownership\n",
    "For example, we use the sqrt() function that belongs to the math module. Hence, `math.sqrt()` means that we are calling the square root function `sqrt` is an method(function) of the `math` package.\n",
    "\n",
    "- Dot `.` in OOP also indicates ownership to attributes of class"
   ]
  },
  {
   "cell_type": "markdown",
   "id": "74366e07",
   "metadata": {},
   "source": [
    "e.g: Example of `.` used in OOP for accessing attributes of class"
   ]
  },
  {
   "cell_type": "code",
   "execution_count": 61,
   "id": "a8b999ba",
   "metadata": {},
   "outputs": [
    {
     "name": "stdout",
     "output_type": "stream",
     "text": [
      "An\n"
     ]
    }
   ],
   "source": [
    "class Student():\n",
    "    def __init__(self,name, ID, school):\n",
    "        self.name = name\n",
    "        self.ID = ID\n",
    "        self.school = school\n",
    "\n",
    "myboomie = Student('An', '1234', 'NUS')\n",
    "print(myboomie.name)"
   ]
  },
  {
   "cell_type": "markdown",
   "id": "feaeb0fc",
   "metadata": {},
   "source": [
    "# 19 Remember"
   ]
  },
  {
   "cell_type": "markdown",
   "id": "d3302c8c",
   "metadata": {},
   "source": [
    "## Footnotes"
   ]
  }
 ],
 "metadata": {
  "kernelspec": {
   "display_name": "Python 3 (ipykernel)",
   "language": "python",
   "name": "python3"
  },
  "language_info": {
   "codemirror_mode": {
    "name": "ipython",
    "version": 3
   },
   "file_extension": ".py",
   "mimetype": "text/x-python",
   "name": "python",
   "nbconvert_exporter": "python",
   "pygments_lexer": "ipython3",
   "version": "3.8.8"
  },
  "toc": {
   "base_numbering": 1,
   "nav_menu": {},
   "number_sections": true,
   "sideBar": true,
   "skip_h1_title": false,
   "title_cell": "Table of Contents",
   "title_sidebar": "Contents",
   "toc_cell": false,
   "toc_position": {},
   "toc_section_display": true,
   "toc_window_display": false
  },
  "vscode": {
   "interpreter": {
    "hash": "31f2aee4e71d21fbe5cf8b01ff0e069b9275f58929596ceb00d14d90e3e16cd6"
   }
  }
 },
 "nbformat": 4,
 "nbformat_minor": 5
}
