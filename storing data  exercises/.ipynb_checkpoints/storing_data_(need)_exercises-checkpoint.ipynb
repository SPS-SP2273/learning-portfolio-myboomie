{
 "cells": [
  {
   "cell_type": "markdown",
   "id": "123456",
   "metadata": {},
   "source": [
    "<div style=\"text-align:left;font-size:2em\"><span style=\"font-weight:bolder;font-size:1.25em\">SP2273 | Learning Portfolio</span><br><br><span style=\"font-weight:bold;color:darkred\">Storing Data (Need) Exercises</span></div>"
   ]
  },
  {
   "cell_type": "markdown",
   "id": "ebecaf65",
   "metadata": {},
   "source": [
    "# Exercise 1"
   ]
  },
  {
   "cell_type": "markdown",
   "id": "6c383ad6",
   "metadata": {},
   "source": [
    "## 1. Two similarities between lists and arrays."
   ]
  },
  {
   "cell_type": "markdown",
   "id": "9aa3b145",
   "metadata": {},
   "source": [
    "- Elements in both can be accessed via slicing through indexing\n",
    "- We can access the size of both by using `len`"
   ]
  },
  {
   "cell_type": "markdown",
   "id": "48bcd0a3",
   "metadata": {},
   "source": [
    "## 2. Two differences between lists and arrays."
   ]
  },
  {
   "cell_type": "markdown",
   "id": "4a66a7a6",
   "metadata": {},
   "source": [
    "- Elements in a list can be of different type while arrays can only store same type data\n",
    "- Using `+` on lists make it grow in size while for arrays, it applies the operation on each element"
   ]
  },
  {
   "cell_type": "markdown",
   "id": "6a22c564",
   "metadata": {},
   "source": [
    "## 3. What is a dictionary?"
   ]
  },
  {
   "cell_type": "markdown",
   "id": "40ea54cf",
   "metadata": {},
   "source": [
    "In Python, a dictionary is a type of data that uses key-value pairs to efficiently store and retrieve data"
   ]
  },
  {
   "cell_type": "markdown",
   "id": "28b1a76c",
   "metadata": {},
   "source": [
    "# Exercise 2"
   ]
  },
  {
   "cell_type": "code",
   "execution_count": 4,
   "id": "4a96456e",
   "metadata": {},
   "outputs": [
    {
     "name": "stdout",
     "output_type": "stream",
     "text": [
      "a1\n",
      "c3\n",
      "e5\n",
      "g7\n",
      "i9\n"
     ]
    }
   ],
   "source": [
    "py_list = [\"a1\", \"b2\", \"c3\", \"d4\", \"e5\", \"f6\", \"g7\", \"h8\", \"i9\", \"j10\"]\n",
    "for i in range(len(py_list)):\n",
    "    if not(i%2):\n",
    "        print(py_list[i])"
   ]
  },
  {
   "cell_type": "markdown",
   "id": "9643a0e1",
   "metadata": {},
   "source": [
    "# Exercise 3"
   ]
  },
  {
   "cell_type": "code",
   "execution_count": 6,
   "id": "74079a01",
   "metadata": {},
   "outputs": [],
   "source": [
    "elements = ['Hydrogen',\n",
    "            'Helium', 'Lithium',\n",
    "            'Beryllium', 'Boron', 'Carbon',\n",
    "            'Nitrogen', 'Oxygen',\n",
    "            'Fluorine',\n",
    "            'Neon']"
   ]
  },
  {
   "cell_type": "markdown",
   "id": "16acc2ab",
   "metadata": {},
   "source": [
    "### 1. Access and print the element at index 4 using forward indexing."
   ]
  },
  {
   "cell_type": "code",
   "execution_count": 7,
   "id": "e02b725a",
   "metadata": {},
   "outputs": [
    {
     "name": "stdout",
     "output_type": "stream",
     "text": [
      "Boron\n"
     ]
    }
   ],
   "source": [
    "print(elements[4])"
   ]
  },
  {
   "cell_type": "markdown",
   "id": "5c7ddac8",
   "metadata": {},
   "source": [
    "### 2. Access and print the element at index 4 from the end of the list using reverse indexing."
   ]
  },
  {
   "cell_type": "code",
   "execution_count": 9,
   "id": "21daa9f8",
   "metadata": {},
   "outputs": [
    {
     "name": "stdout",
     "output_type": "stream",
     "text": [
      "Boron\n"
     ]
    }
   ],
   "source": [
    "n = len(elements)\n",
    "reverse_at_4 = 4 - n\n",
    "print(elements[reverse_at_4])"
   ]
  },
  {
   "cell_type": "markdown",
   "id": "2e15dba4",
   "metadata": {},
   "source": [
    "# Exercise 4"
   ]
  },
  {
   "cell_type": "code",
   "execution_count": 19,
   "id": "d2765122",
   "metadata": {},
   "outputs": [],
   "source": [
    "numbers=[45, 60, 1, 30, 96, 1, 96, 57, 16, 1,\n",
    "        99, 62, 86, 43, 42, 60, 59, 1, 1, 35,\n",
    "        83, 47, 34, 28, 68, 23, 22, 92, 1, 79,\n",
    "        1, 29, 94, 72, 46, 47, 1, 74, 32, 20,\n",
    "        8, 37, 35, 1, 89, 29, 86, 19, 43, 61]                  "
   ]
  },
  {
   "cell_type": "code",
   "execution_count": 20,
   "id": "6f7f2d4e",
   "metadata": {},
   "outputs": [
    {
     "name": "stdout",
     "output_type": "stream",
     "text": [
      "9\n"
     ]
    }
   ],
   "source": [
    "#iterate through list and count\n",
    "count = 0\n",
    "for i in numbers:\n",
    "    if i == 1:\n",
    "        count += 1\n",
    "print(count)"
   ]
  },
  {
   "cell_type": "code",
   "execution_count": 25,
   "id": "0ac82612",
   "metadata": {},
   "outputs": [],
   "source": [
    "#ask a question in numpy\n",
    "import numpy as np\n",
    "numbers = np.array(numbers)\n",
    "numbers = numbers == 1 #update numbers to the true-false array after checking element being equal to 1"
   ]
  },
  {
   "cell_type": "code",
   "execution_count": 26,
   "id": "f7570fd2",
   "metadata": {},
   "outputs": [
    {
     "data": {
      "text/plain": [
       "9"
      ]
     },
     "execution_count": 26,
     "metadata": {},
     "output_type": "execute_result"
    }
   ],
   "source": [
    "numbers.sum()"
   ]
  }
 ],
 "metadata": {
  "kernelspec": {
   "display_name": "Python 3 (ipykernel)",
   "language": "python",
   "name": "python3"
  },
  "language_info": {
   "codemirror_mode": {
    "name": "ipython",
    "version": 3
   },
   "file_extension": ".py",
   "mimetype": "text/x-python",
   "name": "python",
   "nbconvert_exporter": "python",
   "pygments_lexer": "ipython3",
   "version": "3.8.8"
  },
  "toc": {
   "base_numbering": 1,
   "nav_menu": {},
   "number_sections": true,
   "sideBar": true,
   "skip_h1_title": false,
   "title_cell": "Table of Contents",
   "title_sidebar": "Contents",
   "toc_cell": false,
   "toc_position": {},
   "toc_section_display": true,
   "toc_window_display": false
  },
  "vscode": {
   "interpreter": {
    "hash": "31f2aee4e71d21fbe5cf8b01ff0e069b9275f58929596ceb00d14d90e3e16cd6"
   }
  }
 },
 "nbformat": 4,
 "nbformat_minor": 5
}
