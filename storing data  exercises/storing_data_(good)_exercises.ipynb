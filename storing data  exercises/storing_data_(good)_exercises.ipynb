{
 "cells": [
  {
   "cell_type": "markdown",
   "id": "123456",
   "metadata": {},
   "source": [
    "<div style=\"text-align:left;font-size:2em\"><span style=\"font-weight:bolder;font-size:1.25em\">SP2273 | Learning Portfolio</span><br><br><span style=\"font-weight:bold;color:darkred\">Storing Data (Good) Exercises</span></div>"
   ]
  },
  {
   "cell_type": "markdown",
   "id": "659b0b00",
   "metadata": {},
   "source": [
    "# Exercise 1"
   ]
  },
  {
   "cell_type": "markdown",
   "id": "377f76a4",
   "metadata": {},
   "source": [
    "|Term|Brief description|\n",
    "|:--:|:--:|\n",
    "|Subsetting|Selecting a specific portion of data|\n",
    "|Indexing|Accessing a specific element in a variable through an integer to identify its position|\n",
    "|Slicing|Extracting a portion (single element or various elements) of a variable|\n",
    "|Masking|Filtering data by creating a boolean mask (an array of True and False values) to select elements based on specified conditions|"
   ]
  },
  {
   "cell_type": "markdown",
   "id": "bfeb2cfb",
   "metadata": {},
   "source": [
    "# Exercise 2"
   ]
  },
  {
   "cell_type": "markdown",
   "id": "8c7de078",
   "metadata": {},
   "source": [
    "## Use masking to subset the letters that correspond to the odd numbers. \n",
    "\n",
    "I.e., get the result `[A, C, E, G, I]`."
   ]
  },
  {
   "cell_type": "code",
   "execution_count": 1,
   "id": "c32abf52",
   "metadata": {},
   "outputs": [],
   "source": [
    "\n",
    "import numpy as np\n",
    "np_array_2d = np.array([[1, \"A\"], [3, \"C\"], [2, \"B\"], [4, \"D\"],\n",
    "                        [5, \"E\"], [7, \"G\"], [6, \"F\"], [8, \"H\"],\n",
    "                        [10, \"J\"], [9, \"I\"]])"
   ]
  },
  {
   "cell_type": "code",
   "execution_count": 2,
   "id": "d33dcaea",
   "metadata": {},
   "outputs": [],
   "source": [
    "# Must use another variable to hold the original array because we want to reference it back after finding the desired positions\n",
    "temp = np_array_2d\n",
    "\n",
    "# Subset all the first elements\n",
    "temp = temp[:,0]\n",
    "\n",
    "#Convert this to integers using `astype(int)`\n",
    "temp = temp.astype(int)\n"
   ]
  },
  {
   "cell_type": "code",
   "execution_count": 3,
   "id": "de97a1f4",
   "metadata": {},
   "outputs": [
    {
     "data": {
      "text/plain": [
       "array([ True,  True, False, False,  True,  True, False, False, False,\n",
       "        True])"
      ]
     },
     "execution_count": 3,
     "metadata": {},
     "output_type": "execute_result"
    }
   ],
   "source": [
    "# Use `%` to get the remainder for division by `2` & mask it with boolean values\n",
    "temp = temp % 2 == 1\n",
    "temp"
   ]
  },
  {
   "cell_type": "code",
   "execution_count": 4,
   "id": "18577bba",
   "metadata": {},
   "outputs": [
    {
     "data": {
      "text/plain": [
       "array(['A', 'C', 'E', 'G', 'I'], dtype='<U21')"
      ]
     },
     "execution_count": 4,
     "metadata": {},
     "output_type": "execute_result"
    }
   ],
   "source": [
    "#Use the mask and extract the corresponding second elements\n",
    "np_array_2d[temp,1]"
   ]
  }
 ],
 "metadata": {
  "kernelspec": {
   "display_name": "Python 3 (ipykernel)",
   "language": "python",
   "name": "python3"
  },
  "language_info": {
   "codemirror_mode": {
    "name": "ipython",
    "version": 3
   },
   "file_extension": ".py",
   "mimetype": "text/x-python",
   "name": "python",
   "nbconvert_exporter": "python",
   "pygments_lexer": "ipython3",
   "version": "3.8.8"
  },
  "toc": {
   "base_numbering": 1,
   "nav_menu": {},
   "number_sections": true,
   "sideBar": true,
   "skip_h1_title": false,
   "title_cell": "Table of Contents",
   "title_sidebar": "Contents",
   "toc_cell": false,
   "toc_position": {},
   "toc_section_display": true,
   "toc_window_display": false
  },
  "vscode": {
   "interpreter": {
    "hash": "31f2aee4e71d21fbe5cf8b01ff0e069b9275f58929596ceb00d14d90e3e16cd6"
   }
  }
 },
 "nbformat": 4,
 "nbformat_minor": 5
}
