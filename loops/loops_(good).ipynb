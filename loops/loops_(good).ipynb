{
 "cells": [
  {
   "cell_type": "markdown",
   "id": "123456",
   "metadata": {},
   "source": [
    "<div style=\"text-align:left;font-size:2em\"><span style=\"font-weight:bolder;font-size:1.25em\">SP2273 | Learning Portfolio</span><br><br><span style=\"font-weight:bold;color:darkred\">Loops (Good)</span></div>"
   ]
  },
  {
   "cell_type": "markdown",
   "id": "9cea6abe",
   "metadata": {},
   "source": [
    "# What to expect in this chapter"
   ]
  },
  {
   "cell_type": "markdown",
   "id": "3170cd17",
   "metadata": {},
   "source": [
    "# 1 Interrupting the flow"
   ]
  },
  {
   "cell_type": "markdown",
   "id": "b597401d",
   "metadata": {},
   "source": [
    "![](https://pythonclass.in/images/while-loop-break-vs%20continue.jpg)"
   ]
  },
  {
   "cell_type": "markdown",
   "id": "a38874c2",
   "metadata": {},
   "source": [
    "We can interupt a loop using `break` and `continue`. A `break` will exit the loop while a `continue` will return back to the loop to check the condition"
   ]
  },
  {
   "cell_type": "code",
   "execution_count": 4,
   "id": "11992b6d",
   "metadata": {},
   "outputs": [
    {
     "name": "stdout",
     "output_type": "stream",
     "text": [
      "0\n",
      "1\n",
      "2\n",
      "3\n",
      "4\n",
      "5\n",
      "6\n",
      "7\n"
     ]
    }
   ],
   "source": [
    "for i in range(10):\n",
    "    number = i ** 2\n",
    "    if number > 50:\n",
    "        break #exit this for loop if square of a number is greater than 50\n",
    "    print(i)"
   ]
  },
  {
   "cell_type": "code",
   "execution_count": 6,
   "id": "46556d66",
   "metadata": {},
   "outputs": [
    {
     "name": "stdout",
     "output_type": "stream",
     "text": [
      "0\n",
      "1\n",
      "2\n",
      "3\n",
      "4\n",
      "5\n",
      "6\n",
      "7\n"
     ]
    }
   ],
   "source": [
    "for i in range(10):\n",
    "    number = i ** 2\n",
    "    if number > 50:\n",
    "        continue # go back to the for loop if square of a number is greater than 50\n",
    "    print(i) \n",
    "# those number that has its square > 50 will never get printed \n",
    "# because the if statement is executed and this line is not reached"
   ]
  },
  {
   "cell_type": "markdown",
   "id": "857d808a",
   "metadata": {},
   "source": [
    "# 2 List comprehension!"
   ]
  },
  {
   "cell_type": "markdown",
   "id": "3556857d",
   "metadata": {},
   "source": [
    "## 2.1 Basic syntax"
   ]
  },
  {
   "cell_type": "code",
   "execution_count": 7,
   "id": "2930d143",
   "metadata": {},
   "outputs": [
    {
     "data": {
      "text/plain": [
       "[1, 8, 27, 64, 125, 216, 343, 512, 729]"
      ]
     },
     "execution_count": 7,
     "metadata": {},
     "output_type": "execute_result"
    }
   ],
   "source": [
    "d = [i**3 for i in range(1,10)] #more concise, shorter than a for loop to create list\n",
    "d"
   ]
  },
  {
   "cell_type": "code",
   "execution_count": 8,
   "id": "5f5fb435",
   "metadata": {},
   "outputs": [
    {
     "data": {
      "text/plain": [
       "[0, 7, 26, 63, 124, 215, 342, 511, 728]"
      ]
     },
     "execution_count": 8,
     "metadata": {},
     "output_type": "execute_result"
    }
   ],
   "source": [
    "d = [i -1 for i in d]\n",
    "d"
   ]
  },
  {
   "cell_type": "markdown",
   "id": "d4a2282b",
   "metadata": {},
   "source": [
    "## 2.2 List comprehension with conditions"
   ]
  },
  {
   "cell_type": "code",
   "execution_count": 10,
   "id": "eb12f9f1",
   "metadata": {},
   "outputs": [
    {
     "data": {
      "text/plain": [
       "[0,\n",
       " 3,\n",
       " 6,\n",
       " 9,\n",
       " 12,\n",
       " 15,\n",
       " 18,\n",
       " 21,\n",
       " 24,\n",
       " 27,\n",
       " 30,\n",
       " 33,\n",
       " 36,\n",
       " 39,\n",
       " 42,\n",
       " 45,\n",
       " 48,\n",
       " 51,\n",
       " 54,\n",
       " 57,\n",
       " 60,\n",
       " 63,\n",
       " 66,\n",
       " 69,\n",
       " 72,\n",
       " 75,\n",
       " 78,\n",
       " 81,\n",
       " 84,\n",
       " 87,\n",
       " 90,\n",
       " 93,\n",
       " 96,\n",
       " 99]"
      ]
     },
     "execution_count": 10,
     "metadata": {},
     "output_type": "execute_result"
    }
   ],
   "source": [
    "e = [i for i in range(100)]\n",
    "#only get those who are divisible by 3\n",
    "e = [i for i in e if i%3 == 0]\n",
    "e"
   ]
  },
  {
   "cell_type": "markdown",
   "id": "d66901c8",
   "metadata": {},
   "source": [
    "# 3 Other useful stuff"
   ]
  },
  {
   "cell_type": "markdown",
   "id": "fcfda215",
   "metadata": {},
   "source": [
    "## 3.1 `for` with unpacking"
   ]
  },
  {
   "cell_type": "markdown",
   "id": "09e47f34",
   "metadata": {},
   "source": [
    "We can unpack the elements in a list by assigning variables to the lists containing those elements. For example, if a list has 3 elements, we can assign 3 variables to hold values for these 3 elements"
   ]
  },
  {
   "cell_type": "code",
   "execution_count": 11,
   "id": "70d1fc16",
   "metadata": {},
   "outputs": [
    {
     "name": "stdout",
     "output_type": "stream",
     "text": [
      "x is: a, y is: b, z is: c\n"
     ]
    }
   ],
   "source": [
    "x,y,z = ['a','b','c']\n",
    "print(f'x is: {x}, y is: {y}, z is: {z}')"
   ]
  },
  {
   "cell_type": "markdown",
   "id": "72384eb1",
   "metadata": {},
   "source": [
    "We can also do the same thing for 2D list:"
   ]
  },
  {
   "cell_type": "code",
   "execution_count": 12,
   "id": "fd4b8e15",
   "metadata": {},
   "outputs": [
    {
     "name": "stdout",
     "output_type": "stream",
     "text": [
      "x_coordinate is: 1, y_coordinate is: 2\n",
      "x_coordinate is: 3, y_coordinate is: 4\n",
      "x_coordinate is: 5, y_coordinate is: 6\n"
     ]
    }
   ],
   "source": [
    "coord = [(1,2),(3,4),(5,6)]\n",
    "for x,y in coord:\n",
    "    print(f'x_coordinate is: {x}, y_coordinate is: {y}')"
   ]
  },
  {
   "cell_type": "markdown",
   "id": "f7d1ddd5",
   "metadata": {},
   "source": [
    "## 3.2 for with zip()"
   ]
  },
  {
   "cell_type": "markdown",
   "id": "d7086e36",
   "metadata": {},
   "source": [
    "We can use `zip()` to combine things to together to make them become a pair. \n",
    "For example, we have a list of all x_coordinates of 5 points and another list of y coordinates of these 5 points respectively. We want to create a coordinates list"
   ]
  },
  {
   "cell_type": "code",
   "execution_count": 13,
   "id": "477d8835",
   "metadata": {},
   "outputs": [
    {
     "name": "stdout",
     "output_type": "stream",
     "text": [
      "x_coordinate is: 1, y_coordinate is: 6\n",
      "x_coordinate is: 2, y_coordinate is: 7\n",
      "x_coordinate is: 3, y_coordinate is: 8\n",
      "x_coordinate is: 4, y_coordinate is: 9\n",
      "x_coordinate is: 5, y_coordinate is: 10\n"
     ]
    }
   ],
   "source": [
    "x_list = [1,2,3,4,5]\n",
    "y_list = [6,7,8,9,10]\n",
    "coordinates = zip(x_list, y_list)\n",
    "for x,y in coordinates:\n",
    "    print(f'x_coordinate is: {x}, y_coordinate is: {y}')"
   ]
  },
  {
   "cell_type": "markdown",
   "id": "6f322b50",
   "metadata": {},
   "source": [
    "## 3.3 for with dictionaries"
   ]
  },
  {
   "cell_type": "markdown",
   "id": "c56ac63a",
   "metadata": {},
   "source": [
    "Similarly, we can use `zip()` to create a dictionary since key-value in dictionaries act as a unique pair"
   ]
  },
  {
   "cell_type": "code",
   "execution_count": 14,
   "id": "ea34000c",
   "metadata": {},
   "outputs": [
    {
     "data": {
      "text/plain": [
       "{1: 6, 2: 7, 3: 8, 4: 9, 5: 10}"
      ]
     },
     "execution_count": 14,
     "metadata": {},
     "output_type": "execute_result"
    }
   ],
   "source": [
    "coord_dict = dict(zip(x_list, y_list))\n",
    "coord_dict"
   ]
  },
  {
   "cell_type": "code",
   "execution_count": 15,
   "id": "fb3be659",
   "metadata": {},
   "outputs": [
    {
     "name": "stdout",
     "output_type": "stream",
     "text": [
      "x_coordinate is: 5, y_coordinate is: 10\n",
      "x_coordinate is: 5, y_coordinate is: 10\n",
      "x_coordinate is: 5, y_coordinate is: 10\n",
      "x_coordinate is: 5, y_coordinate is: 10\n",
      "x_coordinate is: 5, y_coordinate is: 10\n"
     ]
    }
   ],
   "source": [
    "for key, value in coord_dict.items():\n",
    "    print(f'x_coordinate is: {x}, y_coordinate is: {y}')"
   ]
  },
  {
   "cell_type": "markdown",
   "id": "ad0026c8",
   "metadata": {},
   "source": [
    "## Footnotes"
   ]
  }
 ],
 "metadata": {
  "kernelspec": {
   "display_name": "Python 3 (ipykernel)",
   "language": "python",
   "name": "python3"
  },
  "language_info": {
   "codemirror_mode": {
    "name": "ipython",
    "version": 3
   },
   "file_extension": ".py",
   "mimetype": "text/x-python",
   "name": "python",
   "nbconvert_exporter": "python",
   "pygments_lexer": "ipython3",
   "version": "3.8.8"
  },
  "toc": {
   "base_numbering": 1,
   "nav_menu": {},
   "number_sections": true,
   "sideBar": true,
   "skip_h1_title": false,
   "title_cell": "Table of Contents",
   "title_sidebar": "Contents",
   "toc_cell": false,
   "toc_position": {},
   "toc_section_display": true,
   "toc_window_display": false
  },
  "vscode": {
   "interpreter": {
    "hash": "31f2aee4e71d21fbe5cf8b01ff0e069b9275f58929596ceb00d14d90e3e16cd6"
   }
  }
 },
 "nbformat": 4,
 "nbformat_minor": 5
}
