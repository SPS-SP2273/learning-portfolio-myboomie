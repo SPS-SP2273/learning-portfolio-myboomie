{
 "cells": [
  {
   "cell_type": "markdown",
   "id": "123456",
   "metadata": {},
   "source": [
    "<div style=\"text-align:left;font-size:2em\"><span style=\"font-weight:bolder;font-size:1.25em\">SP2273 | Learning Portfolio</span><br><br><span style=\"font-weight:bold;color:darkred\">Loops (Need)</span></div>"
   ]
  },
  {
   "cell_type": "markdown",
   "id": "4eeed6da",
   "metadata": {},
   "source": [
    "# What to expect in this chapter"
   ]
  },
  {
   "cell_type": "markdown",
   "id": "64a3b141",
   "metadata": {},
   "source": [
    "# 1 The for iterator"
   ]
  },
  {
   "cell_type": "markdown",
   "id": "9a5688f2",
   "metadata": {},
   "source": [
    "## 1.1 for with a list"
   ]
  },
  {
   "cell_type": "markdown",
   "id": "868427ba",
   "metadata": {},
   "source": [
    "`For` is used to iterate through a list. It basically means: *for item in this list, we will do something about it*"
   ]
  },
  {
   "cell_type": "code",
   "execution_count": 2,
   "id": "03dad961",
   "metadata": {},
   "outputs": [
    {
     "name": "stdout",
     "output_type": "stream",
     "text": [
      "Multiply this number 1 by 2: 2\n",
      "Multiply this number 2 by 2: 4\n",
      "Multiply this number 3 by 2: 6\n",
      "Multiply this number 4 by 2: 8\n",
      "Multiply this number 5 by 2: 10\n",
      "Multiply this number 6 by 2: 12\n",
      "Multiply this number 7 by 2: 14\n",
      "Multiply this number 8 by 2: 16\n",
      "Multiply this number 9 by 2: 18\n"
     ]
    }
   ],
   "source": [
    "d = [1,2,3,4,5,6,7,8,9]\n",
    "for item in d:\n",
    "    print(f'Multiply this number {item} by 2: {item *2}')"
   ]
  },
  {
   "cell_type": "markdown",
   "id": "0d283020",
   "metadata": {},
   "source": [
    "## 1.2 for with enumerate"
   ]
  },
  {
   "cell_type": "markdown",
   "id": "f80203a0",
   "metadata": {},
   "source": [
    "`enumerate()` basically gives us the index of an item as it loops through the list. Hence, it can help us count or keep track of the numerical indexing as we traverse through a list"
   ]
  },
  {
   "cell_type": "code",
   "execution_count": 5,
   "id": "765becf5",
   "metadata": {},
   "outputs": [
    {
     "name": "stdout",
     "output_type": "stream",
     "text": [
      "Index 0: is person named Sean\n",
      "Index 1: is person named An\n",
      "Index 2: is person named Ball\n",
      "Index 3: is person named Cindy\n"
     ]
    }
   ],
   "source": [
    "names = ['Sean', 'An', 'Ball', 'Cindy']\n",
    "for count, name in enumerate(names):\n",
    "    print(f'Index {count}: is person named {name}')"
   ]
  },
  {
   "cell_type": "markdown",
   "id": "f57f38a6",
   "metadata": {},
   "source": [
    "`enumerate()` starts with default index (0), but we can change its starting point. For example, we want the starting value (for example, 20)"
   ]
  },
  {
   "cell_type": "code",
   "execution_count": 6,
   "id": "2b4a339a",
   "metadata": {},
   "outputs": [
    {
     "name": "stdout",
     "output_type": "stream",
     "text": [
      "Index 20: is person named Sean\n",
      "Index 21: is person named An\n",
      "Index 22: is person named Ball\n",
      "Index 23: is person named Cindy\n"
     ]
    }
   ],
   "source": [
    "for count, name in enumerate(names, 20):\n",
    "    print(f'Index {count}: is person named {name}')"
   ]
  },
  {
   "cell_type": "markdown",
   "id": "64bdd96b",
   "metadata": {},
   "source": [
    "## 1.3 for with range"
   ]
  },
  {
   "cell_type": "markdown",
   "id": "14cee294",
   "metadata": {},
   "source": [
    "- Syntax for range: `range(start, stop, interval)`\n",
    "- However, it will give us values from the `start` to `stop` (not including the value of `stop`)\n",
    "    "
   ]
  },
  {
   "cell_type": "code",
   "execution_count": 7,
   "id": "a29d7a24",
   "metadata": {},
   "outputs": [
    {
     "name": "stdout",
     "output_type": "stream",
     "text": [
      "0\n",
      "1\n",
      "2\n",
      "3\n",
      "4\n",
      "5\n"
     ]
    }
   ],
   "source": [
    "#give values start from 0 to 5 (including 5 => stop must be 6)\n",
    "for i in range(6): #default for start is 0 if not specified\n",
    "    print(i)"
   ]
  },
  {
   "cell_type": "code",
   "execution_count": null,
   "id": "2582885c",
   "metadata": {},
   "outputs": [],
   "source": [
    "#if we want to start from another value such as 3\n",
    "for i in range(3,6): #print all values starting from 3 to 6 but not including 6\n",
    "    print(i)"
   ]
  },
  {
   "cell_type": "code",
   "execution_count": 9,
   "id": "61faa78f",
   "metadata": {},
   "outputs": [
    {
     "name": "stdout",
     "output_type": "stream",
     "text": [
      "1\n",
      "3\n",
      "5\n",
      "7\n",
      "9\n"
     ]
    }
   ],
   "source": [
    "#print all values starting from 1 to 10 with interval 2\n",
    "for i in range(1,10,2):\n",
    "    print(i)"
   ]
  },
  {
   "cell_type": "markdown",
   "id": "e26c3620",
   "metadata": {},
   "source": [
    "# 2 while"
   ]
  },
  {
   "cell_type": "markdown",
   "id": "c82bd0fc",
   "metadata": {},
   "source": [
    "![](https://media.geeksforgeeks.org/wp-content/uploads/20220927171802/WhileloopinC2.png)"
   ]
  },
  {
   "cell_type": "markdown",
   "id": "fdc54719",
   "metadata": {},
   "source": [
    "A `while` loop only runs if the condition is True. Hence, it will keep running and execute the body function if the condition is satisfied. Otherwise, it stops"
   ]
  },
  {
   "cell_type": "code",
   "execution_count": 11,
   "id": "bb48312f",
   "metadata": {},
   "outputs": [
    {
     "name": "stdout",
     "output_type": "stream",
     "text": [
      "0\n",
      "2\n",
      "4\n",
      "6\n",
      "8\n"
     ]
    }
   ],
   "source": [
    "i = 0\n",
    "while i < 10:\n",
    "    print(i)\n",
    "    i = i + 2"
   ]
  }
 ],
 "metadata": {
  "kernelspec": {
   "display_name": "Python 3 (ipykernel)",
   "language": "python",
   "name": "python3"
  },
  "language_info": {
   "codemirror_mode": {
    "name": "ipython",
    "version": 3
   },
   "file_extension": ".py",
   "mimetype": "text/x-python",
   "name": "python",
   "nbconvert_exporter": "python",
   "pygments_lexer": "ipython3",
   "version": "3.8.8"
  },
  "toc": {
   "base_numbering": 1,
   "nav_menu": {},
   "number_sections": true,
   "sideBar": true,
   "skip_h1_title": false,
   "title_cell": "Table of Contents",
   "title_sidebar": "Contents",
   "toc_cell": false,
   "toc_position": {},
   "toc_section_display": true,
   "toc_window_display": false
  },
  "vscode": {
   "interpreter": {
    "hash": "31f2aee4e71d21fbe5cf8b01ff0e069b9275f58929596ceb00d14d90e3e16cd6"
   }
  }
 },
 "nbformat": 4,
 "nbformat_minor": 5
}
