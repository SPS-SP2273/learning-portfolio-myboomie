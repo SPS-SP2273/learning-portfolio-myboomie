{
 "cells": [
  {
   "cell_type": "markdown",
   "id": "123456",
   "metadata": {},
   "source": [
    "<div style=\"text-align:left;font-size:2em\"><span style=\"font-weight:bolder;font-size:1.25em\">SP2273 | Learning Portfolio</span><br><br><span style=\"font-weight:bold;color:darkred\">Fundamentals (Need) Exercises</span></div>"
   ]
  },
  {
   "cell_type": "markdown",
   "id": "39a0a969",
   "metadata": {},
   "source": [
    "# Exercise 1"
   ]
  },
  {
   "cell_type": "markdown",
   "id": "ce6b61ff",
   "metadata": {},
   "source": [
    "**1. Purely from memory, list as many of the basic Python features I mentioned in my notes as you remember.**\n",
    "\n",
    "- Python is case-sensitive\n",
    "- Python needs proper indentation to work\n",
    "- Brackets must be used appropriately\n",
    "- Difference between `=` as an assignment operator versus `==` as an equality checker\n",
    "- Differences between data type: `string` is enclosed by a pair of `''` while an integer does not have a fraction part; a float is otherwise; and a Boolean can only be either `True` or `False`"
   ]
  },
  {
   "cell_type": "markdown",
   "id": "e299c0b7",
   "metadata": {},
   "source": [
    "**2. Visit the notes and complete the list with the ones you missed.**\n",
    "\n",
    "* `if-elif-else` is needed for decision-making with various cases*\n",
    "* Flow of execution of code is from top to bottom: the programme will be stopped at where error is thrown and the code below would not be interpreted nor executed*"
   ]
  },
  {
   "cell_type": "markdown",
   "id": "9d87c5a2",
   "metadata": {},
   "source": [
    "# Exercise 2"
   ]
  },
  {
   "cell_type": "code",
   "execution_count": 9,
   "id": "b4677103",
   "metadata": {},
   "outputs": [
    {
     "data": {
      "text/plain": [
       "'\\n- Indentation messes up\\n- `Print` is in capital; the built-in function is in fact `print`\\n'"
      ]
     },
     "execution_count": 9,
     "metadata": {},
     "output_type": "execute_result"
    }
   ],
   "source": [
    "#Given code:\n",
    "# x, y = 3, 4\n",
    "#         z = sqrt(x*2 + y**2)\n",
    "'''\n",
    "There are few errors here:\n",
    "- Indentation messes up: this line is not in tandem with previous line\n",
    "- Square of `x` should be `x**2` instead of `x*2`, which is 2 times of `x`\n",
    "- `math` package has not been imported yet, hence, Python would not be able to identify the `sqrt` function\n",
    "'''\n",
    "#     Print(x, y, z)\n",
    "'''\n",
    "- Indentation messes up\n",
    "- `Print` is in capital; the built-in function is in fact `print`\n",
    "'''\n"
   ]
  },
  {
   "cell_type": "code",
   "execution_count": 15,
   "id": "cb3b7779",
   "metadata": {},
   "outputs": [
    {
     "name": "stdout",
     "output_type": "stream",
     "text": [
      "3 4 5.0\n"
     ]
    }
   ],
   "source": [
    "#Fixed code:\n",
    "import math\n",
    "x,y = 3,4\n",
    "z = math.sqrt(x**2 + y**2)\n",
    "print(x,y,z)\n"
   ]
  },
  {
   "cell_type": "markdown",
   "id": "1b21adb9",
   "metadata": {},
   "source": [
    "# Exercise 3"
   ]
  },
  {
   "cell_type": "markdown",
   "id": "3819b9c4",
   "metadata": {},
   "source": [
    "|#|Term|Description|\n",
    "|:--:|:--:|:--:|\n",
    "|1|Function| \tA reusable block of code that performs a specific task when called.|\n",
    "|2|Arguments| Values passed to a function to influence its behavior or operation.|\n",
    "|3|Comments|Text in the code ignored by the interpreter, used to explain and document the code. |\n",
    "|4|Indentations| Spaces or tabs at the beginning of a line, used to define the structure and scope in Python code.|\n",
    "|5| Packages|Collections of modules providing additional functionality that can be imported into Python.|\n",
    "|6|`.`|A dot operator used to access attributes or methods of a Python object.|\n",
    "|7|`:`|A colon often used in Python to signify the start of an indented code block.|\n",
    "|8|`[]`|Square brackets used for list literals, indexing, or slicing in Python.|\n",
    "|9|`[[[]]]`|A nested list structure representing a list within a list within another list in Python.|\n",
    "|10|`{}`|Curly braces used for dictionary literals or to define a set in Python.|\n",
    "                        "
   ]
  },
  {
   "cell_type": "markdown",
   "id": "c0223c35",
   "metadata": {},
   "source": [
    "# Exercise 4"
   ]
  },
  {
   "cell_type": "code",
   "execution_count": 25,
   "id": "ca6bfc59",
   "metadata": {},
   "outputs": [
    {
     "data": {
      "text/plain": [
       "'\\nFloat Division\\n'"
      ]
     },
     "execution_count": 25,
     "metadata": {},
     "output_type": "execute_result"
    }
   ],
   "source": [
    "#Float Division\n",
    "\n",
    "5/2           \n",
    "\n",
    "# This will give an output of `2.5`. \n",
    "#`/` simply means division between numbers. \n",
    "# Hence, two sides of the operators must be of type `int` or `float`. \n",
    "# They need not necessarily have the same data type as each other"
   ]
  },
  {
   "cell_type": "markdown",
   "id": "5d1c01b4",
   "metadata": {},
   "source": [
    "## Float Division\n",
    "The quotient returned by this operator is always a float number, no matter if two numbers are integers"
   ]
  },
  {
   "cell_type": "code",
   "execution_count": 23,
   "id": "84654e8c",
   "metadata": {},
   "outputs": [
    {
     "data": {
      "text/plain": [
       "2"
      ]
     },
     "execution_count": 23,
     "metadata": {},
     "output_type": "execute_result"
    }
   ],
   "source": [
    "# Integer Division\n",
    "5//2    \n",
    "# This will give an output of `2`. \n",
    "# Since `//` indicates an greatest integer smaller than the division. \n",
    "# Here, it shows a greatest integer that is smaller than 2.5"
   ]
  },
  {
   "cell_type": "markdown",
   "id": "b3ffedfc",
   "metadata": {},
   "source": [
    "# Integer Division\n",
    "\n",
    "The quotient returned by this operator is dependent on the argument being passed. If any of the numbers is float, it returns output in float. It is also known as Floor division because, if any number is negative, then the output will be floored."
   ]
  },
  {
   "cell_type": "code",
   "execution_count": 26,
   "id": "5f0a806d",
   "metadata": {},
   "outputs": [
    {
     "data": {
      "text/plain": [
       "1"
      ]
     },
     "execution_count": 26,
     "metadata": {},
     "output_type": "execute_result"
    }
   ],
   "source": [
    "# Remainder (Modulo) Division\n",
    "5%2\n",
    "# This will give an output of 1. Since `%` will give the remainer of the division."
   ]
  }
 ],
 "metadata": {
  "kernelspec": {
   "display_name": "Python 3 (ipykernel)",
   "language": "python",
   "name": "python3"
  },
  "language_info": {
   "codemirror_mode": {
    "name": "ipython",
    "version": 3
   },
   "file_extension": ".py",
   "mimetype": "text/x-python",
   "name": "python",
   "nbconvert_exporter": "python",
   "pygments_lexer": "ipython3",
   "version": "3.8.8"
  },
  "toc": {
   "base_numbering": 1,
   "nav_menu": {},
   "number_sections": true,
   "sideBar": true,
   "skip_h1_title": false,
   "title_cell": "Table of Contents",
   "title_sidebar": "Contents",
   "toc_cell": false,
   "toc_position": {},
   "toc_section_display": true,
   "toc_window_display": false
  },
  "vscode": {
   "interpreter": {
    "hash": "31f2aee4e71d21fbe5cf8b01ff0e069b9275f58929596ceb00d14d90e3e16cd6"
   }
  }
 },
 "nbformat": 4,
 "nbformat_minor": 5
}
