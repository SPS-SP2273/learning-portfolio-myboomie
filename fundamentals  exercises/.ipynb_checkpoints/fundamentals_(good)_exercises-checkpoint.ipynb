{
 "cells": [
  {
   "cell_type": "markdown",
   "id": "123456",
   "metadata": {},
   "source": [
    "<div style=\"text-align:left;font-size:2em\"><span style=\"font-weight:bolder;font-size:1.25em\">SP2273 | Learning Portfolio</span><br><br><span style=\"font-weight:bold;color:darkred\">Fundamentals (Good) Exercises</span></div>"
   ]
  },
  {
   "cell_type": "markdown",
   "id": "9d089fa9",
   "metadata": {},
   "source": [
    "# Task"
   ]
  },
  {
   "cell_type": "markdown",
   "id": "02692687",
   "metadata": {},
   "source": [
    "Write a Python program that takes a numerical grade (0-100) as input and outputs the corresponding letter grade based on the following criteria:\n",
    "|Grade|Score Range|\n",
    "|:--:|:--:|\n",
    "|A|70-100|\n",
    "|B|50-69|\n",
    "|C|35-49|\n",
    "|Fail|0-34|\n",
    "\n",
    "Here is expected input & output:\n",
    "\n",
    "\n",
    "**Input**: `Enter the student's score: 85`\n",
    "\n",
    "**Output**: `The student's letter grade is: A`"
   ]
  },
  {
   "cell_type": "markdown",
   "id": "26f577bb",
   "metadata": {},
   "source": [
    "## Method 1: Using `if-elif-else`"
   ]
  },
  {
   "cell_type": "code",
   "execution_count": 2,
   "id": "a05136dc",
   "metadata": {},
   "outputs": [
    {
     "name": "stdout",
     "output_type": "stream",
     "text": [
      "What is your grade?24\n",
      "The student's grade is: Fail\n"
     ]
    }
   ],
   "source": [
    "# grade = input(\"What is your grade? \") #typecast this input to integer because it is by default of str type\n",
    "\n",
    "#create a function to convert number grade to alphabetical grade\n",
    "def to_grade():\n",
    "    #typecast \n",
    "    grade = input('What is your grade?')\n",
    "    try:\n",
    "        grade = int(grade)\n",
    "    except ValueError:\n",
    "        return ('Invalid input.')\n",
    "    #amatching cases\n",
    "    if grade > 100 or grade < 0:\n",
    "            print (\"Invalid grade\")\n",
    "    elif 70 <= grade <= 100:\n",
    "            print ('The student\\'s grade is: A')\n",
    "    elif 50 <= grade <= 69:\n",
    "            print ('The student\\'s grade is: B')\n",
    "    elif 35 <= grade <= 49:\n",
    "            print ('The student\\'s grade is: C')\n",
    "    else:\n",
    "            print ('The student\\'s grade is: Fail')\n",
    "\n",
    "#call out the function\n",
    "to_grade()"
   ]
  },
  {
   "cell_type": "markdown",
   "id": "caf58ff6",
   "metadata": {},
   "source": [
    "## Method 2: Using dictionary"
   ]
  },
  {
   "cell_type": "code",
   "execution_count": 3,
   "id": "6eeb074e",
   "metadata": {},
   "outputs": [
    {
     "name": "stdout",
     "output_type": "stream",
     "text": [
      "What is your grade? 90\n",
      "The student's grade is:  A\n"
     ]
    }
   ],
   "source": [
    "#create dictionary\n",
    "d = {}\n",
    "for i in range(100):\n",
    "    if i < 35:\n",
    "        d[i] = 'Fail'\n",
    "    elif i < 49:\n",
    "        d[i] = 'C'\n",
    "    elif i < 69:\n",
    "        d[i] = 'B'\n",
    "    else:\n",
    "        d[i] = 'A'\n",
    "\n",
    "#ask for user's input\n",
    "grade = input('What is your grade? ')\n",
    "\n",
    "#give out alphabetical grade\n",
    "try:\n",
    "    grade = int(grade)\n",
    "    print('The student\\'s grade is: ', d[grade])\n",
    "except ValueError:\n",
    "    print(\"Invalid input\")\n",
    "except KeyError:\n",
    "    print(\"Invalid grade\")"
   ]
  },
  {
   "cell_type": "code",
   "execution_count": null,
   "id": "f4cbb77e",
   "metadata": {},
   "outputs": [],
   "source": []
  }
 ],
 "metadata": {
  "kernelspec": {
   "display_name": "Python 3 (ipykernel)",
   "language": "python",
   "name": "python3"
  },
  "language_info": {
   "codemirror_mode": {
    "name": "ipython",
    "version": 3
   },
   "file_extension": ".py",
   "mimetype": "text/x-python",
   "name": "python",
   "nbconvert_exporter": "python",
   "pygments_lexer": "ipython3",
   "version": "3.8.8"
  },
  "toc": {
   "base_numbering": 1,
   "nav_menu": {},
   "number_sections": true,
   "sideBar": true,
   "skip_h1_title": false,
   "title_cell": "Table of Contents",
   "title_sidebar": "Contents",
   "toc_cell": false,
   "toc_position": {},
   "toc_section_display": true,
   "toc_window_display": false
  },
  "vscode": {
   "interpreter": {
    "hash": "31f2aee4e71d21fbe5cf8b01ff0e069b9275f58929596ceb00d14d90e3e16cd6"
   }
  }
 },
 "nbformat": 4,
 "nbformat_minor": 5
}
