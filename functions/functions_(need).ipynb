{
 "cells": [
  {
   "cell_type": "markdown",
   "id": "123456",
   "metadata": {},
   "source": [
    "<div style=\"text-align:left;font-size:2em\"><span style=\"font-weight:bolder;font-size:1.25em\">SP2273 | Learning Portfolio</span><br><br><span style=\"font-weight:bold;color:darkred\">Functions (Need)</span></div>"
   ]
  },
  {
   "cell_type": "markdown",
   "id": "4ffdbc1f",
   "metadata": {},
   "source": [
    "# What to expect in this chapter"
   ]
  },
  {
   "cell_type": "markdown",
   "id": "74207890",
   "metadata": {},
   "source": [
    "# 1 User-defined functions"
   ]
  },
  {
   "cell_type": "markdown",
   "id": "5b800783",
   "metadata": {},
   "source": [
    "## 1.1 Named Functions"
   ]
  },
  {
   "cell_type": "markdown",
   "id": "740b881b",
   "metadata": {},
   "source": [
    "### Named functions that return"
   ]
  },
  {
   "cell_type": "markdown",
   "id": "adc1e2ee",
   "metadata": {},
   "source": [
    "We can define the function by using the keyword `def`, followed by the function's name and a pair of brackets`()` to store its arguments"
   ]
  },
  {
   "cell_type": "markdown",
   "id": "9db6db24",
   "metadata": {},
   "source": [
    "To let this function give us an output, we also must have a `return` statement at the end"
   ]
  },
  {
   "cell_type": "code",
   "execution_count": 7,
   "id": "fa4733e4",
   "metadata": {},
   "outputs": [],
   "source": [
    "\n",
    "# Your code here\n",
    "def goodbye(name):\n",
    "    return f'Good bye {name}!'\n"
   ]
  },
  {
   "cell_type": "code",
   "execution_count": 8,
   "id": "bddca4d2",
   "metadata": {},
   "outputs": [
    {
     "data": {
      "text/plain": [
       "'Good bye An!'"
      ]
     },
     "execution_count": 8,
     "metadata": {},
     "output_type": "execute_result"
    }
   ],
   "source": [
    "bye = goodbye('An')\n",
    "bye"
   ]
  },
  {
   "cell_type": "markdown",
   "id": "0d52f093",
   "metadata": {},
   "source": [
    "### Named functions that don’t return"
   ]
  },
  {
   "cell_type": "markdown",
   "id": "aec43824",
   "metadata": {},
   "source": [
    "Unless there is a `return` statement, the function will not give us the output when we call it"
   ]
  },
  {
   "cell_type": "code",
   "execution_count": 11,
   "id": "d555cae7",
   "metadata": {},
   "outputs": [],
   "source": [
    "\n",
    "# Your code here\n",
    "def to_bye(name):\n",
    "    print ('Good bye',name)\n"
   ]
  },
  {
   "cell_type": "code",
   "execution_count": 13,
   "id": "436b7a31",
   "metadata": {},
   "outputs": [
    {
     "name": "stdout",
     "output_type": "stream",
     "text": [
      "Good bye An\n"
     ]
    },
    {
     "data": {
      "text/plain": [
       "NoneType"
      ]
     },
     "execution_count": 13,
     "metadata": {},
     "output_type": "execute_result"
    }
   ],
   "source": [
    "to_bye('An')\n",
    "#here, we dont have to assign a value to the function to store its output because it does not return anything"
   ]
  },
  {
   "cell_type": "code",
   "execution_count": 14,
   "id": "086c7277",
   "metadata": {},
   "outputs": [
    {
     "name": "stdout",
     "output_type": "stream",
     "text": [
      "Good bye An\n"
     ]
    },
    {
     "data": {
      "text/plain": [
       "NoneType"
      ]
     },
     "execution_count": 14,
     "metadata": {},
     "output_type": "execute_result"
    }
   ],
   "source": [
    "#check the type\n",
    "type(to_bye('An'))\n",
    "#NoneType means it is 'null'"
   ]
  },
  {
   "cell_type": "markdown",
   "id": "f257c02f",
   "metadata": {},
   "source": [
    "## 1.2 Anonymous functions"
   ]
  },
  {
   "cell_type": "markdown",
   "id": "8befbd10",
   "metadata": {},
   "source": [
    "Anonymous or `lambda` functions can be effective/convenient when we don't need to dedicate effort to write an entire block for a function where we only use it once"
   ]
  },
  {
   "cell_type": "code",
   "execution_count": 18,
   "id": "954ca20c",
   "metadata": {},
   "outputs": [],
   "source": [
    "# this is a function that increments the given input by 1\n",
    "def plus_1(x):\n",
    "    return x+1"
   ]
  },
  {
   "cell_type": "markdown",
   "id": "003d6dbe",
   "metadata": {},
   "source": [
    "The above can be written shortly as:"
   ]
  },
  {
   "cell_type": "code",
   "execution_count": 20,
   "id": "9a8e8900",
   "metadata": {},
   "outputs": [
    {
     "data": {
      "text/plain": [
       "True"
      ]
     },
     "execution_count": 20,
     "metadata": {},
     "output_type": "execute_result"
    }
   ],
   "source": [
    "increase_1 = lambda x:x+1\n",
    "#two functions are the same\n",
    "increase_1(2) == plus_1(2)\n"
   ]
  },
  {
   "cell_type": "code",
   "execution_count": 21,
   "id": "355ae220",
   "metadata": {},
   "outputs": [
    {
     "name": "stdout",
     "output_type": "stream",
     "text": [
      "[(4, 'four'), (1, 'one'), (3, 'three'), (2, 'two')]\n"
     ]
    }
   ],
   "source": [
    "#or we can determine the condition using the lambda function when we sort the list\n",
    "pairs = [(1, 'one'), (2, 'two'), (3, 'three'), (4, 'four')]\n",
    "pairs.sort(key=lambda pair: pair[1])\n",
    "print(pairs)  # Output: [(4, 'four'), (1, 'one'), (3, 'three'), (2, 'two')]\n"
   ]
  },
  {
   "cell_type": "code",
   "execution_count": 22,
   "id": "d444c755",
   "metadata": {},
   "outputs": [
    {
     "name": "stdout",
     "output_type": "stream",
     "text": [
      "[2, 4, 6, 8, 10]\n"
     ]
    }
   ],
   "source": [
    "#to filter a list based on certain condition\n",
    "numbers = [1, 2, 3, 4, 5, 6, 7, 8, 9, 10]\n",
    "even_numbers = list(filter(lambda x: x % 2 == 0, numbers))\n",
    "print(even_numbers)  # Output: [2, 4, 6, 8, 10]\n"
   ]
  },
  {
   "cell_type": "code",
   "execution_count": 23,
   "id": "4f322c6f",
   "metadata": {},
   "outputs": [
    {
     "name": "stdout",
     "output_type": "stream",
     "text": [
      "[1, 4, 9, 16, 25]\n"
     ]
    }
   ],
   "source": [
    "#to perform operations on all elements (mapping)\n",
    "numbers = [1, 2, 3, 4, 5]\n",
    "squared = list(map(lambda x: x**2, numbers))\n",
    "print(squared)  # Output: [1, 4, 9, 16, 25]\n"
   ]
  },
  {
   "cell_type": "markdown",
   "id": "3d7d4267",
   "metadata": {},
   "source": [
    "## 1.3 Optional arguments"
   ]
  },
  {
   "cell_type": "markdown",
   "id": "c96747f2",
   "metadata": {},
   "source": [
    "Python allows us to make arguments to our function optional. To do this, we need to give the argument a default value with the assignment operator `=`. In other words, in calling our function, it is okay not to specify this argument because it will follow it default value. In case we want to specify to a certain condition, we are also allowed to do so"
   ]
  },
  {
   "cell_type": "code",
   "execution_count": 26,
   "id": "896497d9",
   "metadata": {},
   "outputs": [
    {
     "name": "stdout",
     "output_type": "stream",
     "text": [
      "John Doe\n",
      "John Michael Doe\n"
     ]
    }
   ],
   "source": [
    "def full_name(first, last=\"\", middle=\"\"):\n",
    "    if middle:\n",
    "        return f\"{first} {middle} {last}\"\n",
    "    else:\n",
    "        return f\"{first} {last}\"\n",
    "\n",
    "print(full_name(\"John\", \"Doe\"))                # Output: John Doe\n",
    "print(full_name(\"John\", \"Doe\", \"Michael\"))     # Output: John Michael Doe\n"
   ]
  },
  {
   "cell_type": "markdown",
   "id": "5238bf18",
   "metadata": {},
   "source": [
    "**However: when calling a function, we also cannot exceed the number of arguments needed as when we define the function**"
   ]
  },
  {
   "cell_type": "markdown",
   "id": "10d5c9e2",
   "metadata": {},
   "source": [
    "For example, here, giving the `full_name` function a 4th argument will render an error"
   ]
  },
  {
   "cell_type": "code",
   "execution_count": null,
   "id": "9212e8df",
   "metadata": {},
   "outputs": [],
   "source": [
    "#print(full_name(\"John\", \"Doe\", \"Michael\", \"Joseph\"))"
   ]
  },
  {
   "cell_type": "markdown",
   "id": "cbf26db8",
   "metadata": {},
   "source": [
    "We can also define a function that can accept any number of arguments so that we are not restricted when giving the arguments to the function. This is done by using `*kwargs`"
   ]
  },
  {
   "cell_type": "code",
   "execution_count": 28,
   "id": "f5c988eb",
   "metadata": {},
   "outputs": [
    {
     "name": "stdout",
     "output_type": "stream",
     "text": [
      "{'name': 'John', 'age': 25, 'location': 'New York', 'occupation': 'Engineer'}\n"
     ]
    }
   ],
   "source": [
    "def create_person(name, **kwargs):\n",
    "    person = {\"name\": name}\n",
    "    for key, value in kwargs.items():\n",
    "        person[key] = value\n",
    "    return person\n",
    "\n",
    "print(create_person(\"John\", age=25, location=\"New York\", occupation=\"Engineer\"))\n",
    "# Output: {'name': 'John', 'age': 25, 'location': 'New York', 'occupation': 'Engineer'}\n"
   ]
  },
  {
   "cell_type": "markdown",
   "id": "db66d6a4",
   "metadata": {},
   "source": [
    "## 1.4 The importance of functions?"
   ]
  },
  {
   "cell_type": "markdown",
   "id": "53bcf64a",
   "metadata": {},
   "source": [
    "## Benefits of Using Functions\n",
    "\n",
    "- **Abstraction**: Simplify complex solutions into manageable parts without focusing on unnecessary details.\n",
    "- **Reusability**: Encapsulate code to easily reuse it, making your code more concise.\n",
    "- **Maintainability**: Changes need to be made in only one place, improving code manageability.\n"
   ]
  }
 ],
 "metadata": {
  "kernelspec": {
   "display_name": "Python 3 (ipykernel)",
   "language": "python",
   "name": "python3"
  },
  "language_info": {
   "codemirror_mode": {
    "name": "ipython",
    "version": 3
   },
   "file_extension": ".py",
   "mimetype": "text/x-python",
   "name": "python",
   "nbconvert_exporter": "python",
   "pygments_lexer": "ipython3",
   "version": "3.8.8"
  },
  "toc": {
   "base_numbering": 1,
   "nav_menu": {},
   "number_sections": true,
   "sideBar": true,
   "skip_h1_title": false,
   "title_cell": "Table of Contents",
   "title_sidebar": "Contents",
   "toc_cell": false,
   "toc_position": {},
   "toc_section_display": true,
   "toc_window_display": false
  },
  "vscode": {
   "interpreter": {
    "hash": "31f2aee4e71d21fbe5cf8b01ff0e069b9275f58929596ceb00d14d90e3e16cd6"
   }
  }
 },
 "nbformat": 4,
 "nbformat_minor": 5
}
