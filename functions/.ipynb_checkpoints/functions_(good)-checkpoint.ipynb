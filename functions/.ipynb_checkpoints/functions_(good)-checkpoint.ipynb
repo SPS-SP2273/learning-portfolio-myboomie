{
 "cells": [
  {
   "cell_type": "markdown",
   "id": "123456",
   "metadata": {},
   "source": [
    "<div style=\"text-align:left;font-size:2em\"><span style=\"font-weight:bolder;font-size:1.25em\">SP2273 | Learning Portfolio</span><br><br><span style=\"font-weight:bold;color:darkred\">Functions (Good)</span></div>"
   ]
  },
  {
   "cell_type": "markdown",
   "id": "ee62e9a1",
   "metadata": {},
   "source": [
    "# What to expect in this chapter"
   ]
  },
  {
   "cell_type": "markdown",
   "id": "980e8a2f",
   "metadata": {},
   "source": [
    "# 1 Checks, balances, and contingencies"
   ]
  },
  {
   "cell_type": "markdown",
   "id": "1ac9088a",
   "metadata": {},
   "source": [
    "## 1.1 assert"
   ]
  },
  {
   "attachments": {},
   "cell_type": "markdown",
   "id": "dea45c55",
   "metadata": {},
   "source": [
    "`assert` stops the execution flow if the condition fails. Assertion is the boolean expression that checks if the statement is True or False. If the statement is true then it does nothing and continues the execution, but if the statement is False then it stops the execution of the program and throws an error.\n",
    "\n",
    "![](https://media.geeksforgeeks.org/wp-content/uploads/20220627111256/Assertioncondition2.png)\n",
    "\n",
    "For example:"
   ]
  },
  {
   "cell_type": "code",
   "execution_count": 13,
   "id": "493b70b4",
   "metadata": {},
   "outputs": [],
   "source": [
    "x = 54\n",
    "assert (x % 3 == 0), \"x is not divisible by 3!\"\n",
    "\n",
    "#The programme will print \"x is not divisble by 3\" \n",
    "# if the value of x fails to give a remainder of 0 when dividing by 3"
   ]
  },
  {
   "cell_type": "markdown",
   "id": "4f943371",
   "metadata": {},
   "source": [
    "## 1.2 try-except"
   ]
  },
  {
   "cell_type": "markdown",
   "id": "e09f35c8",
   "metadata": {},
   "source": [
    "If there is any error in the code, it is called `exception`. And once it occurs, it will disrupt the entire flow. Anticipating some errors in the code, we can catch those `exception` and perform some thing to deal with it"
   ]
  },
  {
   "cell_type": "code",
   "execution_count": 14,
   "id": "b2b02186",
   "metadata": {},
   "outputs": [
    {
     "name": "stdout",
     "output_type": "stream",
     "text": [
      "Enter the first number: 24\n",
      "Enter the second number: 12\n",
      "The result is 2.0\n"
     ]
    }
   ],
   "source": [
    "try:\n",
    "    # Ask for input from the user\n",
    "    num1 = float(input(\"Enter the first number: \"))\n",
    "    num2 = float(input(\"Enter the second number: \"))\n",
    "    \n",
    "    # Attempt to perform division\n",
    "    result = num1 / num2\n",
    "    \n",
    "    # Print the result if no error occurs\n",
    "    print(f\"The result is {result}\")\n",
    "except ZeroDivisionError:\n",
    "    # Handle division by zero error specifically\n",
    "    print(\"Error: Cannot divide by zero.\")\n",
    "except Exception as e:\n",
    "    # Handle any other exception\n",
    "    print(f\"An error occurred: {e}\")\n"
   ]
  },
  {
   "cell_type": "markdown",
   "id": "26c22637",
   "metadata": {},
   "source": [
    "- The `try` block contains the code that might raise an exception. Here, it's the division operation that might lead to a `ZeroDivisionError`.\n",
    "\n",
    "- The except `ZeroDivisionError`: block catches and handles the division by zero error specifically.\n",
    "- The except `Exception` as e: block catches any other exceptions that might occur and prints out a generic error message along with the exception's message."
   ]
  },
  {
   "cell_type": "markdown",
   "id": "2309d3fd",
   "metadata": {},
   "source": [
    "## 1.3 A simple suggestion"
   ]
  },
  {
   "cell_type": "code",
   "execution_count": 15,
   "id": "fb35a77f",
   "metadata": {},
   "outputs": [
    {
     "name": "stdout",
     "output_type": "stream",
     "text": [
      "Data Analysis Process Started.\n",
      "Step 1: Loading data...\n",
      "Data loaded successfully.\n",
      "Step 2: Analyzing data...\n",
      "Data analysis completed.\n",
      "Step 3: Summarizing results...\n",
      "Results summarized successfully.\n",
      "Data Analysis Process Completed.\n"
     ]
    }
   ],
   "source": [
    "import time\n",
    "\n",
    "def simple_data_analysis():\n",
    "    print(\"Data Analysis Process Started.\")\n",
    "    \n",
    "    # Simulating loading data\n",
    "    print(\"Step 1: Loading data...\")\n",
    "    time.sleep(1)  # Simulate time delay for loading data\n",
    "    print(\"Data loaded successfully.\")\n",
    "    \n",
    "    # Simulating analyzing data\n",
    "    print(\"Step 2: Analyzing data...\")\n",
    "    time.sleep(2)  # Simulate time delay for analyzing data\n",
    "    print(\"Data analysis completed.\")\n",
    "    \n",
    "    # Simulating summarizing results\n",
    "    print(\"Step 3: Summarizing results...\")\n",
    "    time.sleep(1)  # Simulate time delay for summarizing results\n",
    "    print(\"Results summarized successfully.\")\n",
    "    \n",
    "    print(\"Data Analysis Process Completed.\")\n",
    "\n",
    "# Calling the function\n",
    "simple_data_analysis()\n"
   ]
  },
  {
   "cell_type": "markdown",
   "id": "351e1d16",
   "metadata": {},
   "source": [
    "# 2 Some loose ends"
   ]
  },
  {
   "cell_type": "markdown",
   "id": "749570a4",
   "metadata": {},
   "source": [
    "## 2.1 Positional, keyword and default arguments"
   ]
  },
  {
   "cell_type": "markdown",
   "id": "206d4ad7",
   "metadata": {},
   "source": [
    "There are three ‘ways’ to pass a value to an argument:\n",
    "- positional\n",
    "- default\n",
    "- keyword"
   ]
  },
  {
   "cell_type": "markdown",
   "id": "abac1d5f",
   "metadata": {},
   "source": [
    "`name` and `age` are required arguments, while `country` is an optional argument with a default value of `\"Unknown\"`"
   ]
  },
  {
   "cell_type": "code",
   "execution_count": 17,
   "id": "1f784407",
   "metadata": {},
   "outputs": [],
   "source": [
    "def display_info(name, age, country=\"Unknown\"):\n",
    "    print(f\"Name: {name}, Age: {age}, Country: {country}\")\n"
   ]
  },
  {
   "cell_type": "markdown",
   "id": "f10f50ac",
   "metadata": {},
   "source": [
    "**Positional argument**"
   ]
  },
  {
   "cell_type": "code",
   "execution_count": 22,
   "id": "82b8e875",
   "metadata": {},
   "outputs": [
    {
     "name": "stdout",
     "output_type": "stream",
     "text": [
      "Name: Alex, Age: 30, Country: US\n"
     ]
    }
   ],
   "source": [
    "display_info(\"Alex\", 30,'US')"
   ]
  },
  {
   "cell_type": "markdown",
   "id": "d0bafa08",
   "metadata": {},
   "source": [
    "`\"Alex\"` and `30`, `US` are passed as `name`, `age`, `country` respectively."
   ]
  },
  {
   "cell_type": "markdown",
   "id": "9568cbfc",
   "metadata": {},
   "source": [
    "**Default argument**"
   ]
  },
  {
   "cell_type": "code",
   "execution_count": 21,
   "id": "e113ef66",
   "metadata": {},
   "outputs": [
    {
     "name": "stdout",
     "output_type": "stream",
     "text": [
      "Name: Jake, Age: 22, Country: Unknown\n"
     ]
    }
   ],
   "source": [
    "display_info(\"Jake\", 22)"
   ]
  },
  {
   "cell_type": "markdown",
   "id": "c75fd142",
   "metadata": {},
   "source": [
    "`name` and `age` are provided, and `country` defaults to \"Unknown\". This is similar to the positional example but emphasizes the role of the default value"
   ]
  },
  {
   "cell_type": "markdown",
   "id": "6c3a2d9b",
   "metadata": {},
   "source": [
    "**Keyword argument**"
   ]
  },
  {
   "cell_type": "code",
   "execution_count": 20,
   "id": "8fcd26d5",
   "metadata": {},
   "outputs": [
    {
     "name": "stdout",
     "output_type": "stream",
     "text": [
      "Name: Emma, Age: 25, Country: Canada\n"
     ]
    }
   ],
   "source": [
    "display_info(age=25, name=\"Emma\", country=\"Canada\")\n",
    "#specify arguments by the names of their corresponding parameters, \n",
    "# regardless of their order in the function definition"
   ]
  },
  {
   "cell_type": "markdown",
   "id": "b6122511",
   "metadata": {},
   "source": [
    "## 2.2 Docstrings"
   ]
  },
  {
   "cell_type": "markdown",
   "id": "379a2f3c",
   "metadata": {},
   "source": [
    "Python has a `docstring` feature (`'''`.... `'''`) that allows us to document what a function does inside the function."
   ]
  },
  {
   "cell_type": "code",
   "execution_count": 24,
   "id": "4ada62be",
   "metadata": {},
   "outputs": [
    {
     "name": "stdout",
     "output_type": "stream",
     "text": [
      "The area of the circle with radius 5 is 78.53981633974483\n"
     ]
    }
   ],
   "source": [
    "def circle_area(radius):\n",
    "    \"\"\"\n",
    "    Calculate the area of a circle.\n",
    "    \n",
    "    Parameters:\n",
    "    radius (float): The radius of the circle.\n",
    "    \n",
    "    Returns:\n",
    "    float: The area of the circle.\n",
    "    \n",
    "    Example:\n",
    "    >>> circle_area(5)\n",
    "    78.53981633974483\n",
    "    \"\"\"\n",
    "    # Import the pi constant from the math module\n",
    "    from math import pi\n",
    "    \n",
    "    # Calculate the area of the circle\n",
    "    area = pi * radius ** 2\n",
    "    \n",
    "    # Return the area\n",
    "    return area\n",
    "\n",
    "# Example usage of the function\n",
    "radius = 5\n",
    "print(f\"The area of the circle with radius {radius} is {circle_area(radius)}\")\n"
   ]
  },
  {
   "cell_type": "markdown",
   "id": "f3359e7c",
   "metadata": {},
   "source": [
    "The documentation of the docstring will be displayed in `help` function"
   ]
  },
  {
   "cell_type": "code",
   "execution_count": 25,
   "id": "aefffa7c",
   "metadata": {},
   "outputs": [
    {
     "name": "stdout",
     "output_type": "stream",
     "text": [
      "Help on function circle_area in module __main__:\n",
      "\n",
      "circle_area(radius)\n",
      "    Calculate the area of a circle.\n",
      "    \n",
      "    Parameters:\n",
      "    radius (float): The radius of the circle.\n",
      "    \n",
      "    Returns:\n",
      "    float: The area of the circle.\n",
      "    \n",
      "    Example:\n",
      "    >>> circle_area(5)\n",
      "    78.53981633974483\n",
      "\n"
     ]
    }
   ],
   "source": [
    "help(circle_area)"
   ]
  },
  {
   "cell_type": "markdown",
   "id": "7e772ac5",
   "metadata": {},
   "source": [
    "## 2.3 Function are first-class citizens"
   ]
  },
  {
   "cell_type": "markdown",
   "id": "d5877748",
   "metadata": {},
   "source": [
    "We can pass a function as an argument for another function. "
   ]
  },
  {
   "cell_type": "markdown",
   "id": "1762fcfb",
   "metadata": {},
   "source": [
    "The below function takes another function as an argument to apply a transformation to a list of numbers"
   ]
  },
  {
   "cell_type": "code",
   "execution_count": 26,
   "id": "1e554ae5",
   "metadata": {},
   "outputs": [
    {
     "name": "stdout",
     "output_type": "stream",
     "text": [
      "Doubled Numbers: [2, 4, 6, 8, 10]\n",
      "Squared Numbers: [1, 4, 9, 16, 25]\n"
     ]
    }
   ],
   "source": [
    "def transform_list(numbers, transformation):\n",
    "    return [transformation(number) for number in numbers]\n",
    "\n",
    "def double_value(x):\n",
    "    return x * 2\n",
    "\n",
    "def square_value(x):\n",
    "    return x ** 2\n",
    "\n",
    "# Using the function with different transformations\n",
    "numbers = [1, 2, 3, 4, 5]\n",
    "\n",
    "doubled_numbers = transform_list(numbers, double_value)\n",
    "print(f\"Doubled Numbers: {doubled_numbers}\")\n",
    "\n",
    "squared_numbers = transform_list(numbers, square_value)\n",
    "print(f\"Squared Numbers: {squared_numbers}\")\n"
   ]
  },
  {
   "cell_type": "markdown",
   "id": "91b34af8",
   "metadata": {},
   "source": [
    "Note: When we pass a function as an argument, we do not include the parenthesis `()` because this function still acts as an argument (not a function) when it is placed as input for another function"
   ]
  },
  {
   "cell_type": "markdown",
   "id": "cd92698b",
   "metadata": {},
   "source": [
    "## 2.4 More about unpacking"
   ]
  },
  {
   "cell_type": "markdown",
   "id": "907edf29",
   "metadata": {},
   "source": [
    "### 1. Unpacking for Function Arguments"
   ]
  },
  {
   "cell_type": "code",
   "execution_count": 27,
   "id": "2a6d6e66",
   "metadata": {},
   "outputs": [
    {
     "name": "stdout",
     "output_type": "stream",
     "text": [
      "Product: 24\n"
     ]
    }
   ],
   "source": [
    "def calculate_product(a, b, c):\n",
    "    return a * b * c\n",
    "\n",
    "numbers = [2, 3, 4]\n",
    "\n",
    "# Unpacking the list into function arguments\n",
    "product = calculate_product(*numbers)\n",
    "print(f\"Product: {product}\")\n"
   ]
  },
  {
   "cell_type": "markdown",
   "id": "288722f5",
   "metadata": {},
   "source": [
    "### 2. Unpacking Nested Structures"
   ]
  },
  {
   "cell_type": "code",
   "execution_count": 28,
   "id": "b95d7bf7",
   "metadata": {},
   "outputs": [
    {
     "name": "stdout",
     "output_type": "stream",
     "text": [
      "a: 1, b: 2, c: 3, d: 4\n"
     ]
    }
   ],
   "source": [
    "nested_list = [1, (2, 3), 4]\n",
    "a, (b, c), d = nested_list\n",
    "print(f\"a: {a}, b: {b}, c: {c}, d: {d}\")\n"
   ]
  },
  {
   "cell_type": "markdown",
   "id": "dcdbae3c",
   "metadata": {},
   "source": [
    "### 3. Swapping Values Without a Temporary Variable"
   ]
  },
  {
   "cell_type": "markdown",
   "id": "a49f1e5b",
   "metadata": {},
   "source": [
    "Python's unpacking can be used to swap the values of two variables in a single line without needing a temporary variable."
   ]
  },
  {
   "cell_type": "code",
   "execution_count": 29,
   "id": "1ab84472",
   "metadata": {},
   "outputs": [
    {
     "name": "stdout",
     "output_type": "stream",
     "text": [
      "a: 10, b: 5\n"
     ]
    }
   ],
   "source": [
    "a, b = 5, 10\n",
    "a, b = b, a\n",
    "print(f\"a: {a}, b: {b}\")\n"
   ]
  },
  {
   "cell_type": "markdown",
   "id": "2ce8cf56",
   "metadata": {},
   "source": [
    "### 4. Ignoring Multiple Values"
   ]
  },
  {
   "cell_type": "code",
   "execution_count": 30,
   "id": "8fc283fb",
   "metadata": {},
   "outputs": [
    {
     "name": "stdout",
     "output_type": "stream",
     "text": [
      "Rest: [2, 3, 4, 5, 6, 7, 8, 9]\n"
     ]
    }
   ],
   "source": [
    "_, _, *rest = range(10)\n",
    "print(f\"Rest: {rest}\")\n"
   ]
  },
  {
   "cell_type": "markdown",
   "id": "2e0863fe",
   "metadata": {},
   "source": [
    "Sometimes, we may only be interested in a few values from a sequence. We can use `_` for our interested values and `*` to ignore the rest.\n",
    "\n"
   ]
  },
  {
   "cell_type": "markdown",
   "id": "38e3ff88",
   "metadata": {},
   "source": [
    "### 5. Unpacking Strings"
   ]
  },
  {
   "cell_type": "code",
   "execution_count": 31,
   "id": "e2b26b7e",
   "metadata": {},
   "outputs": [
    {
     "name": "stdout",
     "output_type": "stream",
     "text": [
      "a: w, b: o, c: r, d: d\n"
     ]
    }
   ],
   "source": [
    "a, b, c, d = \"word\"\n",
    "print(f\"a: {a}, b: {b}, c: {c}, d: {d}\")\n"
   ]
  },
  {
   "cell_type": "markdown",
   "id": "34e86a12",
   "metadata": {},
   "source": [
    "### 6. Unpacking for Iterating Over Lists of Tuples"
   ]
  },
  {
   "cell_type": "code",
   "execution_count": 32,
   "id": "4e4f1f07",
   "metadata": {},
   "outputs": [
    {
     "name": "stdout",
     "output_type": "stream",
     "text": [
      "Number: 1, Name: one\n",
      "Number: 2, Name: two\n",
      "Number: 3, Name: three\n"
     ]
    }
   ],
   "source": [
    "pairs = [(1, 'one'), (2, 'two'), (3, 'three')]\n",
    "for number, name in pairs:\n",
    "    print(f\"Number: {number}, Name: {name}\")\n"
   ]
  }
 ],
 "metadata": {
  "kernelspec": {
   "display_name": "Python 3 (ipykernel)",
   "language": "python",
   "name": "python3"
  },
  "language_info": {
   "codemirror_mode": {
    "name": "ipython",
    "version": 3
   },
   "file_extension": ".py",
   "mimetype": "text/x-python",
   "name": "python",
   "nbconvert_exporter": "python",
   "pygments_lexer": "ipython3",
   "version": "3.8.8"
  },
  "toc": {
   "base_numbering": 1,
   "nav_menu": {},
   "number_sections": true,
   "sideBar": true,
   "skip_h1_title": false,
   "title_cell": "Table of Contents",
   "title_sidebar": "Contents",
   "toc_cell": false,
   "toc_position": {},
   "toc_section_display": true,
   "toc_window_display": false
  },
  "vscode": {
   "interpreter": {
    "hash": "31f2aee4e71d21fbe5cf8b01ff0e069b9275f58929596ceb00d14d90e3e16cd6"
   }
  }
 },
 "nbformat": 4,
 "nbformat_minor": 5
}
