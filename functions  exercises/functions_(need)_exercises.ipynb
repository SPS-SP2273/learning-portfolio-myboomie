{
 "cells": [
  {
   "cell_type": "markdown",
   "id": "123456",
   "metadata": {},
   "source": [
    "<div style=\"text-align:left;font-size:2em\"><span style=\"font-weight:bolder;font-size:1.25em\">SP2273 | Learning Portfolio</span><br><br><span style=\"font-weight:bold;color:darkred\">Functions (Need) Exercises</span></div>"
   ]
  },
  {
   "cell_type": "markdown",
   "id": "4f59edd8",
   "metadata": {},
   "source": [
    "# Exercise 1"
   ]
  },
  {
   "cell_type": "code",
   "execution_count": 1,
   "id": "c5ab1716",
   "metadata": {},
   "outputs": [],
   "source": [
    "def greeting(name):\n",
    "    if name == 'Batman':\n",
    "        return 'Hello Batman! So, nice to meet you!'\n",
    "    return f'Hello {name}!'"
   ]
  },
  {
   "cell_type": "markdown",
   "id": "72713ec1",
   "metadata": {},
   "source": [
    "The `else` statement is only executed when the `if` condition is not met. However, if the condition in the `if` statement is not met, the code for `if` would be skipped and we will go to the next line, which is the `return` line. Hence, it is just similar to how the `if` is not run and the `else` is executed.\n"
   ]
  },
  {
   "cell_type": "markdown",
   "id": "cca77d71",
   "metadata": {},
   "source": [
    "# Exercise 2"
   ]
  },
  {
   "cell_type": "markdown",
   "id": "c8475f81",
   "metadata": {},
   "source": [
    "Write a Python function named `calculate_bmi`.\n",
    "\n",
    "- The function should take two parameters: `weight` (in kilograms) and `height` (in meters).\n",
    "- The function should calculate the `BMI` (Body Mass Index) using the formula `BMI = weight / (height ** 2)`\n",
    "- Based on the calculated BMI, the function should return a string indicating the BMI category based on the following criteria:"
   ]
  },
  {
   "cell_type": "code",
   "execution_count": 13,
   "id": "26054b78",
   "metadata": {},
   "outputs": [],
   "source": [
    "def calculate_bmi(weight, height):\n",
    "    BMI = weight/(height**2)\n",
    "    BMI = round(BMI, 1)\n",
    "    \n",
    "    if BMI >= 30:\n",
    "        return \"Obesity\"\n",
    "    elif 25 < BMI <= 29.9:\n",
    "        return \"Overweight\"\n",
    "    elif 18.5 < BMI <= 24.9:\n",
    "        return \"Normal weight\"\n",
    "    else:\n",
    "        return \"Underweight\""
   ]
  }
 ],
 "metadata": {
  "kernelspec": {
   "display_name": "Python 3 (ipykernel)",
   "language": "python",
   "name": "python3"
  },
  "language_info": {
   "codemirror_mode": {
    "name": "ipython",
    "version": 3
   },
   "file_extension": ".py",
   "mimetype": "text/x-python",
   "name": "python",
   "nbconvert_exporter": "python",
   "pygments_lexer": "ipython3",
   "version": "3.8.8"
  },
  "toc": {
   "base_numbering": 1,
   "nav_menu": {},
   "number_sections": true,
   "sideBar": true,
   "skip_h1_title": false,
   "title_cell": "Table of Contents",
   "title_sidebar": "Contents",
   "toc_cell": false,
   "toc_position": {},
   "toc_section_display": true,
   "toc_window_display": false
  },
  "vscode": {
   "interpreter": {
    "hash": "31f2aee4e71d21fbe5cf8b01ff0e069b9275f58929596ceb00d14d90e3e16cd6"
   }
  }
 },
 "nbformat": 4,
 "nbformat_minor": 5
}
