{
 "cells": [
  {
   "cell_type": "markdown",
   "id": "123456",
   "metadata": {},
   "source": [
    "<div style=\"text-align:left;font-size:2em\"><span style=\"font-weight:bolder;font-size:1.25em\">SP2273 | Learning Portfolio</span><br><br><span style=\"font-weight:bold;color:darkred\">Functions (Good) Exercises</span></div>"
   ]
  },
  {
   "cell_type": "markdown",
   "id": "5e9b9575",
   "metadata": {},
   "source": [
    "# Exercise 1"
   ]
  },
  {
   "cell_type": "markdown",
   "id": "21e3e128",
   "metadata": {},
   "source": [
    "- Develop a function named `convert_celsius()` to convert temperatures from Celsius to either Fahrenheit or Kelvin.\n",
    "\n",
    "- The function should take two arguments:\n",
    "    - `temperature_celsius`: The temperature in Celsius.\n",
    "    - `target_scale (string)`: The target scale for conversion, with the default value set to 'Fahrenheit'.\n",
    "    \n",
    "The function should return the temperature in Kelvin if `target_scale` is `'Kelvin'`; otherwise, it should return the temperature in Fahrenheit."
   ]
  },
  {
   "cell_type": "code",
   "execution_count": 18,
   "id": "5b115678",
   "metadata": {},
   "outputs": [],
   "source": [
    "def convert_celsius(temperature_celsius, target_scale = 'Fahrenheit'):\n",
    "    if target_scale == 'Fahrenheit':\n",
    "        conversion = temperature_celsius * 9 / 5 + 32\n",
    "        return conversion\n",
    "    elif target_scale == 'Kelvin':\n",
    "        conversion = temperature_celsius + 273.15\n",
    "        return conversion\n",
    "    else:\n",
    "        return(\"Undefined targetted scale\")"
   ]
  },
  {
   "cell_type": "markdown",
   "id": "aba419a5",
   "metadata": {},
   "source": [
    "# Exercise 2"
   ]
  },
  {
   "cell_type": "code",
   "execution_count": 19,
   "id": "0210b798",
   "metadata": {},
   "outputs": [],
   "source": [
    "def convert_fahrenheit(temperature_fahrenheit, target_scale = 'Celsius'):\n",
    "    if target_scale == 'Celsius':\n",
    "        conversion = (temperature_fahrenheit - 32)*5/9\n",
    "    elif target_scale == 'Kelvin':\n",
    "        conversion = (temperature_fahrenheit - 32)*5/9 + 273.15\n",
    "    else:\n",
    "        return(\"Undefined targetted scale\")\n",
    "    return conversion"
   ]
  },
  {
   "cell_type": "markdown",
   "id": "9f712f22",
   "metadata": {},
   "source": [
    "# Exercise 3"
   ]
  },
  {
   "cell_type": "code",
   "execution_count": 13,
   "id": "90e1230d",
   "metadata": {},
   "outputs": [],
   "source": [
    "def convert_temperature(temperature, source_scale, desired_scale):\n",
    "    if source_scale == 'Celsius':\n",
    "        return convert_celsius(temperature, desired_scale)\n",
    "    elif source_scale == 'Fahrenheit':\n",
    "        return convert_fahrenheit(temperature, desired_scale)\n",
    "    elif source_scale == 'Kelvin':\n",
    "        if desired_scale == 'Celsius':\n",
    "            conversion = temperature - 273.15\n",
    "            return conversion\n",
    "        elif desired_scale == 'Farenheit':\n",
    "            conversion = (temperature - 273.15)* 1.8 + 32\n",
    "            return conversion"
   ]
  },
  {
   "cell_type": "markdown",
   "id": "d100804e",
   "metadata": {},
   "source": [
    "## Test"
   ]
  },
  {
   "cell_type": "code",
   "execution_count": 4,
   "id": "44451151",
   "metadata": {},
   "outputs": [
    {
     "data": {
      "text/plain": [
       "96.8"
      ]
     },
     "execution_count": 4,
     "metadata": {},
     "output_type": "execute_result"
    }
   ],
   "source": [
    "convert_celsius(36) # to F"
   ]
  },
  {
   "cell_type": "code",
   "execution_count": 21,
   "id": "3c5e78db",
   "metadata": {},
   "outputs": [
    {
     "data": {
      "text/plain": [
       "309.15"
      ]
     },
     "execution_count": 21,
     "metadata": {},
     "output_type": "execute_result"
    }
   ],
   "source": [
    "convert_temperature(36, 'Celsius', 'Kelvin')"
   ]
  },
  {
   "cell_type": "code",
   "execution_count": 8,
   "id": "94dcb935",
   "metadata": {},
   "outputs": [
    {
     "data": {
      "text/plain": [
       "36.0"
      ]
     },
     "execution_count": 8,
     "metadata": {},
     "output_type": "execute_result"
    }
   ],
   "source": [
    "convert_temperature(96.8, 'Fahrenheit', 'Celsius')"
   ]
  },
  {
   "cell_type": "code",
   "execution_count": 9,
   "id": "395372be",
   "metadata": {},
   "outputs": [
    {
     "data": {
      "text/plain": [
       "309.15"
      ]
     },
     "execution_count": 9,
     "metadata": {},
     "output_type": "execute_result"
    }
   ],
   "source": [
    "convert_celsius(36, 'Kelvin') #to K"
   ]
  },
  {
   "cell_type": "code",
   "execution_count": 14,
   "id": "c93321c8",
   "metadata": {},
   "outputs": [
    {
     "data": {
      "text/plain": [
       "36.0"
      ]
     },
     "execution_count": 14,
     "metadata": {},
     "output_type": "execute_result"
    }
   ],
   "source": [
    "convert_temperature(309.15, 'Kelvin', 'Celsius')"
   ]
  },
  {
   "cell_type": "code",
   "execution_count": 15,
   "id": "5f496e80",
   "metadata": {},
   "outputs": [
    {
     "data": {
      "text/plain": [
       "36.0"
      ]
     },
     "execution_count": 15,
     "metadata": {},
     "output_type": "execute_result"
    }
   ],
   "source": [
    "convert_fahrenheit(96.8) #to C"
   ]
  },
  {
   "cell_type": "code",
   "execution_count": 16,
   "id": "a1513430",
   "metadata": {},
   "outputs": [
    {
     "data": {
      "text/plain": [
       "309.15"
      ]
     },
     "execution_count": 16,
     "metadata": {},
     "output_type": "execute_result"
    }
   ],
   "source": [
    "convert_fahrenheit(96.8, 'Kelvin') #to K"
   ]
  }
 ],
 "metadata": {
  "kernelspec": {
   "display_name": "Python 3 (ipykernel)",
   "language": "python",
   "name": "python3"
  },
  "language_info": {
   "codemirror_mode": {
    "name": "ipython",
    "version": 3
   },
   "file_extension": ".py",
   "mimetype": "text/x-python",
   "name": "python",
   "nbconvert_exporter": "python",
   "pygments_lexer": "ipython3",
   "version": "3.8.8"
  },
  "toc": {
   "base_numbering": 1,
   "nav_menu": {},
   "number_sections": true,
   "sideBar": true,
   "skip_h1_title": false,
   "title_cell": "Table of Contents",
   "title_sidebar": "Contents",
   "toc_cell": false,
   "toc_position": {},
   "toc_section_display": true,
   "toc_window_display": false
  },
  "vscode": {
   "interpreter": {
    "hash": "31f2aee4e71d21fbe5cf8b01ff0e069b9275f58929596ceb00d14d90e3e16cd6"
   }
  }
 },
 "nbformat": 4,
 "nbformat_minor": 5
}
