{
 "cells": [
  {
   "cell_type": "markdown",
   "id": "123456",
   "metadata": {},
   "source": [
    "<div style=\"text-align:left;font-size:2em\"><span style=\"font-weight:bolder;font-size:1.25em\">SP2273 | Learning Portfolio</span><br><br><span style=\"font-weight:bold;color:darkred\">Storing Data (Need)</span></div>"
   ]
  },
  {
   "cell_type": "markdown",
   "id": "10b50cd3",
   "metadata": {},
   "source": [
    "# What to expect in this chapter"
   ]
  },
  {
   "cell_type": "markdown",
   "id": "e1e91682",
   "metadata": {},
   "source": [
    "# 1 Lists, Arrays & Dictionaries"
   ]
  },
  {
   "cell_type": "markdown",
   "id": "9b4781bb",
   "metadata": {},
   "source": [
    "There are three basic ways of storing data:\n",
    "- `list`: denoted by `[]`\n",
    "- NumPy `array`: denoted by `np.array[]` \n",
    "- `dictionary`"
   ]
  },
  {
   "cell_type": "markdown",
   "id": "e74ee948",
   "metadata": {},
   "source": [
    "Overview:\n",
    "    \n",
    "    \n",
    "- **Lists**: A list in Python is a collection of items which can be of different types. They are ordered and changeable, allowing duplicate members.\n",
    "- **Arrays (NumPy)**: Arrays (in the context of NumPy) are similar to lists in Python but are restricted to having elements of the same type, typically numbers. They are more memory efficient and suitable for numerical operations.\n",
    "- **Dictionaries**: A dictionary in Python is an unordered collection of data in a key:value pair form. It's an efficient way to store data for fast access later."
   ]
  },
  {
   "cell_type": "markdown",
   "id": "d7a99f36",
   "metadata": {},
   "source": [
    "## 1.1 Let’s compare"
   ]
  },
  {
   "cell_type": "markdown",
   "id": "f9605e1e",
   "metadata": {},
   "source": [
    "We can convert from a `list` to `np.array`"
   ]
  },
  {
   "cell_type": "markdown",
   "id": "81dfb90f",
   "metadata": {},
   "source": [
    "### List"
   ]
  },
  {
   "cell_type": "code",
   "execution_count": 1,
   "id": "7bd71b4e",
   "metadata": {},
   "outputs": [
    {
     "data": {
      "text/plain": [
       "[0, 1, 2, 3, 4, 5, 6, 7, 8, 9]"
      ]
     },
     "execution_count": 1,
     "metadata": {},
     "output_type": "execute_result"
    }
   ],
   "source": [
    "l = []\n",
    "for i in range(10):\n",
    "    l.append((i))\n",
    "l"
   ]
  },
  {
   "cell_type": "markdown",
   "id": "28ecdc1b",
   "metadata": {},
   "source": [
    "### Array"
   ]
  },
  {
   "cell_type": "code",
   "execution_count": 2,
   "id": "7d5a5a3a",
   "metadata": {},
   "outputs": [
    {
     "name": "stdout",
     "output_type": "stream",
     "text": [
      "<class 'numpy.ndarray'>\n"
     ]
    },
    {
     "data": {
      "text/plain": [
       "array([0, 1, 2, 3, 4, 5, 6, 7, 8, 9])"
      ]
     },
     "execution_count": 2,
     "metadata": {},
     "output_type": "execute_result"
    }
   ],
   "source": [
    "import numpy as np\n",
    "\n",
    "#convert l from list to array\n",
    "l = np.array(l)\n",
    "print(type(l))\n",
    "l"
   ]
  },
  {
   "cell_type": "markdown",
   "id": "a531ba68",
   "metadata": {},
   "source": [
    "### Dictionary"
   ]
  },
  {
   "cell_type": "markdown",
   "id": "2d044f56",
   "metadata": {},
   "source": [
    "Dictionaries use a key and an associated value separated by a `:`"
   ]
  },
  {
   "cell_type": "code",
   "execution_count": 1,
   "id": "42431e1f",
   "metadata": {},
   "outputs": [
    {
     "data": {
      "text/plain": [
       "{0: 0, 1: 1, 2: 4, 3: 9, 4: 16, 5: 25, 6: 36, 7: 49, 8: 64, 9: 81}"
      ]
     },
     "execution_count": 1,
     "metadata": {},
     "output_type": "execute_result"
    }
   ],
   "source": [
    "d = {}\n",
    "for i in range(10):\n",
    "    d[i] = i**2\n",
    "\n",
    "d"
   ]
  },
  {
   "cell_type": "markdown",
   "id": "42f35c20",
   "metadata": {},
   "source": [
    "## 1.2 Accessing data from a list (or array)"
   ]
  },
  {
   "cell_type": "markdown",
   "id": "a9742195",
   "metadata": {},
   "source": [
    "Python is a zero-indexed language, meaning it starts counting at 0. In addition, we can also start counting from backwards starting from -1\n",
    "\n",
    "Refer to the below for greater demonstration:\n",
    "![](https://bas.codes/static/fde3dfc88f51d290c09a8001bb542a51/f2f8c/python-slices.png)"
   ]
  },
  {
   "cell_type": "markdown",
   "id": "ca7ecc3d",
   "metadata": {},
   "source": [
    "To access an element in the list or array, we can do: `<list/array>[<index>]`"
   ]
  },
  {
   "cell_type": "markdown",
   "id": "1ad0b860",
   "metadata": {},
   "source": [
    "For example, if you want to access the 1st element of the list named `l`, which has index `0`, we can do:"
   ]
  },
  {
   "cell_type": "code",
   "execution_count": 4,
   "id": "9e85533f",
   "metadata": {},
   "outputs": [
    {
     "data": {
      "text/plain": [
       "0"
      ]
     },
     "execution_count": 4,
     "metadata": {},
     "output_type": "execute_result"
    }
   ],
   "source": [
    "l[0]"
   ]
  },
  {
   "cell_type": "markdown",
   "id": "68884049",
   "metadata": {},
   "source": [
    "#### Examples"
   ]
  },
  {
   "cell_type": "markdown",
   "id": "bde65e24",
   "metadata": {},
   "source": [
    "**Forward index**"
   ]
  },
  {
   "cell_type": "code",
   "execution_count": 5,
   "id": "6c321b29",
   "metadata": {},
   "outputs": [
    {
     "name": "stdout",
     "output_type": "stream",
     "text": [
      "The forward index of this number is 0, and its value is: 1\n",
      "The forward index of this number is 1, and its value is: 2\n",
      "The forward index of this number is 2, and its value is: 3\n",
      "The forward index of this number is 3, and its value is: 4\n",
      "The forward index of this number is 4, and its value is: 5\n",
      "The forward index of this number is 5, and its value is: 6\n",
      "The forward index of this number is 6, and its value is: 7\n",
      "The forward index of this number is 7, and its value is: 8\n",
      "The forward index of this number is 8, and its value is: 9\n",
      "The forward index of this number is 9, and its value is: 10\n"
     ]
    }
   ],
   "source": [
    "number = [1,2,3,4,5,6,7,8,9,10]\n",
    "for i in range(len(number)):\n",
    "    print(f'The forward index of this number is {i}, and its value is: {number[i]}')"
   ]
  },
  {
   "cell_type": "markdown",
   "id": "d41242f5",
   "metadata": {},
   "source": [
    "**Backward index**"
   ]
  },
  {
   "cell_type": "code",
   "execution_count": 6,
   "id": "a8f2361f",
   "metadata": {},
   "outputs": [
    {
     "name": "stdout",
     "output_type": "stream",
     "text": [
      "The backward index of this number is -10, and its value is: 1\n",
      "The backward index of this number is -9, and its value is: 2\n",
      "The backward index of this number is -8, and its value is: 3\n",
      "The backward index of this number is -7, and its value is: 4\n",
      "The backward index of this number is -6, and its value is: 5\n",
      "The backward index of this number is -5, and its value is: 6\n",
      "The backward index of this number is -4, and its value is: 7\n",
      "The backward index of this number is -3, and its value is: 8\n",
      "The backward index of this number is -2, and its value is: 9\n",
      "The backward index of this number is -1, and its value is: 10\n"
     ]
    }
   ],
   "source": [
    "number = [1,2,3,4,5,6,7,8,9,10]\n",
    "for i in range(-len(number), 0):\n",
    "    print(f'The backward index of this number is {i}, and its value is: {number[i]}')"
   ]
  },
  {
   "cell_type": "markdown",
   "id": "cd86ae24",
   "metadata": {},
   "source": [
    "Note, if we access an element with its index (as an integer) that is out or range of its indexing, an error `IndexError` will be thrown indicating that this index is out of the length range of the list or array"
   ]
  },
  {
   "cell_type": "code",
   "execution_count": 5,
   "id": "aae387f4",
   "metadata": {},
   "outputs": [],
   "source": [
    "#l[100]"
   ]
  },
  {
   "cell_type": "markdown",
   "id": "d97ba393",
   "metadata": {},
   "source": [
    "## 1.3 Accessing data from a dictionary"
   ]
  },
  {
   "cell_type": "markdown",
   "id": "a72a2a41",
   "metadata": {},
   "source": [
    "To access a value by using its associated key, we can use `<dict>[<key>]`"
   ]
  },
  {
   "cell_type": "code",
   "execution_count": 6,
   "id": "c3767535",
   "metadata": {},
   "outputs": [
    {
     "data": {
      "text/plain": [
       "25"
      ]
     },
     "execution_count": 6,
     "metadata": {},
     "output_type": "execute_result"
    }
   ],
   "source": [
    "# access value that is associated with key 5\n",
    "d[5]\n"
   ]
  },
  {
   "cell_type": "markdown",
   "id": "5b172d1b",
   "metadata": {},
   "source": [
    "Access all keys by `<dict>.keys()`"
   ]
  },
  {
   "cell_type": "code",
   "execution_count": 7,
   "id": "9b9ed9e5",
   "metadata": {},
   "outputs": [
    {
     "data": {
      "text/plain": [
       "dict_keys([0, 1, 2, 3, 4, 5, 6, 7, 8, 9])"
      ]
     },
     "execution_count": 7,
     "metadata": {},
     "output_type": "execute_result"
    }
   ],
   "source": [
    "d.keys()"
   ]
  },
  {
   "cell_type": "markdown",
   "id": "fc11ab12",
   "metadata": {},
   "source": [
    "Access all values by `<dict>.values()`"
   ]
  },
  {
   "cell_type": "code",
   "execution_count": 8,
   "id": "7c90ee9e",
   "metadata": {},
   "outputs": [
    {
     "data": {
      "text/plain": [
       "dict_values([0, 1, 4, 9, 16, 25, 36, 49, 64, 81])"
      ]
     },
     "execution_count": 8,
     "metadata": {},
     "output_type": "execute_result"
    }
   ],
   "source": [
    "d.values()"
   ]
  },
  {
   "cell_type": "markdown",
   "id": "ef7b1017",
   "metadata": {},
   "source": [
    "Access all (keys, values) shown in pairs by `<dict>.items()`"
   ]
  },
  {
   "cell_type": "code",
   "execution_count": 9,
   "id": "b3cea182",
   "metadata": {},
   "outputs": [
    {
     "data": {
      "text/plain": [
       "dict_items([(0, 0), (1, 1), (2, 4), (3, 9), (4, 16), (5, 25), (6, 36), (7, 49), (8, 64), (9, 81)])"
      ]
     },
     "execution_count": 9,
     "metadata": {},
     "output_type": "execute_result"
    }
   ],
   "source": [
    "d.items()"
   ]
  },
  {
   "cell_type": "markdown",
   "id": "fcbe45a0",
   "metadata": {},
   "source": [
    "## 1.4 Higher dimensional lists"
   ]
  },
  {
   "cell_type": "markdown",
   "id": "78d6876a",
   "metadata": {},
   "source": [
    "List can be nested inside another list. For example, we can use 2D list (list within list) to store a surface layer while using a 3D list (list within list within list) to store values on each unit cube in a cube."
   ]
  },
  {
   "cell_type": "markdown",
   "id": "25c6c28f",
   "metadata": {},
   "source": [
    "### 2D list or 2D array"
   ]
  },
  {
   "cell_type": "code",
   "execution_count": 10,
   "id": "6af83301",
   "metadata": {},
   "outputs": [
    {
     "data": {
      "text/plain": [
       "[[4, 2, 5], [4, 8, 1], [8, 8, 10]]"
      ]
     },
     "execution_count": 10,
     "metadata": {},
     "output_type": "execute_result"
    }
   ],
   "source": [
    "import random\n",
    "two_D = []\n",
    "for i in range(3):\n",
    "    layer = []\n",
    "    for j in range(3):\n",
    "        layer.append(random.randint(1,10))\n",
    "    two_D.append(layer)\n",
    "two_D\n",
    "#this is a surface"
   ]
  },
  {
   "cell_type": "code",
   "execution_count": 11,
   "id": "878d3767",
   "metadata": {},
   "outputs": [
    {
     "data": {
      "image/png": "[encoded data removed]",
      "text/plain": [
       "<Figure size 640x480 with 1 Axes>"
      ]
     },
     "metadata": {},
     "output_type": "display_data"
    }
   ],
   "source": [
    "import matplotlib.pyplot as plt\n",
    "x = np.array([1,2,3])\n",
    "y = np.array([1,2,3])\n",
    "\n",
    "plt.contour(x,y,two_D)\n",
    "plt.show()"
   ]
  },
  {
   "cell_type": "markdown",
   "id": "1a1d325c",
   "metadata": {},
   "source": [
    "### 3D list or 3D array"
   ]
  },
  {
   "cell_type": "code",
   "execution_count": 12,
   "id": "3b40920c",
   "metadata": {},
   "outputs": [],
   "source": [
    "# Creating a 3D list\n",
    "three_d_list = [[[1, 2, 3], [4, 5, 6], [7, 8, 9]],\n",
    "                [[10, 11, 12], [13, 14, 15], [16, 17, 18]],\n",
    "                [[19, 20, 21], [22, 23, 24], [25, 26, 27]]]\n"
   ]
  },
  {
   "cell_type": "code",
   "execution_count": 13,
   "id": "3a0a65e2",
   "metadata": {},
   "outputs": [],
   "source": [
    "import numpy as np\n",
    "\n",
    "# Creating a 3D array using NumPy\n",
    "three_d_array = np.array([[[1, 2, 3], [4, 5, 6], [7, 8, 9]],\n",
    "                          [[10, 11, 12], [13, 14, 15], [16, 17, 18]],\n",
    "                          [[19, 20, 21], [22, 23, 24], [25, 26, 27]]])\n"
   ]
  },
  {
   "cell_type": "markdown",
   "id": "7d0c5221",
   "metadata": {},
   "source": [
    "# 2 Lists vs. Arrays"
   ]
  },
  {
   "cell_type": "markdown",
   "id": "eb27e7a0",
   "metadata": {},
   "source": [
    "## 2.1 Size"
   ]
  },
  {
   "cell_type": "markdown",
   "id": "9659ded0",
   "metadata": {},
   "source": [
    "Use `len()` to access the length of list or arrays. But it can not count all the nested item"
   ]
  },
  {
   "cell_type": "code",
   "execution_count": 14,
   "id": "5bb7882e",
   "metadata": {},
   "outputs": [
    {
     "data": {
      "text/plain": [
       "numpy.ndarray"
      ]
     },
     "execution_count": 14,
     "metadata": {},
     "output_type": "execute_result"
    }
   ],
   "source": [
    "type(l)\n",
    "# now l is an array"
   ]
  },
  {
   "cell_type": "code",
   "execution_count": 15,
   "id": "8bc4ea26",
   "metadata": {},
   "outputs": [
    {
     "data": {
      "text/plain": [
       "10"
      ]
     },
     "execution_count": 15,
     "metadata": {},
     "output_type": "execute_result"
    }
   ],
   "source": [
    "len(l)"
   ]
  },
  {
   "cell_type": "markdown",
   "id": "7a4d4ff7",
   "metadata": {},
   "source": [
    "We can also use `.shape` (as an attribute) of an array to access the size of an array (in a tuple with first element denoting the number of rows and second element denoting the number of columns)"
   ]
  },
  {
   "cell_type": "code",
   "execution_count": 21,
   "id": "b9043be1",
   "metadata": {},
   "outputs": [
    {
     "data": {
      "text/plain": [
       "(10,)"
      ]
     },
     "execution_count": 21,
     "metadata": {},
     "output_type": "execute_result"
    }
   ],
   "source": [
    "l.shape\n",
    "#(10,) means 10 rows and 1 column"
   ]
  },
  {
   "cell_type": "code",
   "execution_count": 24,
   "id": "5fb7f9e0",
   "metadata": {},
   "outputs": [
    {
     "data": {
      "text/plain": [
       "(10, 2)"
      ]
     },
     "execution_count": 24,
     "metadata": {},
     "output_type": "execute_result"
    }
   ],
   "source": [
    "py_list_2d = [[1, \"A\"], [2, \"B\"], [3, \"C\"], [4, \"D\"],\n",
    "              [5, \"E\"], [6, \"F\"], [7, \"G\"], [8, \"H\"],\n",
    "              [9, \"I\"], [10, \"J\"]]\n",
    "np_array_2d = np.array(py_list_2d)\n",
    "np_array_2d.shape\n",
    "#(10,2) means 10 rows and 2 columns"
   ]
  },
  {
   "cell_type": "code",
   "execution_count": null,
   "id": "3e311b7b",
   "metadata": {},
   "outputs": [],
   "source": [
    "#convert l to list\n",
    "l = list(l)\n",
    "print(type(l))\n",
    "print(len(l))"
   ]
  },
  {
   "cell_type": "markdown",
   "id": "58179e8e",
   "metadata": {},
   "source": [
    "## 2.2 Arrays are fussy about type"
   ]
  },
  {
   "cell_type": "markdown",
   "id": "8845f091",
   "metadata": {},
   "source": [
    "All elements in an array must be of same type while list can accommodate various types of elements. When converting a list to an array, typecasting would be done to ensure all elements in array would be the same. "
   ]
  },
  {
   "cell_type": "code",
   "execution_count": 28,
   "id": "67cb1096",
   "metadata": {},
   "outputs": [
    {
     "name": "stdout",
     "output_type": "stream",
     "text": [
      "list: [1, 1.5, 'A']\n",
      "array:  ['1' '1.5' 'A']\n"
     ]
    }
   ],
   "source": [
    "py_list = [1, 1.5, 'A']\n",
    "np_array = np.array(py_list)\n",
    "print('list:', py_list)\n",
    "print('array: ',np_array)"
   ]
  },
  {
   "cell_type": "markdown",
   "id": "66ab0c02",
   "metadata": {},
   "source": [
    "## 2.3 Adding a number"
   ]
  },
  {
   "cell_type": "markdown",
   "id": "d55f5c19",
   "metadata": {},
   "source": [
    "If we want to add another element to a list, we can use `.append(<element>)`"
   ]
  },
  {
   "cell_type": "code",
   "execution_count": 30,
   "id": "cd11dc18",
   "metadata": {},
   "outputs": [
    {
     "data": {
      "text/plain": [
       "[1, 1.5, 'A', 'Hi']"
      ]
     },
     "execution_count": 30,
     "metadata": {},
     "output_type": "execute_result"
    }
   ],
   "source": [
    "py_list.append('Hi')\n",
    "py_list"
   ]
  },
  {
   "cell_type": "markdown",
   "id": "ce1749fc",
   "metadata": {},
   "source": [
    "If we want to add another element to an array, we can either use `np.append(<array1>, <array2>)` or `np.push()`"
   ]
  },
  {
   "cell_type": "code",
   "execution_count": 34,
   "id": "76753374",
   "metadata": {},
   "outputs": [
    {
     "name": "stdout",
     "output_type": "stream",
     "text": [
      "Array x :  [0 1 2]\n",
      "\n",
      "Array y :  [10 11 12 13 14]\n",
      "\n",
      "Result after appending x and y:  [ 0  1  2 10 11 12 13 14]\n"
     ]
    }
   ],
   "source": [
    "x = np.arange(3) \n",
    "print(\"Array x : \", x) \n",
    " \n",
    "y = np.arange(10,15) \n",
    "print(\"\\nArray y : \", y) \n",
    " \n",
    "res = np.append(x, y)\n",
    "print(\"\\nResult after appending x and y: \", res) "
   ]
  },
  {
   "cell_type": "markdown",
   "id": "ed32060a",
   "metadata": {},
   "source": [
    "## 2.4 Adding another list"
   ]
  },
  {
   "cell_type": "code",
   "execution_count": 36,
   "id": "790b50e6",
   "metadata": {},
   "outputs": [],
   "source": [
    "py_list_1 = [1, 2, 3, 4, 5]\n",
    "py_list_2 = [10, 20, 30, 40, 50]\n",
    "\n",
    "np_array_1 = np.array(py_list_1)\n",
    "np_array_2 = np.array(py_list_2)"
   ]
  },
  {
   "cell_type": "markdown",
   "id": "0367fa66",
   "metadata": {},
   "source": [
    "We can add two list together to form a bigger list using `+`"
   ]
  },
  {
   "cell_type": "code",
   "execution_count": 37,
   "id": "774e2c15",
   "metadata": {},
   "outputs": [
    {
     "data": {
      "text/plain": [
       "[1, 2, 3, 4, 5, 10, 20, 30, 40, 50]"
      ]
     },
     "execution_count": 37,
     "metadata": {},
     "output_type": "execute_result"
    }
   ],
   "source": [
    "py_list_1 + py_list_2"
   ]
  },
  {
   "cell_type": "markdown",
   "id": "bfa2a8d8",
   "metadata": {},
   "source": [
    "But the same thing is not working for array"
   ]
  },
  {
   "cell_type": "code",
   "execution_count": 38,
   "id": "42ba7e10",
   "metadata": {},
   "outputs": [
    {
     "data": {
      "text/plain": [
       "array([11, 22, 33, 44, 55])"
      ]
     },
     "execution_count": 38,
     "metadata": {},
     "output_type": "execute_result"
    }
   ],
   "source": [
    "np_array_1 + np_array_2"
   ]
  },
  {
   "cell_type": "markdown",
   "id": "82baa5e1",
   "metadata": {},
   "source": [
    "**Note:\n",
    "Adding lists causes them to grow in size while adding arrays is an element-wise operation**"
   ]
  },
  {
   "cell_type": "markdown",
   "id": "dc4e3fbe",
   "metadata": {},
   "source": [
    "## 2.5 Multiplying by a Number"
   ]
  },
  {
   "cell_type": "markdown",
   "id": "33717dec",
   "metadata": {},
   "source": [
    "Multiplying by a number makes a list grow, whereas an array multiplies its elements by the number!"
   ]
  },
  {
   "cell_type": "code",
   "execution_count": 41,
   "id": "b6f0498e",
   "metadata": {},
   "outputs": [],
   "source": [
    "py_list = [1, 2, 3, 4, 5]\n",
    "np_array = np.array(py_list)         "
   ]
  },
  {
   "cell_type": "code",
   "execution_count": 42,
   "id": "8c1d97d2",
   "metadata": {},
   "outputs": [
    {
     "data": {
      "text/plain": [
       "[1, 2, 3, 4, 5, 1, 2, 3, 4, 5]"
      ]
     },
     "execution_count": 42,
     "metadata": {},
     "output_type": "execute_result"
    }
   ],
   "source": [
    "py_list*2"
   ]
  },
  {
   "cell_type": "code",
   "execution_count": 43,
   "id": "3cca9cc9",
   "metadata": {},
   "outputs": [
    {
     "data": {
      "text/plain": [
       "array([ 2,  4,  6,  8, 10])"
      ]
     },
     "execution_count": 43,
     "metadata": {},
     "output_type": "execute_result"
    }
   ],
   "source": [
    "np_array*2"
   ]
  },
  {
   "cell_type": "markdown",
   "id": "09f9b004",
   "metadata": {},
   "source": [
    "## 2.6 Squaring"
   ]
  },
  {
   "cell_type": "markdown",
   "id": "14bdf392",
   "metadata": {},
   "source": [
    "To square a list, we have to add a function to it. We can do it by `map`:"
   ]
  },
  {
   "cell_type": "code",
   "execution_count": 46,
   "id": "911f16fc",
   "metadata": {},
   "outputs": [
    {
     "data": {
      "text/plain": [
       "[1, 4, 9, 16, 25]"
      ]
     },
     "execution_count": 46,
     "metadata": {},
     "output_type": "execute_result"
    }
   ],
   "source": [
    "py_list = [1, 2, 3, 4, 5]\n",
    "py_list = list(map(lambda x: x**2, py_list))\n",
    "py_list"
   ]
  },
  {
   "cell_type": "markdown",
   "id": "137e2f3b",
   "metadata": {},
   "source": [
    "Or we can iterate it:"
   ]
  },
  {
   "cell_type": "code",
   "execution_count": 48,
   "id": "07bd8368",
   "metadata": {},
   "outputs": [
    {
     "data": {
      "text/plain": [
       "[1, 4, 9, 16, 25]"
      ]
     },
     "execution_count": 48,
     "metadata": {},
     "output_type": "execute_result"
    }
   ],
   "source": [
    "py_list = [1, 2, 3, 4, 5]\n",
    "py_list = [i**2 for i in py_list]\n",
    "py_list"
   ]
  },
  {
   "cell_type": "markdown",
   "id": "cfbec0c3",
   "metadata": {},
   "source": [
    "For array, it would be element-wise operation."
   ]
  },
  {
   "cell_type": "code",
   "execution_count": 50,
   "id": "78e3f9f3",
   "metadata": {},
   "outputs": [
    {
     "data": {
      "text/plain": [
       "array([ 1,  4,  9, 16, 25])"
      ]
     },
     "execution_count": 50,
     "metadata": {},
     "output_type": "execute_result"
    }
   ],
   "source": [
    "py_list = [1, 2, 3, 4, 5]\n",
    "np_array = np.array(py_list)\n",
    "np_array**2 #yet, the original numpy does not change!"
   ]
  },
  {
   "cell_type": "code",
   "execution_count": 52,
   "id": "b5ec97bc",
   "metadata": {},
   "outputs": [
    {
     "data": {
      "text/plain": [
       "array([1, 2, 3, 4, 5])"
      ]
     },
     "execution_count": 52,
     "metadata": {},
     "output_type": "execute_result"
    }
   ],
   "source": [
    "#yet, the original numpy does not change!\n",
    "np_array"
   ]
  },
  {
   "cell_type": "markdown",
   "id": "d9f170b6",
   "metadata": {},
   "source": [
    "## 2.7 Asking questions"
   ]
  },
  {
   "cell_type": "code",
   "execution_count": 53,
   "id": "98c2ec4f",
   "metadata": {},
   "outputs": [],
   "source": [
    "py_list = [1, 2, 3, 4, 5]\n",
    "np_array = np.array(py_list)         "
   ]
  },
  {
   "cell_type": "code",
   "execution_count": 54,
   "id": "fdaa40d9",
   "metadata": {},
   "outputs": [
    {
     "data": {
      "text/plain": [
       "False"
      ]
     },
     "execution_count": 54,
     "metadata": {},
     "output_type": "execute_result"
    }
   ],
   "source": [
    "py_list == 3     # Works, but what IS the question?\n",
    "# The question here is: 'Is variable py_list equal to 3?'\n",
    "# The answer is not because py_list is an array and not equal to 3"
   ]
  },
  {
   "cell_type": "code",
   "execution_count": 57,
   "id": "00dcef0b",
   "metadata": {},
   "outputs": [],
   "source": [
    "#py_list > 3      # Won't work!\n",
    "#throw a Type Error because we are comparing two different types (list vs int)"
   ]
  },
  {
   "cell_type": "code",
   "execution_count": 60,
   "id": "2e3c9e67",
   "metadata": {},
   "outputs": [
    {
     "data": {
      "text/plain": [
       "array([False, False,  True, False, False])"
      ]
     },
     "execution_count": 60,
     "metadata": {},
     "output_type": "execute_result"
    }
   ],
   "source": [
    "np_array == 3  \n",
    "#This is again an element-wise operation hence it compares the element with 3"
   ]
  },
  {
   "cell_type": "markdown",
   "id": "08d97c3b",
   "metadata": {},
   "source": [
    "## 2.8 Mathematics"
   ]
  },
  {
   "cell_type": "markdown",
   "id": "99d41bae",
   "metadata": {},
   "source": [
    "(roughly speaking) an operation on a list works on the whole list. In contrast, an operation on an array works on the individual elements of the array."
   ]
  },
  {
   "cell_type": "markdown",
   "id": "761f5f97",
   "metadata": {},
   "source": [
    "Some mathematics operation on list include:\n",
    "- `sum()`\n",
    "- `max()`\n",
    "- `min()`\n",
    "    "
   ]
  },
  {
   "cell_type": "markdown",
   "id": "9ec68286",
   "metadata": {},
   "source": [
    "Some mathematics operation on array include:\n",
    "- `.min()`\n",
    "- `.max()`\n",
    "- `.mean()`"
   ]
  },
  {
   "cell_type": "markdown",
   "id": "f75840b9",
   "metadata": {},
   "source": [
    "# Exercises & Self-Assessment"
   ]
  },
  {
   "cell_type": "markdown",
   "id": "8ee594c9",
   "metadata": {},
   "source": [
    "## Footnotes"
   ]
  }
 ],
 "metadata": {
  "kernelspec": {
   "display_name": "Python 3 (ipykernel)",
   "language": "python",
   "name": "python3"
  },
  "language_info": {
   "codemirror_mode": {
    "name": "ipython",
    "version": 3
   },
   "file_extension": ".py",
   "mimetype": "text/x-python",
   "name": "python",
   "nbconvert_exporter": "python",
   "pygments_lexer": "ipython3",
   "version": "3.8.8"
  },
  "toc": {
   "base_numbering": 1,
   "nav_menu": {},
   "number_sections": true,
   "sideBar": true,
   "skip_h1_title": false,
   "title_cell": "Table of Contents",
   "title_sidebar": "Contents",
   "toc_cell": false,
   "toc_position": {},
   "toc_section_display": true,
   "toc_window_display": false
  },
  "vscode": {
   "interpreter": {
    "hash": "31f2aee4e71d21fbe5cf8b01ff0e069b9275f58929596ceb00d14d90e3e16cd6"
   }
  }
 },
 "nbformat": 4,
 "nbformat_minor": 5
}
