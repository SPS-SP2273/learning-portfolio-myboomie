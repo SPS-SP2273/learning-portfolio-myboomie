{
 "cells": [
  {
   "cell_type": "markdown",
   "id": "123456",
   "metadata": {},
   "source": [
    "<div style=\"text-align:left;font-size:2em\"><span style=\"font-weight:bolder;font-size:1.25em\">SP2273 | Learning Portfolio</span><br><br><span style=\"font-weight:bold;color:darkred\">Storing Data (Good)</span></div>"
   ]
  },
  {
   "cell_type": "markdown",
   "id": "e885baff",
   "metadata": {},
   "source": [
    "# What to expect in this chapter"
   ]
  },
  {
   "cell_type": "markdown",
   "id": "f08a8be9",
   "metadata": {},
   "source": [
    "# 1 Subsetting: Indexing and Slicing"
   ]
  },
  {
   "cell_type": "markdown",
   "id": "b91c9109",
   "metadata": {},
   "source": [
    "- We can select a portion (a subset) of the data by selecting a single element (**indexing** - as we access the element via its index) or select a range of elements (this is named as **slicing**)"
   ]
  },
  {
   "cell_type": "markdown",
   "id": "581d2668",
   "metadata": {},
   "source": [
    "Note:\n",
    "- **Subsetting** means to ‘select’.\n",
    "- **Indexing** refers to selecting one element.\n",
    "- **Slicing** refers to selecting a range of elements."
   ]
  },
  {
   "cell_type": "markdown",
   "id": "46762290",
   "metadata": {},
   "source": [
    "## 1.1 Lists & Arrays in 1D | Subsetting & Indexing"
   ]
  },
  {
   "cell_type": "markdown",
   "id": "df546db9",
   "metadata": {},
   "source": [
    "**Indexing** applies for both `list` and `array`. It means we can access an element via its index in the data regardless of whether the data is of type `list` or `array`"
   ]
  },
  {
   "cell_type": "markdown",
   "id": "a47db83e",
   "metadata": {},
   "source": [
    "Remember:\n",
    "- If you slice with `[i:j]`, the slice will start at `i` and end at `j-1`, giving you a total of j-i elements."
   ]
  },
  {
   "cell_type": "markdown",
   "id": "f8612861",
   "metadata": {},
   "source": [
    "![](https://www.askpython.com/wp-content/uploads/2020/03/String-Slicing-in-Python-1024x768.png.webp)"
   ]
  },
  {
   "cell_type": "markdown",
   "id": "e1fa1c57",
   "metadata": {},
   "source": [
    "## 1.2 Arrays only | Subsetting by masking"
   ]
  },
  {
   "cell_type": "markdown",
   "id": "50743b1f",
   "metadata": {},
   "source": [
    "Masking is using a condition to convert the element in an array to Boolean type. If the element satisfies the condition, it will be converted to `True` and `False` otherwise"
   ]
  },
  {
   "cell_type": "code",
   "execution_count": 7,
   "id": "e02f6f8c",
   "metadata": {},
   "outputs": [
    {
     "data": {
      "text/plain": [
       "array([False, False, False,  True,  True,  True,  True,  True,  True,\n",
       "        True])"
      ]
     },
     "execution_count": 7,
     "metadata": {},
     "output_type": "execute_result"
    }
   ],
   "source": [
    "import numpy as np\n",
    "np_array = np.array([1, 2, 3, 4, 5, 6, 7, 8, 9, 10])\n",
    "my_mask = np_array > 3\n",
    "my_mask"
   ]
  },
  {
   "cell_type": "code",
   "execution_count": 8,
   "id": "257667d1",
   "metadata": {},
   "outputs": [],
   "source": [
    "np_array = np_array[my_mask]\n",
    "#Now, only element that is True will be returned since my_mask is of Boolean type"
   ]
  },
  {
   "cell_type": "markdown",
   "id": "b673afa0",
   "metadata": {},
   "source": [
    "## `~` Symbol "
   ]
  },
  {
   "cell_type": "markdown",
   "id": "52259705",
   "metadata": {},
   "source": [
    "We can invert our mask by using the `~`, which is the `Bitwise Not` operator (basically means `otherwise`)"
   ]
  },
  {
   "cell_type": "code",
   "execution_count": 10,
   "id": "7956f23e",
   "metadata": {},
   "outputs": [
    {
     "data": {
      "text/plain": [
       "array([1, 2, 3])"
      ]
     },
     "execution_count": 10,
     "metadata": {},
     "output_type": "execute_result"
    }
   ],
   "source": [
    "np_array = np.array([1, 2, 3, 4, 5, 6, 7, 8, 9, 10])\n",
    "np_array[~(np_array > 3)]                 # '~' means 'NOT'\n",
    "#only returns elements that are not greater than 3"
   ]
  },
  {
   "cell_type": "markdown",
   "id": "5953d292",
   "metadata": {},
   "source": [
    "## `&` Symbol"
   ]
  },
  {
   "cell_type": "markdown",
   "id": "d141f63c",
   "metadata": {},
   "source": [
    "We can have multiple conditions for our masking by using the operator `&`"
   ]
  },
  {
   "cell_type": "code",
   "execution_count": 11,
   "id": "39197d21",
   "metadata": {},
   "outputs": [
    {
     "data": {
      "text/plain": [
       "array([4, 5, 6, 7])"
      ]
     },
     "execution_count": 11,
     "metadata": {},
     "output_type": "execute_result"
    }
   ],
   "source": [
    "np_array[(np_array > 3) & (np_array < 8)] # '&' means 'AND'\n",
    "#only return elements that are greater than 3 and smaller than 8"
   ]
  },
  {
   "cell_type": "markdown",
   "id": "819342b1",
   "metadata": {},
   "source": [
    "## `|` Symbol"
   ]
  },
  {
   "cell_type": "markdown",
   "id": "dd9ae07b",
   "metadata": {},
   "source": [
    "But we can also return elements that satisfy at least one of those multiple conditions"
   ]
  },
  {
   "cell_type": "code",
   "execution_count": 12,
   "id": "ec0eb8e5",
   "metadata": {},
   "outputs": [
    {
     "data": {
      "text/plain": [
       "array([ 1,  2,  9, 10])"
      ]
     },
     "execution_count": 12,
     "metadata": {},
     "output_type": "execute_result"
    }
   ],
   "source": [
    "#only return elements that are smaller than 3 or greater than 8\n",
    "np_array[(np_array < 3) | (np_array > 8)] # '|' means 'OR'"
   ]
  },
  {
   "cell_type": "markdown",
   "id": "ff99b36b",
   "metadata": {},
   "source": [
    "**However, this masking is only applicable for arrays**"
   ]
  },
  {
   "cell_type": "markdown",
   "id": "a191efc8",
   "metadata": {},
   "source": [
    "## 1.3 Lists & Arrays in 2D | Indexing & Slicing"
   ]
  },
  {
   "cell_type": "markdown",
   "id": "5dc46bb8",
   "metadata": {},
   "source": [
    "### Not nested element"
   ]
  },
  {
   "cell_type": "markdown",
   "id": "026927f4",
   "metadata": {},
   "source": [
    "Accessing elements that are not nested is similar in both lists and array by the square brackets followed by an interger `[<int>]`"
   ]
  },
  {
   "cell_type": "code",
   "execution_count": 13,
   "id": "c44c4315",
   "metadata": {},
   "outputs": [],
   "source": [
    "py_list_2d = [[1, \"A\"], [2, \"B\"], [3, \"C\"], [4, \"D\"],\n",
    "              [5, \"E\"], [6, \"F\"], [7, \"G\"], [8, \"H\"],\n",
    "              [9, \"I\"], [10, \"J\"]]\n",
    "\n",
    "np_array_2d = np.array(py_list_2d)"
   ]
  },
  {
   "cell_type": "code",
   "execution_count": 14,
   "id": "784ab223",
   "metadata": {},
   "outputs": [
    {
     "data": {
      "text/plain": [
       "[4, 'D']"
      ]
     },
     "execution_count": 14,
     "metadata": {},
     "output_type": "execute_result"
    }
   ],
   "source": [
    "py_list_2d[3]"
   ]
  },
  {
   "cell_type": "code",
   "execution_count": 15,
   "id": "9d2be8e0",
   "metadata": {},
   "outputs": [
    {
     "data": {
      "text/plain": [
       "array(['4', 'D'], dtype='<U21')"
      ]
     },
     "execution_count": 15,
     "metadata": {},
     "output_type": "execute_result"
    }
   ],
   "source": [
    "np_array_2d[3]"
   ]
  },
  {
   "cell_type": "markdown",
   "id": "5e759d4e",
   "metadata": {},
   "source": [
    "Both yield similar answer"
   ]
  },
  {
   "cell_type": "markdown",
   "id": "03d9ee4f",
   "metadata": {},
   "source": [
    "### Nested element (2D/3D and above)"
   ]
  },
  {
   "cell_type": "markdown",
   "id": "7f162289",
   "metadata": {},
   "source": [
    "#### List"
   ]
  },
  {
   "cell_type": "markdown",
   "id": "52b93f08",
   "metadata": {},
   "source": [
    "To access a nested element in a nested list (2D/3D), we can have multiple square brackets `[]`. The order of the brackets will determine the subsequent layers of elements we want to access"
   ]
  },
  {
   "cell_type": "code",
   "execution_count": 16,
   "id": "95743e55",
   "metadata": {},
   "outputs": [
    {
     "data": {
      "text/plain": [
       "4"
      ]
     },
     "execution_count": 16,
     "metadata": {},
     "output_type": "execute_result"
    }
   ],
   "source": [
    "py_list_2d[3][0]\n",
    "# there are 2 brackets [3] and [0]. The first bracket [3] means 'going to the 1st layer and take element of index 3';\n",
    "# the second bracket [0] means 'from there, take the element of index 0'"
   ]
  },
  {
   "cell_type": "markdown",
   "id": "e9389472",
   "metadata": {},
   "source": [
    "#### Array"
   ]
  },
  {
   "cell_type": "markdown",
   "id": "2589de1e",
   "metadata": {},
   "source": [
    "To access a nested array, we just use a single pair of square brackets with series of intergers inside with its order indicating the layer and its value indicating the index of that particular layer"
   ]
  },
  {
   "cell_type": "code",
   "execution_count": 17,
   "id": "e8e6fa66",
   "metadata": {},
   "outputs": [
    {
     "data": {
      "text/plain": [
       "'4'"
      ]
     },
     "execution_count": 17,
     "metadata": {},
     "output_type": "execute_result"
    }
   ],
   "source": [
    "np_array_2d[3, 0]"
   ]
  },
  {
   "cell_type": "markdown",
   "id": "89ce7f10",
   "metadata": {},
   "source": [
    "### Other miscellaneous"
   ]
  },
  {
   "cell_type": "code",
   "execution_count": 23,
   "id": "3767a882",
   "metadata": {},
   "outputs": [
    {
     "name": "stdout",
     "output_type": "stream",
     "text": [
      "First 3 elements: A =  [[1, 'A'], [2, 'B'], [3, 'C']]\n",
      "Now, take first element of A:  [1, 'A']\n",
      "py_list_2d[:3][0] is equivalent to:  [1, 'A']\n"
     ]
    }
   ],
   "source": [
    "py_list_2d[:3][0]\n",
    "# this is equivalent to:\n",
    "#1. get the first 3 elements of py_list_2d. Let A be a list containing those 3 elements\n",
    "#2. then, take the first element of A\n",
    "A = py_list_2d[:3]\n",
    "print('First 3 elements: A = ', A)\n",
    "print('Now, take first element of A: ', A[0])\n",
    "print('py_list_2d[:3][0] is equivalent to: ', py_list_2d[:3][0])"
   ]
  },
  {
   "cell_type": "markdown",
   "id": "394199f4",
   "metadata": {},
   "source": [
    "### Documentation for Slicing in Numpy array "
   ]
  },
  {
   "cell_type": "markdown",
   "id": "c60f7f16",
   "metadata": {},
   "source": [
    "Reference: [Numpy Array slicing](https://www.w3schools.com/python/numpy/numpy_array_slicing.asp)"
   ]
  },
  {
   "cell_type": "markdown",
   "id": "48f0894c",
   "metadata": {},
   "source": [
    "![](https://miro.medium.com/v2/resize:fit:1400/1*W9DYV8pLr8AKVXJefwJBng.png)"
   ]
  },
  {
   "cell_type": "code",
   "execution_count": null,
   "id": "c5f51644",
   "metadata": {},
   "outputs": [],
   "source": [
    "np_array_2d[:3, 0]\n",
    "#here, the first part ':3' means select the first 3 rows\n",
    "#then, we will select the first element of those 3 rows\n",
    "# np_array_2d = [1,\n",
    "#                2,\n",
    "#                3,\n",
    "#                4,\n",
    "#                5,\n",
    "#                6,\n",
    "#                7,\n",
    "#                8,\n",
    "#                9,\n",
    "#                10\n",
    "#                 ]"
   ]
  },
  {
   "cell_type": "markdown",
   "id": "be565c41",
   "metadata": {},
   "source": [
    "## Some common slicing syntax"
   ]
  },
  {
   "cell_type": "markdown",
   "id": "defdaea6",
   "metadata": {},
   "source": [
    "![](https://prepinstadotcom.s3.ap-south-1.amazonaws.com/wp-content/uploads/2020/07/Slicing-in-python.webp)"
   ]
  },
  {
   "cell_type": "markdown",
   "id": "91cdaf5a",
   "metadata": {},
   "source": [
    "## 1.4 Growing lists"
   ]
  },
  {
   "cell_type": "markdown",
   "id": "c03025d8",
   "metadata": {},
   "source": [
    "Lists are more easy and efficient to append while arrays are not (but they are more proficient in operations)"
   ]
  },
  {
   "cell_type": "markdown",
   "id": "17a9e1de",
   "metadata": {},
   "source": [
    "We can use `append()` or `extend()` to grow a list"
   ]
  },
  {
   "cell_type": "markdown",
   "id": "e2ff95f2",
   "metadata": {},
   "source": [
    "### Adding list: `.append()`"
   ]
  },
  {
   "cell_type": "markdown",
   "id": "b893935b",
   "metadata": {},
   "source": [
    "`.append()` adds its argument as a single element to the end of a list. The length of the list increases by one."
   ]
  },
  {
   "cell_type": "code",
   "execution_count": null,
   "id": "28e64b3c",
   "metadata": {},
   "outputs": [],
   "source": [
    "list1 = [1, 2, 3]\n",
    "\n",
    "# Appending a single element\n",
    "list1.append(4)\n",
    "print(list1)  # Output: [1, 2, 3, 4]\n",
    "\n",
    "# Appending another list as a single element\n",
    "list1.append([5, 6])\n",
    "print(list1)  # Output: [1, 2, 3, 4, [5, 6]]\n"
   ]
  },
  {
   "cell_type": "markdown",
   "id": "6376d251",
   "metadata": {},
   "source": [
    "### Adding list: `.extend()`"
   ]
  },
  {
   "cell_type": "markdown",
   "id": "2d2cf7f6",
   "metadata": {},
   "source": [
    "`.extend()` adds each element of its argument to the list.The length of the list increases by however many elements were in the iterable added."
   ]
  },
  {
   "cell_type": "code",
   "execution_count": 27,
   "id": "87a4fde4",
   "metadata": {},
   "outputs": [
    {
     "name": "stdout",
     "output_type": "stream",
     "text": [
      "[1, 2, 3, 4, 5]\n",
      "[1, 2, 3, 4, 5, 6, 7]\n"
     ]
    }
   ],
   "source": [
    "list2 = [1, 2, 3]\n",
    "\n",
    "# Extending with another list\n",
    "list2.extend([4, 5])\n",
    "print(list2)  # Output: [1, 2, 3, 4, 5]\n",
    "\n",
    "# Extending with a tuple\n",
    "list2.extend((6, 7))\n",
    "print(list2)  # Output: [1, 2, 3, 4, 5, 6, 7]"
   ]
  },
  {
   "cell_type": "markdown",
   "id": "cab40f5e",
   "metadata": {},
   "source": [
    "In this example, `extend([4, 5])` adds each element of `[4, 5]` to `list2`, and `extend((6, 7))` does the same with the tuple `(6, 7)`."
   ]
  },
  {
   "cell_type": "markdown",
   "id": "8909f043",
   "metadata": {},
   "source": [
    "# Some loose ends"
   ]
  },
  {
   "cell_type": "markdown",
   "id": "923e067c",
   "metadata": {},
   "source": [
    "## 1.5 Tuples"
   ]
  },
  {
   "cell_type": "markdown",
   "id": "295858c9",
   "metadata": {},
   "source": [
    "Tuples are denoted by `()` and imutable. Hence, we cannot change it."
   ]
  },
  {
   "cell_type": "code",
   "execution_count": 37,
   "id": "76241f26",
   "metadata": {},
   "outputs": [],
   "source": [
    "a = (1,2,3)\n",
    "#a[0] = 1\n",
    "#a\n",
    "#this will throw an error"
   ]
  },
  {
   "cell_type": "code",
   "execution_count": null,
   "id": "3534769c",
   "metadata": {},
   "outputs": [],
   "source": [
    "To add to a tuple, we can do:"
   ]
  },
  {
   "cell_type": "code",
   "execution_count": 38,
   "id": "d5571763",
   "metadata": {},
   "outputs": [
    {
     "data": {
      "text/plain": [
       "(1, 2, 3, 4)"
      ]
     },
     "execution_count": 38,
     "metadata": {},
     "output_type": "execute_result"
    }
   ],
   "source": [
    "a = a + (4,)\n",
    "a"
   ]
  },
  {
   "cell_type": "markdown",
   "id": "979b89fb",
   "metadata": {},
   "source": [
    "To do some operation on a tuple, we have to create another variable and iterate through the tuple"
   ]
  },
  {
   "cell_type": "code",
   "execution_count": 39,
   "id": "7f10bd49",
   "metadata": {},
   "outputs": [
    {
     "name": "stdout",
     "output_type": "stream",
     "text": [
      "(1, 4, 9, 16)\n"
     ]
    }
   ],
   "source": [
    "a = tuple(i**2 for i in a)\n",
    "print(a)"
   ]
  },
  {
   "cell_type": "markdown",
   "id": "f43d4db7",
   "metadata": {},
   "source": [
    "## 1.6 Be VERY careful when copying"
   ]
  },
  {
   "cell_type": "code",
   "execution_count": 40,
   "id": "8b93cb40",
   "metadata": {},
   "outputs": [],
   "source": [
    "x=[1, 2, 3]\n",
    "y=x           # DON'T do this!\n",
    "z=x           # DON'T do this!"
   ]
  },
  {
   "cell_type": "markdown",
   "id": "96ccc349",
   "metadata": {},
   "source": [
    "Doing like the above will mean both x,y,z are referring to the same address that holds the list `[1,2,3]`. Hence, when you access this list by either `x`, `y`, and `z`, the other variables will be changed too"
   ]
  },
  {
   "cell_type": "code",
   "execution_count": 43,
   "id": "53c8af33",
   "metadata": {},
   "outputs": [
    {
     "name": "stdout",
     "output_type": "stream",
     "text": [
      "x: [10, 2, 3], y: [10, 2, 3], z: [10, 2, 3]\n"
     ]
    }
   ],
   "source": [
    "x[0] = 10\n",
    "print(f'x: {x}, y: {y}, z: {z}')\n",
    "#we are only changing x but y and z are changed too since they are the same thing"
   ]
  },
  {
   "cell_type": "markdown",
   "id": "776f3847",
   "metadata": {},
   "source": [
    "Hence, we must use `.copy()` to create another address that holds the same value of list `[1,2,3]`. For nested list, we can use `deepcopy()`"
   ]
  },
  {
   "cell_type": "code",
   "execution_count": 44,
   "id": "6a6f5c69",
   "metadata": {},
   "outputs": [
    {
     "name": "stdout",
     "output_type": "stream",
     "text": [
      "x: ['changed', 2, 3], y: [1, 2, 3], z: [1, 2, 3]\n"
     ]
    }
   ],
   "source": [
    "x=[1, 2, 3]\n",
    "y=x.copy()\n",
    "z=x.copy()\n",
    "x[0]='changed'\n",
    "print(f'x: {x}, y: {y}, z: {z}')\n",
    "#here, y and z are not changed"
   ]
  },
  {
   "cell_type": "markdown",
   "id": "981bfb6b",
   "metadata": {},
   "source": [
    "# Exercises & Self-Assessment"
   ]
  },
  {
   "cell_type": "markdown",
   "id": "86546c97",
   "metadata": {},
   "source": [
    "## Footnotes"
   ]
  }
 ],
 "metadata": {
  "kernelspec": {
   "display_name": "Python 3 (ipykernel)",
   "language": "python",
   "name": "python3"
  },
  "language_info": {
   "codemirror_mode": {
    "name": "ipython",
    "version": 3
   },
   "file_extension": ".py",
   "mimetype": "text/x-python",
   "name": "python",
   "nbconvert_exporter": "python",
   "pygments_lexer": "ipython3",
   "version": "3.8.8"
  },
  "toc": {
   "base_numbering": 1,
   "nav_menu": {},
   "number_sections": true,
   "sideBar": true,
   "skip_h1_title": false,
   "title_cell": "Table of Contents",
   "title_sidebar": "Contents",
   "toc_cell": false,
   "toc_position": {},
   "toc_section_display": true,
   "toc_window_display": false
  },
  "vscode": {
   "interpreter": {
    "hash": "31f2aee4e71d21fbe5cf8b01ff0e069b9275f58929596ceb00d14d90e3e16cd6"
   }
  }
 },
 "nbformat": 4,
 "nbformat_minor": 5
}
